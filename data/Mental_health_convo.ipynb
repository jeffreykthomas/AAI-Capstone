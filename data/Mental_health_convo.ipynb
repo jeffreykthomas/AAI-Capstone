{
  "nbformat": 4,
  "nbformat_minor": 0,
  "metadata": {
    "colab": {
      "provenance": []
    },
    "kernelspec": {
      "name": "python3",
      "display_name": "Python 3"
    },
    "language_info": {
      "name": "python"
    },
    "widgets": {
      "application/vnd.jupyter.widget-state+json": {
        "9f9e8e3b9f474707a300dc410ef1b30f": {
          "model_module": "@jupyter-widgets/controls",
          "model_name": "HBoxModel",
          "model_module_version": "1.5.0",
          "state": {
            "_dom_classes": [],
            "_model_module": "@jupyter-widgets/controls",
            "_model_module_version": "1.5.0",
            "_model_name": "HBoxModel",
            "_view_count": null,
            "_view_module": "@jupyter-widgets/controls",
            "_view_module_version": "1.5.0",
            "_view_name": "HBoxView",
            "box_style": "",
            "children": [
              "IPY_MODEL_dd921524b1ca47ebb759fac7168b7153",
              "IPY_MODEL_21619e4f73714d5fbe1d27465bb628f0",
              "IPY_MODEL_33f0e2fa938e45e9b9af75afc0b9840e"
            ],
            "layout": "IPY_MODEL_d9259f8761f447ccbb5242da5b021d8a"
          }
        },
        "dd921524b1ca47ebb759fac7168b7153": {
          "model_module": "@jupyter-widgets/controls",
          "model_name": "HTMLModel",
          "model_module_version": "1.5.0",
          "state": {
            "_dom_classes": [],
            "_model_module": "@jupyter-widgets/controls",
            "_model_module_version": "1.5.0",
            "_model_name": "HTMLModel",
            "_view_count": null,
            "_view_module": "@jupyter-widgets/controls",
            "_view_module_version": "1.5.0",
            "_view_name": "HTMLView",
            "description": "",
            "description_tooltip": null,
            "layout": "IPY_MODEL_fe8996f2eee44a1e9a14b8897657066c",
            "placeholder": "​",
            "style": "IPY_MODEL_a5a0ad979fd14a2a961aba6aba3a1b73",
            "value": "Downloading readme: 100%"
          }
        },
        "21619e4f73714d5fbe1d27465bb628f0": {
          "model_module": "@jupyter-widgets/controls",
          "model_name": "FloatProgressModel",
          "model_module_version": "1.5.0",
          "state": {
            "_dom_classes": [],
            "_model_module": "@jupyter-widgets/controls",
            "_model_module_version": "1.5.0",
            "_model_name": "FloatProgressModel",
            "_view_count": null,
            "_view_module": "@jupyter-widgets/controls",
            "_view_module_version": "1.5.0",
            "_view_name": "ProgressView",
            "bar_style": "success",
            "description": "",
            "description_tooltip": null,
            "layout": "IPY_MODEL_c7865659252d4b429b0ecb834606e13d",
            "max": 840,
            "min": 0,
            "orientation": "horizontal",
            "style": "IPY_MODEL_b7e706853eab488c853527813428b922",
            "value": 840
          }
        },
        "33f0e2fa938e45e9b9af75afc0b9840e": {
          "model_module": "@jupyter-widgets/controls",
          "model_name": "HTMLModel",
          "model_module_version": "1.5.0",
          "state": {
            "_dom_classes": [],
            "_model_module": "@jupyter-widgets/controls",
            "_model_module_version": "1.5.0",
            "_model_name": "HTMLModel",
            "_view_count": null,
            "_view_module": "@jupyter-widgets/controls",
            "_view_module_version": "1.5.0",
            "_view_name": "HTMLView",
            "description": "",
            "description_tooltip": null,
            "layout": "IPY_MODEL_2531ff732c1547faae84dca917a70ff1",
            "placeholder": "​",
            "style": "IPY_MODEL_348cc0aad0df482cb325db05f466ec87",
            "value": " 840/840 [00:00&lt;00:00, 34.6kB/s]"
          }
        },
        "d9259f8761f447ccbb5242da5b021d8a": {
          "model_module": "@jupyter-widgets/base",
          "model_name": "LayoutModel",
          "model_module_version": "1.2.0",
          "state": {
            "_model_module": "@jupyter-widgets/base",
            "_model_module_version": "1.2.0",
            "_model_name": "LayoutModel",
            "_view_count": null,
            "_view_module": "@jupyter-widgets/base",
            "_view_module_version": "1.2.0",
            "_view_name": "LayoutView",
            "align_content": null,
            "align_items": null,
            "align_self": null,
            "border": null,
            "bottom": null,
            "display": null,
            "flex": null,
            "flex_flow": null,
            "grid_area": null,
            "grid_auto_columns": null,
            "grid_auto_flow": null,
            "grid_auto_rows": null,
            "grid_column": null,
            "grid_gap": null,
            "grid_row": null,
            "grid_template_areas": null,
            "grid_template_columns": null,
            "grid_template_rows": null,
            "height": null,
            "justify_content": null,
            "justify_items": null,
            "left": null,
            "margin": null,
            "max_height": null,
            "max_width": null,
            "min_height": null,
            "min_width": null,
            "object_fit": null,
            "object_position": null,
            "order": null,
            "overflow": null,
            "overflow_x": null,
            "overflow_y": null,
            "padding": null,
            "right": null,
            "top": null,
            "visibility": null,
            "width": null
          }
        },
        "fe8996f2eee44a1e9a14b8897657066c": {
          "model_module": "@jupyter-widgets/base",
          "model_name": "LayoutModel",
          "model_module_version": "1.2.0",
          "state": {
            "_model_module": "@jupyter-widgets/base",
            "_model_module_version": "1.2.0",
            "_model_name": "LayoutModel",
            "_view_count": null,
            "_view_module": "@jupyter-widgets/base",
            "_view_module_version": "1.2.0",
            "_view_name": "LayoutView",
            "align_content": null,
            "align_items": null,
            "align_self": null,
            "border": null,
            "bottom": null,
            "display": null,
            "flex": null,
            "flex_flow": null,
            "grid_area": null,
            "grid_auto_columns": null,
            "grid_auto_flow": null,
            "grid_auto_rows": null,
            "grid_column": null,
            "grid_gap": null,
            "grid_row": null,
            "grid_template_areas": null,
            "grid_template_columns": null,
            "grid_template_rows": null,
            "height": null,
            "justify_content": null,
            "justify_items": null,
            "left": null,
            "margin": null,
            "max_height": null,
            "max_width": null,
            "min_height": null,
            "min_width": null,
            "object_fit": null,
            "object_position": null,
            "order": null,
            "overflow": null,
            "overflow_x": null,
            "overflow_y": null,
            "padding": null,
            "right": null,
            "top": null,
            "visibility": null,
            "width": null
          }
        },
        "a5a0ad979fd14a2a961aba6aba3a1b73": {
          "model_module": "@jupyter-widgets/controls",
          "model_name": "DescriptionStyleModel",
          "model_module_version": "1.5.0",
          "state": {
            "_model_module": "@jupyter-widgets/controls",
            "_model_module_version": "1.5.0",
            "_model_name": "DescriptionStyleModel",
            "_view_count": null,
            "_view_module": "@jupyter-widgets/base",
            "_view_module_version": "1.2.0",
            "_view_name": "StyleView",
            "description_width": ""
          }
        },
        "c7865659252d4b429b0ecb834606e13d": {
          "model_module": "@jupyter-widgets/base",
          "model_name": "LayoutModel",
          "model_module_version": "1.2.0",
          "state": {
            "_model_module": "@jupyter-widgets/base",
            "_model_module_version": "1.2.0",
            "_model_name": "LayoutModel",
            "_view_count": null,
            "_view_module": "@jupyter-widgets/base",
            "_view_module_version": "1.2.0",
            "_view_name": "LayoutView",
            "align_content": null,
            "align_items": null,
            "align_self": null,
            "border": null,
            "bottom": null,
            "display": null,
            "flex": null,
            "flex_flow": null,
            "grid_area": null,
            "grid_auto_columns": null,
            "grid_auto_flow": null,
            "grid_auto_rows": null,
            "grid_column": null,
            "grid_gap": null,
            "grid_row": null,
            "grid_template_areas": null,
            "grid_template_columns": null,
            "grid_template_rows": null,
            "height": null,
            "justify_content": null,
            "justify_items": null,
            "left": null,
            "margin": null,
            "max_height": null,
            "max_width": null,
            "min_height": null,
            "min_width": null,
            "object_fit": null,
            "object_position": null,
            "order": null,
            "overflow": null,
            "overflow_x": null,
            "overflow_y": null,
            "padding": null,
            "right": null,
            "top": null,
            "visibility": null,
            "width": null
          }
        },
        "b7e706853eab488c853527813428b922": {
          "model_module": "@jupyter-widgets/controls",
          "model_name": "ProgressStyleModel",
          "model_module_version": "1.5.0",
          "state": {
            "_model_module": "@jupyter-widgets/controls",
            "_model_module_version": "1.5.0",
            "_model_name": "ProgressStyleModel",
            "_view_count": null,
            "_view_module": "@jupyter-widgets/base",
            "_view_module_version": "1.2.0",
            "_view_name": "StyleView",
            "bar_color": null,
            "description_width": ""
          }
        },
        "2531ff732c1547faae84dca917a70ff1": {
          "model_module": "@jupyter-widgets/base",
          "model_name": "LayoutModel",
          "model_module_version": "1.2.0",
          "state": {
            "_model_module": "@jupyter-widgets/base",
            "_model_module_version": "1.2.0",
            "_model_name": "LayoutModel",
            "_view_count": null,
            "_view_module": "@jupyter-widgets/base",
            "_view_module_version": "1.2.0",
            "_view_name": "LayoutView",
            "align_content": null,
            "align_items": null,
            "align_self": null,
            "border": null,
            "bottom": null,
            "display": null,
            "flex": null,
            "flex_flow": null,
            "grid_area": null,
            "grid_auto_columns": null,
            "grid_auto_flow": null,
            "grid_auto_rows": null,
            "grid_column": null,
            "grid_gap": null,
            "grid_row": null,
            "grid_template_areas": null,
            "grid_template_columns": null,
            "grid_template_rows": null,
            "height": null,
            "justify_content": null,
            "justify_items": null,
            "left": null,
            "margin": null,
            "max_height": null,
            "max_width": null,
            "min_height": null,
            "min_width": null,
            "object_fit": null,
            "object_position": null,
            "order": null,
            "overflow": null,
            "overflow_x": null,
            "overflow_y": null,
            "padding": null,
            "right": null,
            "top": null,
            "visibility": null,
            "width": null
          }
        },
        "348cc0aad0df482cb325db05f466ec87": {
          "model_module": "@jupyter-widgets/controls",
          "model_name": "DescriptionStyleModel",
          "model_module_version": "1.5.0",
          "state": {
            "_model_module": "@jupyter-widgets/controls",
            "_model_module_version": "1.5.0",
            "_model_name": "DescriptionStyleModel",
            "_view_count": null,
            "_view_module": "@jupyter-widgets/base",
            "_view_module_version": "1.2.0",
            "_view_name": "StyleView",
            "description_width": ""
          }
        },
        "d5e24cabd2b44035b4a880918d1e83df": {
          "model_module": "@jupyter-widgets/controls",
          "model_name": "HBoxModel",
          "model_module_version": "1.5.0",
          "state": {
            "_dom_classes": [],
            "_model_module": "@jupyter-widgets/controls",
            "_model_module_version": "1.5.0",
            "_model_name": "HBoxModel",
            "_view_count": null,
            "_view_module": "@jupyter-widgets/controls",
            "_view_module_version": "1.5.0",
            "_view_name": "HBoxView",
            "box_style": "",
            "children": [
              "IPY_MODEL_ce60c15e5d1a4e6181f61713b97952c0",
              "IPY_MODEL_b71e1680f4a84093ab312b362c282bdf",
              "IPY_MODEL_6810e63fd1cf4be3ae9d41a4f757e813"
            ],
            "layout": "IPY_MODEL_38bf78ef825e4b42a314ce9010864443"
          }
        },
        "ce60c15e5d1a4e6181f61713b97952c0": {
          "model_module": "@jupyter-widgets/controls",
          "model_name": "HTMLModel",
          "model_module_version": "1.5.0",
          "state": {
            "_dom_classes": [],
            "_model_module": "@jupyter-widgets/controls",
            "_model_module_version": "1.5.0",
            "_model_name": "HTMLModel",
            "_view_count": null,
            "_view_module": "@jupyter-widgets/controls",
            "_view_module_version": "1.5.0",
            "_view_name": "HTMLView",
            "description": "",
            "description_tooltip": null,
            "layout": "IPY_MODEL_b444e13072b14f90a8b2754422ce5172",
            "placeholder": "​",
            "style": "IPY_MODEL_b252f5e2181044f597e2683fa19c6887",
            "value": "Downloading data: 100%"
          }
        },
        "b71e1680f4a84093ab312b362c282bdf": {
          "model_module": "@jupyter-widgets/controls",
          "model_name": "FloatProgressModel",
          "model_module_version": "1.5.0",
          "state": {
            "_dom_classes": [],
            "_model_module": "@jupyter-widgets/controls",
            "_model_module_version": "1.5.0",
            "_model_name": "FloatProgressModel",
            "_view_count": null,
            "_view_module": "@jupyter-widgets/controls",
            "_view_module_version": "1.5.0",
            "_view_name": "ProgressView",
            "bar_style": "success",
            "description": "",
            "description_tooltip": null,
            "layout": "IPY_MODEL_9ac3fe648d8b482ba878a7c284c04249",
            "max": 3638427,
            "min": 0,
            "orientation": "horizontal",
            "style": "IPY_MODEL_f16281b953ad446a827f761b61fb6da7",
            "value": 3638427
          }
        },
        "6810e63fd1cf4be3ae9d41a4f757e813": {
          "model_module": "@jupyter-widgets/controls",
          "model_name": "HTMLModel",
          "model_module_version": "1.5.0",
          "state": {
            "_dom_classes": [],
            "_model_module": "@jupyter-widgets/controls",
            "_model_module_version": "1.5.0",
            "_model_name": "HTMLModel",
            "_view_count": null,
            "_view_module": "@jupyter-widgets/controls",
            "_view_module_version": "1.5.0",
            "_view_name": "HTMLView",
            "description": "",
            "description_tooltip": null,
            "layout": "IPY_MODEL_4a050ccb1d9d469ab1ae1f5bedbe2505",
            "placeholder": "​",
            "style": "IPY_MODEL_fe6686e6a481466987e343995dc91c45",
            "value": " 3.64M/3.64M [00:00&lt;00:00, 4.35MB/s]"
          }
        },
        "38bf78ef825e4b42a314ce9010864443": {
          "model_module": "@jupyter-widgets/base",
          "model_name": "LayoutModel",
          "model_module_version": "1.2.0",
          "state": {
            "_model_module": "@jupyter-widgets/base",
            "_model_module_version": "1.2.0",
            "_model_name": "LayoutModel",
            "_view_count": null,
            "_view_module": "@jupyter-widgets/base",
            "_view_module_version": "1.2.0",
            "_view_name": "LayoutView",
            "align_content": null,
            "align_items": null,
            "align_self": null,
            "border": null,
            "bottom": null,
            "display": null,
            "flex": null,
            "flex_flow": null,
            "grid_area": null,
            "grid_auto_columns": null,
            "grid_auto_flow": null,
            "grid_auto_rows": null,
            "grid_column": null,
            "grid_gap": null,
            "grid_row": null,
            "grid_template_areas": null,
            "grid_template_columns": null,
            "grid_template_rows": null,
            "height": null,
            "justify_content": null,
            "justify_items": null,
            "left": null,
            "margin": null,
            "max_height": null,
            "max_width": null,
            "min_height": null,
            "min_width": null,
            "object_fit": null,
            "object_position": null,
            "order": null,
            "overflow": null,
            "overflow_x": null,
            "overflow_y": null,
            "padding": null,
            "right": null,
            "top": null,
            "visibility": null,
            "width": null
          }
        },
        "b444e13072b14f90a8b2754422ce5172": {
          "model_module": "@jupyter-widgets/base",
          "model_name": "LayoutModel",
          "model_module_version": "1.2.0",
          "state": {
            "_model_module": "@jupyter-widgets/base",
            "_model_module_version": "1.2.0",
            "_model_name": "LayoutModel",
            "_view_count": null,
            "_view_module": "@jupyter-widgets/base",
            "_view_module_version": "1.2.0",
            "_view_name": "LayoutView",
            "align_content": null,
            "align_items": null,
            "align_self": null,
            "border": null,
            "bottom": null,
            "display": null,
            "flex": null,
            "flex_flow": null,
            "grid_area": null,
            "grid_auto_columns": null,
            "grid_auto_flow": null,
            "grid_auto_rows": null,
            "grid_column": null,
            "grid_gap": null,
            "grid_row": null,
            "grid_template_areas": null,
            "grid_template_columns": null,
            "grid_template_rows": null,
            "height": null,
            "justify_content": null,
            "justify_items": null,
            "left": null,
            "margin": null,
            "max_height": null,
            "max_width": null,
            "min_height": null,
            "min_width": null,
            "object_fit": null,
            "object_position": null,
            "order": null,
            "overflow": null,
            "overflow_x": null,
            "overflow_y": null,
            "padding": null,
            "right": null,
            "top": null,
            "visibility": null,
            "width": null
          }
        },
        "b252f5e2181044f597e2683fa19c6887": {
          "model_module": "@jupyter-widgets/controls",
          "model_name": "DescriptionStyleModel",
          "model_module_version": "1.5.0",
          "state": {
            "_model_module": "@jupyter-widgets/controls",
            "_model_module_version": "1.5.0",
            "_model_name": "DescriptionStyleModel",
            "_view_count": null,
            "_view_module": "@jupyter-widgets/base",
            "_view_module_version": "1.2.0",
            "_view_name": "StyleView",
            "description_width": ""
          }
        },
        "9ac3fe648d8b482ba878a7c284c04249": {
          "model_module": "@jupyter-widgets/base",
          "model_name": "LayoutModel",
          "model_module_version": "1.2.0",
          "state": {
            "_model_module": "@jupyter-widgets/base",
            "_model_module_version": "1.2.0",
            "_model_name": "LayoutModel",
            "_view_count": null,
            "_view_module": "@jupyter-widgets/base",
            "_view_module_version": "1.2.0",
            "_view_name": "LayoutView",
            "align_content": null,
            "align_items": null,
            "align_self": null,
            "border": null,
            "bottom": null,
            "display": null,
            "flex": null,
            "flex_flow": null,
            "grid_area": null,
            "grid_auto_columns": null,
            "grid_auto_flow": null,
            "grid_auto_rows": null,
            "grid_column": null,
            "grid_gap": null,
            "grid_row": null,
            "grid_template_areas": null,
            "grid_template_columns": null,
            "grid_template_rows": null,
            "height": null,
            "justify_content": null,
            "justify_items": null,
            "left": null,
            "margin": null,
            "max_height": null,
            "max_width": null,
            "min_height": null,
            "min_width": null,
            "object_fit": null,
            "object_position": null,
            "order": null,
            "overflow": null,
            "overflow_x": null,
            "overflow_y": null,
            "padding": null,
            "right": null,
            "top": null,
            "visibility": null,
            "width": null
          }
        },
        "f16281b953ad446a827f761b61fb6da7": {
          "model_module": "@jupyter-widgets/controls",
          "model_name": "ProgressStyleModel",
          "model_module_version": "1.5.0",
          "state": {
            "_model_module": "@jupyter-widgets/controls",
            "_model_module_version": "1.5.0",
            "_model_name": "ProgressStyleModel",
            "_view_count": null,
            "_view_module": "@jupyter-widgets/base",
            "_view_module_version": "1.2.0",
            "_view_name": "StyleView",
            "bar_color": null,
            "description_width": ""
          }
        },
        "4a050ccb1d9d469ab1ae1f5bedbe2505": {
          "model_module": "@jupyter-widgets/base",
          "model_name": "LayoutModel",
          "model_module_version": "1.2.0",
          "state": {
            "_model_module": "@jupyter-widgets/base",
            "_model_module_version": "1.2.0",
            "_model_name": "LayoutModel",
            "_view_count": null,
            "_view_module": "@jupyter-widgets/base",
            "_view_module_version": "1.2.0",
            "_view_name": "LayoutView",
            "align_content": null,
            "align_items": null,
            "align_self": null,
            "border": null,
            "bottom": null,
            "display": null,
            "flex": null,
            "flex_flow": null,
            "grid_area": null,
            "grid_auto_columns": null,
            "grid_auto_flow": null,
            "grid_auto_rows": null,
            "grid_column": null,
            "grid_gap": null,
            "grid_row": null,
            "grid_template_areas": null,
            "grid_template_columns": null,
            "grid_template_rows": null,
            "height": null,
            "justify_content": null,
            "justify_items": null,
            "left": null,
            "margin": null,
            "max_height": null,
            "max_width": null,
            "min_height": null,
            "min_width": null,
            "object_fit": null,
            "object_position": null,
            "order": null,
            "overflow": null,
            "overflow_x": null,
            "overflow_y": null,
            "padding": null,
            "right": null,
            "top": null,
            "visibility": null,
            "width": null
          }
        },
        "fe6686e6a481466987e343995dc91c45": {
          "model_module": "@jupyter-widgets/controls",
          "model_name": "DescriptionStyleModel",
          "model_module_version": "1.5.0",
          "state": {
            "_model_module": "@jupyter-widgets/controls",
            "_model_module_version": "1.5.0",
            "_model_name": "DescriptionStyleModel",
            "_view_count": null,
            "_view_module": "@jupyter-widgets/base",
            "_view_module_version": "1.2.0",
            "_view_name": "StyleView",
            "description_width": ""
          }
        },
        "5626ce0013f9466b971492f853785094": {
          "model_module": "@jupyter-widgets/controls",
          "model_name": "HBoxModel",
          "model_module_version": "1.5.0",
          "state": {
            "_dom_classes": [],
            "_model_module": "@jupyter-widgets/controls",
            "_model_module_version": "1.5.0",
            "_model_name": "HBoxModel",
            "_view_count": null,
            "_view_module": "@jupyter-widgets/controls",
            "_view_module_version": "1.5.0",
            "_view_name": "HBoxView",
            "box_style": "",
            "children": [
              "IPY_MODEL_7eff3349029a470e97024b1a5b272ec7",
              "IPY_MODEL_80891e26097f47a3830ce3a2b2298888",
              "IPY_MODEL_d6ef2686d96d462585a751c8f1916d8b"
            ],
            "layout": "IPY_MODEL_1040322b895c4d0f8c88c9d39d2a2d39"
          }
        },
        "7eff3349029a470e97024b1a5b272ec7": {
          "model_module": "@jupyter-widgets/controls",
          "model_name": "HTMLModel",
          "model_module_version": "1.5.0",
          "state": {
            "_dom_classes": [],
            "_model_module": "@jupyter-widgets/controls",
            "_model_module_version": "1.5.0",
            "_model_name": "HTMLModel",
            "_view_count": null,
            "_view_module": "@jupyter-widgets/controls",
            "_view_module_version": "1.5.0",
            "_view_name": "HTMLView",
            "description": "",
            "description_tooltip": null,
            "layout": "IPY_MODEL_46849b11a6e44592ba566302ffd04c34",
            "placeholder": "​",
            "style": "IPY_MODEL_09a5a77cde884065bf1dbbe44c8c4b24",
            "value": "Generating train split: 100%"
          }
        },
        "80891e26097f47a3830ce3a2b2298888": {
          "model_module": "@jupyter-widgets/controls",
          "model_name": "FloatProgressModel",
          "model_module_version": "1.5.0",
          "state": {
            "_dom_classes": [],
            "_model_module": "@jupyter-widgets/controls",
            "_model_module_version": "1.5.0",
            "_model_name": "FloatProgressModel",
            "_view_count": null,
            "_view_module": "@jupyter-widgets/controls",
            "_view_module_version": "1.5.0",
            "_view_name": "ProgressView",
            "bar_style": "success",
            "description": "",
            "description_tooltip": null,
            "layout": "IPY_MODEL_1d3a412a8e014447b5d8afb490b9d36c",
            "max": 2775,
            "min": 0,
            "orientation": "horizontal",
            "style": "IPY_MODEL_f4b48d885391419196fbaec6b55917ff",
            "value": 2775
          }
        },
        "d6ef2686d96d462585a751c8f1916d8b": {
          "model_module": "@jupyter-widgets/controls",
          "model_name": "HTMLModel",
          "model_module_version": "1.5.0",
          "state": {
            "_dom_classes": [],
            "_model_module": "@jupyter-widgets/controls",
            "_model_module_version": "1.5.0",
            "_model_name": "HTMLModel",
            "_view_count": null,
            "_view_module": "@jupyter-widgets/controls",
            "_view_module_version": "1.5.0",
            "_view_name": "HTMLView",
            "description": "",
            "description_tooltip": null,
            "layout": "IPY_MODEL_3a369ceb058c4abfa6c2333569aa8282",
            "placeholder": "​",
            "style": "IPY_MODEL_6c23ee77e896488caa75d55a34cf390b",
            "value": " 2775/2775 [00:00&lt;00:00, 5392.27 examples/s]"
          }
        },
        "1040322b895c4d0f8c88c9d39d2a2d39": {
          "model_module": "@jupyter-widgets/base",
          "model_name": "LayoutModel",
          "model_module_version": "1.2.0",
          "state": {
            "_model_module": "@jupyter-widgets/base",
            "_model_module_version": "1.2.0",
            "_model_name": "LayoutModel",
            "_view_count": null,
            "_view_module": "@jupyter-widgets/base",
            "_view_module_version": "1.2.0",
            "_view_name": "LayoutView",
            "align_content": null,
            "align_items": null,
            "align_self": null,
            "border": null,
            "bottom": null,
            "display": null,
            "flex": null,
            "flex_flow": null,
            "grid_area": null,
            "grid_auto_columns": null,
            "grid_auto_flow": null,
            "grid_auto_rows": null,
            "grid_column": null,
            "grid_gap": null,
            "grid_row": null,
            "grid_template_areas": null,
            "grid_template_columns": null,
            "grid_template_rows": null,
            "height": null,
            "justify_content": null,
            "justify_items": null,
            "left": null,
            "margin": null,
            "max_height": null,
            "max_width": null,
            "min_height": null,
            "min_width": null,
            "object_fit": null,
            "object_position": null,
            "order": null,
            "overflow": null,
            "overflow_x": null,
            "overflow_y": null,
            "padding": null,
            "right": null,
            "top": null,
            "visibility": null,
            "width": null
          }
        },
        "46849b11a6e44592ba566302ffd04c34": {
          "model_module": "@jupyter-widgets/base",
          "model_name": "LayoutModel",
          "model_module_version": "1.2.0",
          "state": {
            "_model_module": "@jupyter-widgets/base",
            "_model_module_version": "1.2.0",
            "_model_name": "LayoutModel",
            "_view_count": null,
            "_view_module": "@jupyter-widgets/base",
            "_view_module_version": "1.2.0",
            "_view_name": "LayoutView",
            "align_content": null,
            "align_items": null,
            "align_self": null,
            "border": null,
            "bottom": null,
            "display": null,
            "flex": null,
            "flex_flow": null,
            "grid_area": null,
            "grid_auto_columns": null,
            "grid_auto_flow": null,
            "grid_auto_rows": null,
            "grid_column": null,
            "grid_gap": null,
            "grid_row": null,
            "grid_template_areas": null,
            "grid_template_columns": null,
            "grid_template_rows": null,
            "height": null,
            "justify_content": null,
            "justify_items": null,
            "left": null,
            "margin": null,
            "max_height": null,
            "max_width": null,
            "min_height": null,
            "min_width": null,
            "object_fit": null,
            "object_position": null,
            "order": null,
            "overflow": null,
            "overflow_x": null,
            "overflow_y": null,
            "padding": null,
            "right": null,
            "top": null,
            "visibility": null,
            "width": null
          }
        },
        "09a5a77cde884065bf1dbbe44c8c4b24": {
          "model_module": "@jupyter-widgets/controls",
          "model_name": "DescriptionStyleModel",
          "model_module_version": "1.5.0",
          "state": {
            "_model_module": "@jupyter-widgets/controls",
            "_model_module_version": "1.5.0",
            "_model_name": "DescriptionStyleModel",
            "_view_count": null,
            "_view_module": "@jupyter-widgets/base",
            "_view_module_version": "1.2.0",
            "_view_name": "StyleView",
            "description_width": ""
          }
        },
        "1d3a412a8e014447b5d8afb490b9d36c": {
          "model_module": "@jupyter-widgets/base",
          "model_name": "LayoutModel",
          "model_module_version": "1.2.0",
          "state": {
            "_model_module": "@jupyter-widgets/base",
            "_model_module_version": "1.2.0",
            "_model_name": "LayoutModel",
            "_view_count": null,
            "_view_module": "@jupyter-widgets/base",
            "_view_module_version": "1.2.0",
            "_view_name": "LayoutView",
            "align_content": null,
            "align_items": null,
            "align_self": null,
            "border": null,
            "bottom": null,
            "display": null,
            "flex": null,
            "flex_flow": null,
            "grid_area": null,
            "grid_auto_columns": null,
            "grid_auto_flow": null,
            "grid_auto_rows": null,
            "grid_column": null,
            "grid_gap": null,
            "grid_row": null,
            "grid_template_areas": null,
            "grid_template_columns": null,
            "grid_template_rows": null,
            "height": null,
            "justify_content": null,
            "justify_items": null,
            "left": null,
            "margin": null,
            "max_height": null,
            "max_width": null,
            "min_height": null,
            "min_width": null,
            "object_fit": null,
            "object_position": null,
            "order": null,
            "overflow": null,
            "overflow_x": null,
            "overflow_y": null,
            "padding": null,
            "right": null,
            "top": null,
            "visibility": null,
            "width": null
          }
        },
        "f4b48d885391419196fbaec6b55917ff": {
          "model_module": "@jupyter-widgets/controls",
          "model_name": "ProgressStyleModel",
          "model_module_version": "1.5.0",
          "state": {
            "_model_module": "@jupyter-widgets/controls",
            "_model_module_version": "1.5.0",
            "_model_name": "ProgressStyleModel",
            "_view_count": null,
            "_view_module": "@jupyter-widgets/base",
            "_view_module_version": "1.2.0",
            "_view_name": "StyleView",
            "bar_color": null,
            "description_width": ""
          }
        },
        "3a369ceb058c4abfa6c2333569aa8282": {
          "model_module": "@jupyter-widgets/base",
          "model_name": "LayoutModel",
          "model_module_version": "1.2.0",
          "state": {
            "_model_module": "@jupyter-widgets/base",
            "_model_module_version": "1.2.0",
            "_model_name": "LayoutModel",
            "_view_count": null,
            "_view_module": "@jupyter-widgets/base",
            "_view_module_version": "1.2.0",
            "_view_name": "LayoutView",
            "align_content": null,
            "align_items": null,
            "align_self": null,
            "border": null,
            "bottom": null,
            "display": null,
            "flex": null,
            "flex_flow": null,
            "grid_area": null,
            "grid_auto_columns": null,
            "grid_auto_flow": null,
            "grid_auto_rows": null,
            "grid_column": null,
            "grid_gap": null,
            "grid_row": null,
            "grid_template_areas": null,
            "grid_template_columns": null,
            "grid_template_rows": null,
            "height": null,
            "justify_content": null,
            "justify_items": null,
            "left": null,
            "margin": null,
            "max_height": null,
            "max_width": null,
            "min_height": null,
            "min_width": null,
            "object_fit": null,
            "object_position": null,
            "order": null,
            "overflow": null,
            "overflow_x": null,
            "overflow_y": null,
            "padding": null,
            "right": null,
            "top": null,
            "visibility": null,
            "width": null
          }
        },
        "6c23ee77e896488caa75d55a34cf390b": {
          "model_module": "@jupyter-widgets/controls",
          "model_name": "DescriptionStyleModel",
          "model_module_version": "1.5.0",
          "state": {
            "_model_module": "@jupyter-widgets/controls",
            "_model_module_version": "1.5.0",
            "_model_name": "DescriptionStyleModel",
            "_view_count": null,
            "_view_module": "@jupyter-widgets/base",
            "_view_module_version": "1.2.0",
            "_view_name": "StyleView",
            "description_width": ""
          }
        }
      }
    }
  },
  "cells": [
    {
      "cell_type": "markdown",
      "source": [
        "# Data 1\n",
        "https://huggingface.co/datasets/Amod/mental_health_counseling_conversations"
      ],
      "metadata": {
        "id": "H8nS5UFAEv2P"
      }
    },
    {
      "cell_type": "markdown",
      "source": [
        "## Imports"
      ],
      "metadata": {
        "id": "i-A8QNkKdIEV"
      }
    },
    {
      "cell_type": "code",
      "source": [
        "import pandas as pd\n",
        "import re\n",
        "from google.colab import files\n",
        "\n",
        "# libraries for the files in google drive\n",
        "from pydrive.auth import GoogleAuth\n",
        "from google.colab import drive\n",
        "from pydrive.drive import GoogleDrive\n",
        "from google.colab import auth\n",
        "from oauth2client.client import GoogleCredentials\n",
        "\n",
        "# Visualizations\n",
        "from wordcloud import WordCloud\n",
        "import matplotlib.pyplot as plt\n",
        "from collections import Counter\n",
        "import matplotlib.pyplot as plt"
      ],
      "metadata": {
        "id": "eS9iad7ocdPf",
        "colab": {
          "base_uri": "https://localhost:8080/"
        },
        "outputId": "7ee4e68b-e495-4ccd-bc94-69642a1a0f13"
      },
      "execution_count": null,
      "outputs": [
        {
          "output_type": "stream",
          "name": "stderr",
          "text": [
            "WARNING:root:pydrive is deprecated and no longer maintained. We recommend that you migrate your projects to pydrive2, the maintained fork of pydrive\n"
          ]
        }
      ]
    },
    {
      "cell_type": "markdown",
      "source": [
        "## Explore data"
      ],
      "metadata": {
        "id": "U-48Lx8YcBaD"
      }
    },
    {
      "cell_type": "code",
      "source": [
        "auth.authenticate_user()\n",
        "gauth = GoogleAuth()\n",
        "gauth.credentials = GoogleCredentials.get_application_default()\n",
        "drive = GoogleDrive(gauth)\n",
        "\n",
        "file_id = '1uMXnIYkTLw1A9ExUCrhkXQCUO0whTmAs' # id from you google drive file\n",
        "\n",
        "download = drive.CreateFile({'id': file_id})\n",
        "\n",
        "# Download the file to a local disc\n",
        "download.GetContentFile('train.csv')\n",
        "df  = pd.read_csv(\"train.csv\")\n",
        "df.head()"
      ],
      "metadata": {
        "colab": {
          "base_uri": "https://localhost:8080/",
          "height": 408
        },
        "id": "OznfaEnaflvH",
        "outputId": "8ea0c0e3-cd50-43d8-a5d0-3c9e338c47f2"
      },
      "execution_count": null,
      "outputs": [
        {
          "output_type": "error",
          "ename": "ApiRequestError",
          "evalue": "<HttpError 404 when requesting https://www.googleapis.com/drive/v2/files/1uMXnIYkTLw1A9ExUCrhkXQCUO0whTmAs?alt=json returned \"File not found: 1uMXnIYkTLw1A9ExUCrhkXQCUO0whTmAs\". Details: \"[{'message': 'File not found: 1uMXnIYkTLw1A9ExUCrhkXQCUO0whTmAs', 'domain': 'global', 'reason': 'notFound', 'location': 'file', 'locationType': 'other'}]\">",
          "traceback": [
            "\u001b[0;31m---------------------------------------------------------------------------\u001b[0m",
            "\u001b[0;31mHttpError\u001b[0m                                 Traceback (most recent call last)",
            "\u001b[0;32m/usr/local/lib/python3.10/dist-packages/pydrive/files.py\u001b[0m in \u001b[0;36mFetchMetadata\u001b[0;34m(self, fields, fetch_all)\u001b[0m\n\u001b[1;32m    234\u001b[0m       \u001b[0;32mtry\u001b[0m\u001b[0;34m:\u001b[0m\u001b[0;34m\u001b[0m\u001b[0;34m\u001b[0m\u001b[0m\n\u001b[0;32m--> 235\u001b[0;31m         metadata = self.auth.service.files().get(fileId=file_id,\n\u001b[0m\u001b[1;32m    236\u001b[0m                                                  fields=fields)\\\n",
            "\u001b[0;32m/usr/local/lib/python3.10/dist-packages/googleapiclient/_helpers.py\u001b[0m in \u001b[0;36mpositional_wrapper\u001b[0;34m(*args, **kwargs)\u001b[0m\n\u001b[1;32m    129\u001b[0m                     \u001b[0mlogger\u001b[0m\u001b[0;34m.\u001b[0m\u001b[0mwarning\u001b[0m\u001b[0;34m(\u001b[0m\u001b[0mmessage\u001b[0m\u001b[0;34m)\u001b[0m\u001b[0;34m\u001b[0m\u001b[0;34m\u001b[0m\u001b[0m\n\u001b[0;32m--> 130\u001b[0;31m             \u001b[0;32mreturn\u001b[0m \u001b[0mwrapped\u001b[0m\u001b[0;34m(\u001b[0m\u001b[0;34m*\u001b[0m\u001b[0margs\u001b[0m\u001b[0;34m,\u001b[0m \u001b[0;34m**\u001b[0m\u001b[0mkwargs\u001b[0m\u001b[0;34m)\u001b[0m\u001b[0;34m\u001b[0m\u001b[0;34m\u001b[0m\u001b[0m\n\u001b[0m\u001b[1;32m    131\u001b[0m \u001b[0;34m\u001b[0m\u001b[0m\n",
            "\u001b[0;32m/usr/local/lib/python3.10/dist-packages/googleapiclient/http.py\u001b[0m in \u001b[0;36mexecute\u001b[0;34m(self, http, num_retries)\u001b[0m\n\u001b[1;32m    937\u001b[0m         \u001b[0;32mif\u001b[0m \u001b[0mresp\u001b[0m\u001b[0;34m.\u001b[0m\u001b[0mstatus\u001b[0m \u001b[0;34m>=\u001b[0m \u001b[0;36m300\u001b[0m\u001b[0;34m:\u001b[0m\u001b[0;34m\u001b[0m\u001b[0;34m\u001b[0m\u001b[0m\n\u001b[0;32m--> 938\u001b[0;31m             \u001b[0;32mraise\u001b[0m \u001b[0mHttpError\u001b[0m\u001b[0;34m(\u001b[0m\u001b[0mresp\u001b[0m\u001b[0;34m,\u001b[0m \u001b[0mcontent\u001b[0m\u001b[0;34m,\u001b[0m \u001b[0muri\u001b[0m\u001b[0;34m=\u001b[0m\u001b[0mself\u001b[0m\u001b[0;34m.\u001b[0m\u001b[0muri\u001b[0m\u001b[0;34m)\u001b[0m\u001b[0;34m\u001b[0m\u001b[0;34m\u001b[0m\u001b[0m\n\u001b[0m\u001b[1;32m    939\u001b[0m         \u001b[0;32mreturn\u001b[0m \u001b[0mself\u001b[0m\u001b[0;34m.\u001b[0m\u001b[0mpostproc\u001b[0m\u001b[0;34m(\u001b[0m\u001b[0mresp\u001b[0m\u001b[0;34m,\u001b[0m \u001b[0mcontent\u001b[0m\u001b[0;34m)\u001b[0m\u001b[0;34m\u001b[0m\u001b[0;34m\u001b[0m\u001b[0m\n",
            "\u001b[0;31mHttpError\u001b[0m: <HttpError 404 when requesting https://www.googleapis.com/drive/v2/files/1uMXnIYkTLw1A9ExUCrhkXQCUO0whTmAs?alt=json returned \"File not found: 1uMXnIYkTLw1A9ExUCrhkXQCUO0whTmAs\". Details: \"[{'message': 'File not found: 1uMXnIYkTLw1A9ExUCrhkXQCUO0whTmAs', 'domain': 'global', 'reason': 'notFound', 'location': 'file', 'locationType': 'other'}]\">",
            "\nDuring handling of the above exception, another exception occurred:\n",
            "\u001b[0;31mApiRequestError\u001b[0m                           Traceback (most recent call last)",
            "\u001b[0;32m<ipython-input-4-0e614984d4f7>\u001b[0m in \u001b[0;36m<cell line: 11>\u001b[0;34m()\u001b[0m\n\u001b[1;32m      9\u001b[0m \u001b[0;34m\u001b[0m\u001b[0m\n\u001b[1;32m     10\u001b[0m \u001b[0;31m# Download the file to a local disc\u001b[0m\u001b[0;34m\u001b[0m\u001b[0;34m\u001b[0m\u001b[0m\n\u001b[0;32m---> 11\u001b[0;31m \u001b[0mdownload\u001b[0m\u001b[0;34m.\u001b[0m\u001b[0mGetContentFile\u001b[0m\u001b[0;34m(\u001b[0m\u001b[0;34m'train.csv'\u001b[0m\u001b[0;34m)\u001b[0m\u001b[0;34m\u001b[0m\u001b[0;34m\u001b[0m\u001b[0m\n\u001b[0m\u001b[1;32m     12\u001b[0m \u001b[0mdf\u001b[0m  \u001b[0;34m=\u001b[0m \u001b[0mpd\u001b[0m\u001b[0;34m.\u001b[0m\u001b[0mread_csv\u001b[0m\u001b[0;34m(\u001b[0m\u001b[0;34m\"train.csv\"\u001b[0m\u001b[0;34m)\u001b[0m\u001b[0;34m\u001b[0m\u001b[0;34m\u001b[0m\u001b[0m\n\u001b[1;32m     13\u001b[0m \u001b[0mdf\u001b[0m\u001b[0;34m.\u001b[0m\u001b[0mhead\u001b[0m\u001b[0;34m(\u001b[0m\u001b[0;34m)\u001b[0m\u001b[0;34m\u001b[0m\u001b[0;34m\u001b[0m\u001b[0m\n",
            "\u001b[0;32m/usr/local/lib/python3.10/dist-packages/pydrive/files.py\u001b[0m in \u001b[0;36mGetContentFile\u001b[0;34m(self, filename, mimetype, remove_bom)\u001b[0m\n\u001b[1;32m    208\u001b[0m                     \u001b[0mtype\u001b[0m\u001b[0;34m(\u001b[0m\u001b[0mself\u001b[0m\u001b[0;34m.\u001b[0m\u001b[0mcontent\u001b[0m\u001b[0;34m)\u001b[0m \u001b[0;32mis\u001b[0m \u001b[0;32mnot\u001b[0m \u001b[0mio\u001b[0m\u001b[0;34m.\u001b[0m\u001b[0mBytesIO\u001b[0m \u001b[0;32mor\u001b[0m\u001b[0;31m \u001b[0m\u001b[0;31m\\\u001b[0m\u001b[0;34m\u001b[0m\u001b[0;34m\u001b[0m\u001b[0m\n\u001b[1;32m    209\u001b[0m                     \u001b[0mself\u001b[0m\u001b[0;34m.\u001b[0m\u001b[0mhas_bom\u001b[0m \u001b[0;34m==\u001b[0m \u001b[0mremove_bom\u001b[0m\u001b[0;34m:\u001b[0m\u001b[0;34m\u001b[0m\u001b[0;34m\u001b[0m\u001b[0m\n\u001b[0;32m--> 210\u001b[0;31m       \u001b[0mself\u001b[0m\u001b[0;34m.\u001b[0m\u001b[0mFetchContent\u001b[0m\u001b[0;34m(\u001b[0m\u001b[0mmimetype\u001b[0m\u001b[0;34m,\u001b[0m \u001b[0mremove_bom\u001b[0m\u001b[0;34m)\u001b[0m\u001b[0;34m\u001b[0m\u001b[0;34m\u001b[0m\u001b[0m\n\u001b[0m\u001b[1;32m    211\u001b[0m     \u001b[0mf\u001b[0m \u001b[0;34m=\u001b[0m \u001b[0mopen\u001b[0m\u001b[0;34m(\u001b[0m\u001b[0mfilename\u001b[0m\u001b[0;34m,\u001b[0m \u001b[0;34m'wb'\u001b[0m\u001b[0;34m)\u001b[0m\u001b[0;34m\u001b[0m\u001b[0;34m\u001b[0m\u001b[0m\n\u001b[1;32m    212\u001b[0m     \u001b[0mf\u001b[0m\u001b[0;34m.\u001b[0m\u001b[0mwrite\u001b[0m\u001b[0;34m(\u001b[0m\u001b[0mself\u001b[0m\u001b[0;34m.\u001b[0m\u001b[0mcontent\u001b[0m\u001b[0;34m.\u001b[0m\u001b[0mgetvalue\u001b[0m\u001b[0;34m(\u001b[0m\u001b[0;34m)\u001b[0m\u001b[0;34m)\u001b[0m\u001b[0;34m\u001b[0m\u001b[0;34m\u001b[0m\u001b[0m\n",
            "\u001b[0;32m/usr/local/lib/python3.10/dist-packages/pydrive/files.py\u001b[0m in \u001b[0;36m_decorated\u001b[0;34m(self, *args, **kwargs)\u001b[0m\n\u001b[1;32m     40\u001b[0m   \u001b[0;32mdef\u001b[0m \u001b[0m_decorated\u001b[0m\u001b[0;34m(\u001b[0m\u001b[0mself\u001b[0m\u001b[0;34m,\u001b[0m \u001b[0;34m*\u001b[0m\u001b[0margs\u001b[0m\u001b[0;34m,\u001b[0m \u001b[0;34m**\u001b[0m\u001b[0mkwargs\u001b[0m\u001b[0;34m)\u001b[0m\u001b[0;34m:\u001b[0m\u001b[0;34m\u001b[0m\u001b[0;34m\u001b[0m\u001b[0m\n\u001b[1;32m     41\u001b[0m     \u001b[0;32mif\u001b[0m \u001b[0;32mnot\u001b[0m \u001b[0mself\u001b[0m\u001b[0;34m.\u001b[0m\u001b[0muploaded\u001b[0m\u001b[0;34m:\u001b[0m\u001b[0;34m\u001b[0m\u001b[0;34m\u001b[0m\u001b[0m\n\u001b[0;32m---> 42\u001b[0;31m       \u001b[0mself\u001b[0m\u001b[0;34m.\u001b[0m\u001b[0mFetchMetadata\u001b[0m\u001b[0;34m(\u001b[0m\u001b[0;34m)\u001b[0m\u001b[0;34m\u001b[0m\u001b[0;34m\u001b[0m\u001b[0m\n\u001b[0m\u001b[1;32m     43\u001b[0m     \u001b[0;32mreturn\u001b[0m \u001b[0mdecoratee\u001b[0m\u001b[0;34m(\u001b[0m\u001b[0mself\u001b[0m\u001b[0;34m,\u001b[0m \u001b[0;34m*\u001b[0m\u001b[0margs\u001b[0m\u001b[0;34m,\u001b[0m \u001b[0;34m**\u001b[0m\u001b[0mkwargs\u001b[0m\u001b[0;34m)\u001b[0m\u001b[0;34m\u001b[0m\u001b[0;34m\u001b[0m\u001b[0m\n\u001b[1;32m     44\u001b[0m   \u001b[0;32mreturn\u001b[0m \u001b[0m_decorated\u001b[0m\u001b[0;34m\u001b[0m\u001b[0;34m\u001b[0m\u001b[0m\n",
            "\u001b[0;32m/usr/local/lib/python3.10/dist-packages/pydrive/auth.py\u001b[0m in \u001b[0;36m_decorated\u001b[0;34m(self, *args, **kwargs)\u001b[0m\n\u001b[1;32m     73\u001b[0m       \u001b[0mself\u001b[0m\u001b[0;34m.\u001b[0m\u001b[0mhttp\u001b[0m \u001b[0;34m=\u001b[0m \u001b[0mself\u001b[0m\u001b[0;34m.\u001b[0m\u001b[0mauth\u001b[0m\u001b[0;34m.\u001b[0m\u001b[0mGet_Http_Object\u001b[0m\u001b[0;34m(\u001b[0m\u001b[0;34m)\u001b[0m\u001b[0;34m\u001b[0m\u001b[0;34m\u001b[0m\u001b[0m\n\u001b[1;32m     74\u001b[0m \u001b[0;34m\u001b[0m\u001b[0m\n\u001b[0;32m---> 75\u001b[0;31m     \u001b[0;32mreturn\u001b[0m \u001b[0mdecoratee\u001b[0m\u001b[0;34m(\u001b[0m\u001b[0mself\u001b[0m\u001b[0;34m,\u001b[0m \u001b[0;34m*\u001b[0m\u001b[0margs\u001b[0m\u001b[0;34m,\u001b[0m \u001b[0;34m**\u001b[0m\u001b[0mkwargs\u001b[0m\u001b[0;34m)\u001b[0m\u001b[0;34m\u001b[0m\u001b[0;34m\u001b[0m\u001b[0m\n\u001b[0m\u001b[1;32m     76\u001b[0m   \u001b[0;32mreturn\u001b[0m \u001b[0m_decorated\u001b[0m\u001b[0;34m\u001b[0m\u001b[0;34m\u001b[0m\u001b[0m\n\u001b[1;32m     77\u001b[0m \u001b[0;34m\u001b[0m\u001b[0m\n",
            "\u001b[0;32m/usr/local/lib/python3.10/dist-packages/pydrive/files.py\u001b[0m in \u001b[0;36mFetchMetadata\u001b[0;34m(self, fields, fetch_all)\u001b[0m\n\u001b[1;32m    237\u001b[0m           \u001b[0;34m.\u001b[0m\u001b[0mexecute\u001b[0m\u001b[0;34m(\u001b[0m\u001b[0mhttp\u001b[0m\u001b[0;34m=\u001b[0m\u001b[0mself\u001b[0m\u001b[0;34m.\u001b[0m\u001b[0mhttp\u001b[0m\u001b[0;34m)\u001b[0m\u001b[0;34m\u001b[0m\u001b[0;34m\u001b[0m\u001b[0m\n\u001b[1;32m    238\u001b[0m       \u001b[0;32mexcept\u001b[0m \u001b[0merrors\u001b[0m\u001b[0;34m.\u001b[0m\u001b[0mHttpError\u001b[0m \u001b[0;32mas\u001b[0m \u001b[0merror\u001b[0m\u001b[0;34m:\u001b[0m\u001b[0;34m\u001b[0m\u001b[0;34m\u001b[0m\u001b[0m\n\u001b[0;32m--> 239\u001b[0;31m         \u001b[0;32mraise\u001b[0m \u001b[0mApiRequestError\u001b[0m\u001b[0;34m(\u001b[0m\u001b[0merror\u001b[0m\u001b[0;34m)\u001b[0m\u001b[0;34m\u001b[0m\u001b[0;34m\u001b[0m\u001b[0m\n\u001b[0m\u001b[1;32m    240\u001b[0m       \u001b[0;32melse\u001b[0m\u001b[0;34m:\u001b[0m\u001b[0;34m\u001b[0m\u001b[0;34m\u001b[0m\u001b[0m\n\u001b[1;32m    241\u001b[0m         \u001b[0mself\u001b[0m\u001b[0;34m.\u001b[0m\u001b[0muploaded\u001b[0m \u001b[0;34m=\u001b[0m \u001b[0;32mTrue\u001b[0m\u001b[0;34m\u001b[0m\u001b[0;34m\u001b[0m\u001b[0m\n",
            "\u001b[0;31mApiRequestError\u001b[0m: <HttpError 404 when requesting https://www.googleapis.com/drive/v2/files/1uMXnIYkTLw1A9ExUCrhkXQCUO0whTmAs?alt=json returned \"File not found: 1uMXnIYkTLw1A9ExUCrhkXQCUO0whTmAs\". Details: \"[{'message': 'File not found: 1uMXnIYkTLw1A9ExUCrhkXQCUO0whTmAs', 'domain': 'global', 'reason': 'notFound', 'location': 'file', 'locationType': 'other'}]\">"
          ]
        }
      ]
    },
    {
      "cell_type": "code",
      "source": [
        "df.shape"
      ],
      "metadata": {
        "id": "RQUsXFubier3"
      },
      "execution_count": null,
      "outputs": []
    },
    {
      "cell_type": "code",
      "source": [
        "df.info()"
      ],
      "metadata": {
        "id": "N96zRdpLg0wn"
      },
      "execution_count": null,
      "outputs": []
    },
    {
      "cell_type": "code",
      "source": [
        "df.isnull().sum()"
      ],
      "metadata": {
        "id": "51YYqhOdg79R"
      },
      "execution_count": null,
      "outputs": []
    },
    {
      "cell_type": "markdown",
      "source": [
        "## Clean data"
      ],
      "metadata": {
        "id": "8ifq_NfJiXOW"
      }
    },
    {
      "cell_type": "code",
      "source": [
        "#@title Drop null rows\n",
        "null_rows = df.isnull().any(axis=1) # Identify rows with null values\n",
        "df_cleaned = df[~null_rows] # Drop rows with null values\n",
        "\n",
        "df_cleaned.shape # Display new shape"
      ],
      "metadata": {
        "id": "dTPo5GYkiSCS"
      },
      "execution_count": null,
      "outputs": []
    },
    {
      "cell_type": "code",
      "source": [
        "#@title Remove the duplicate rows\n",
        "df.drop_duplicates()\n",
        "df.shape"
      ],
      "metadata": {
        "id": "vTCB6xgio_c0"
      },
      "execution_count": null,
      "outputs": []
    },
    {
      "cell_type": "code",
      "source": [
        "df[\"Context\"][0]"
      ],
      "metadata": {
        "id": "WiDiOqPXgCR3"
      },
      "execution_count": null,
      "outputs": []
    },
    {
      "cell_type": "code",
      "source": [
        "df[\"Response\"][0]"
      ],
      "metadata": {
        "id": "pGNsBCoRgXz-"
      },
      "execution_count": null,
      "outputs": []
    },
    {
      "cell_type": "code",
      "source": [
        "#@title Normalize Text\n",
        "# & Remove Unicode Characters\n",
        "\n",
        "def clean_text(text):\n",
        "  text = str(text).lower() # Convert text to lowercase\n",
        "  text = re.sub(\"[\\[].*?[\\]]\", \"\", text) # Remove text within square brackets\n",
        "  text = re.sub(r\"http\\S+\", \"\", text) # Remove URLs\n",
        "  text = re.sub(r\"[^\\w\\s]\", \"\", text) # Remove non-alphanumeric characters (excluding spaces)\n",
        "  text = re.sub(r\"\\d+\", \"\", text) # Remove digits\n",
        "  return text\n",
        "\n",
        "# Apply the clean_text function\n",
        "df['Context'].apply(clean_text)\n",
        "df['Response'].apply(clean_text)\n",
        "df.head()"
      ],
      "metadata": {
        "id": "2mRrzFoHga-2"
      },
      "execution_count": null,
      "outputs": []
    },
    {
      "cell_type": "code",
      "source": [
        "#@title Remove escape sequences\n",
        "\n",
        "df['Context'] = df['Context'].apply(lambda x: re.sub(r'\\s+', ' ', x).strip())\n",
        "df['Response'] = df['Response'].astype(str).apply(lambda x: re.sub(r'\\s+', ' ', x).strip())\n",
        "\n",
        "df.head()"
      ],
      "metadata": {
        "id": "GA2Qd9vRmR8X"
      },
      "execution_count": null,
      "outputs": []
    },
    {
      "cell_type": "code",
      "source": [
        "df[\"Context\"][0]"
      ],
      "metadata": {
        "id": "rcNja6G2llNZ"
      },
      "execution_count": null,
      "outputs": []
    },
    {
      "cell_type": "code",
      "source": [
        "df[\"Response\"][0]"
      ],
      "metadata": {
        "id": "9fvY2n_onGeS"
      },
      "execution_count": null,
      "outputs": []
    },
    {
      "cell_type": "markdown",
      "source": [
        "## Add token"
      ],
      "metadata": {
        "id": "TAjT_kclmvyy"
      }
    },
    {
      "cell_type": "code",
      "source": [
        "df['Context'] = df['Context'].apply(lambda x: \"<user> \" + str(x))\n",
        "df['Response'] = df['Response'].apply(lambda x: \"<agent> \" + str(x))\n",
        "\n",
        "df.head()"
      ],
      "metadata": {
        "id": "wq4pyGnZlurH"
      },
      "execution_count": null,
      "outputs": []
    },
    {
      "cell_type": "markdown",
      "source": [
        "## Visualizations"
      ],
      "metadata": {
        "id": "3U-B6R1TM6cd"
      }
    },
    {
      "cell_type": "code",
      "source": [
        "#@title Cloud image\n",
        "\n",
        "# Join the array of strings into a single string\n",
        "Context = \" \".join(df[\"Context\"])\n",
        "Response = \" \".join(df[\"Response\"])\n",
        "\n",
        "# Generate and display a word cloud image (Context)\n",
        "wordcloud = WordCloud(background_color='white').generate(Context)\n",
        "plt.imshow(wordcloud, interpolation='bilinear')\n",
        "plt.axis(\"off\")\n",
        "plt.title(\"Context\")\n",
        "plt.show()\n",
        "\n",
        "# Generate and display a word cloud image (Response)\n",
        "wordcloud = WordCloud(background_color='white').generate(Response)\n",
        "plt.imshow(wordcloud, interpolation='bilinear')\n",
        "plt.axis(\"off\")\n",
        "plt.title(\"Response\")\n",
        "print(\" \")\n",
        "plt.show()"
      ],
      "metadata": {
        "id": "0fERR0MuNDtz"
      },
      "execution_count": null,
      "outputs": []
    },
    {
      "cell_type": "code",
      "source": [
        "#@title Most common words\n",
        "\n",
        "# Split the 'Context' documents into words and flatten the list\n",
        "context_words = [word for document in df[\"Context\"] for word in str(document).split()]\n",
        "\n",
        "# Count the occurrences of each word in 'Context'\n",
        "context_word_counts = Counter(context_words)\n",
        "\n",
        "# Get the most common words and their counts in 'Context'\n",
        "most_common_context_words = context_word_counts.most_common(10)\n",
        "\n",
        "# Unzip the words and their counts in 'Context'\n",
        "context_words, context_counts = zip(*most_common_context_words)\n",
        "\n",
        "# Create and display a bar chart for 'Context'\n",
        "plt.bar(context_words, context_counts)\n",
        "plt.xlabel('Words')\n",
        "plt.ylabel('Frequency')\n",
        "plt.xticks(rotation=45)\n",
        "plt.title(\"Context\")\n",
        "plt.show()\n",
        "\n",
        "# Split the 'Response' documents into words and flatten the list\n",
        "response_words = [word for document in df[\"Response\"] for word in str(document).split()]\n",
        "\n",
        "# Count the occurrences of each word in 'Response'\n",
        "response_word_counts = Counter(response_words)\n",
        "\n",
        "# Get the most common words and their counts in 'Response'\n",
        "most_common_response_words = response_word_counts.most_common(10)\n",
        "\n",
        "# Unzip the words and their counts in 'Response'\n",
        "response_words, response_counts = zip(*most_common_response_words)\n",
        "\n",
        "# Create and display a bar chart for 'Response'\n",
        "plt.bar(response_words, response_counts)\n",
        "plt.xlabel('Words')\n",
        "plt.ylabel('Frequency')\n",
        "plt.xticks(rotation=45)\n",
        "plt.title(\"Response\")\n",
        "print(\" \")\n",
        "plt.show()"
      ],
      "metadata": {
        "id": "PjBOE5A2NIpx"
      },
      "execution_count": null,
      "outputs": []
    },
    {
      "cell_type": "markdown",
      "source": [
        "# Data 2\n",
        "https://www.kaggle.com/datasets/thedevastator/mental-health-chatbot-pairs"
      ],
      "metadata": {
        "id": "kP9edNZ6FAB4"
      }
    },
    {
      "cell_type": "markdown",
      "source": [
        "## Explore data"
      ],
      "metadata": {
        "id": "9K79CXfHFiC7"
      }
    },
    {
      "cell_type": "code",
      "source": [
        "auth.authenticate_user()\n",
        "gauth = GoogleAuth()\n",
        "gauth.credentials = GoogleCredentials.get_application_default()\n",
        "drive = GoogleDrive(gauth)\n",
        "\n",
        "file_id = '1dDdJjepjJ8TEXkJZdjDVMGL0bKM7TlII' # id from you google drive file\n",
        "\n",
        "download = drive.CreateFile({'id': file_id})\n",
        "\n",
        "# Download the file to a local disc\n",
        "download.GetContentFile('train2.csv')\n",
        "df2  = pd.read_csv(\"train2.csv\")\n",
        "df2.head()"
      ],
      "metadata": {
        "id": "k02eQMspErRM"
      },
      "execution_count": null,
      "outputs": []
    },
    {
      "cell_type": "code",
      "source": [
        "df2.shape"
      ],
      "metadata": {
        "id": "2IyPLeOxFtjW"
      },
      "execution_count": null,
      "outputs": []
    },
    {
      "cell_type": "code",
      "source": [
        "df2.info()"
      ],
      "metadata": {
        "id": "kFoYnwQQFtl_"
      },
      "execution_count": null,
      "outputs": []
    },
    {
      "cell_type": "code",
      "source": [
        "df2.isnull().sum()"
      ],
      "metadata": {
        "id": "3lhuXIRDFtoR"
      },
      "execution_count": null,
      "outputs": []
    },
    {
      "cell_type": "markdown",
      "source": [
        "## Clean data"
      ],
      "metadata": {
        "id": "1vCOxvGEF4lk"
      }
    },
    {
      "cell_type": "code",
      "source": [
        "#@title Remove the duplicate rows\n",
        "df2.drop_duplicates()\n",
        "df2.shape"
      ],
      "metadata": {
        "id": "ISWPvcg_FtqM"
      },
      "execution_count": null,
      "outputs": []
    },
    {
      "cell_type": "code",
      "source": [
        "df2[\"text\"][0]"
      ],
      "metadata": {
        "id": "IGci1ovAHCFd"
      },
      "execution_count": null,
      "outputs": []
    },
    {
      "cell_type": "code",
      "source": [
        "#@title Normalize Text\n",
        "# & Remove Unicode Characters\n",
        "\n",
        "def clean_text(text):\n",
        "  text = str(text).lower() # Convert text to lowercase\n",
        "  text = re.sub(\"[\\[].*?[\\]]\", \"\", text) # Remove text within square brackets\n",
        "  text = re.sub(r\"http\\S+\", \"\", text) # Remove URLs\n",
        "  text = re.sub(r\"[^\\w\\s]\", \"\", text) # Remove non-alphanumeric characters (excluding spaces)\n",
        "  text = re.sub(r\"\\d+\", \"\", text) # Remove digits\n",
        "  return text\n",
        "\n",
        "# Apply the clean_text function\n",
        "df2['text'].apply(clean_text)\n",
        "df2.head()"
      ],
      "metadata": {
        "id": "jIbFLMAhHLe-"
      },
      "execution_count": null,
      "outputs": []
    },
    {
      "cell_type": "markdown",
      "source": [
        "## Change token"
      ],
      "metadata": {
        "id": "8ehNYE0OHcYz"
      }
    },
    {
      "cell_type": "code",
      "source": [
        "#@title Replace function\n",
        "\n",
        "# function that replace occurrences of <HUMAN> with <user> and <ASSISTANT> with <agent>\n",
        "def replace_entities(text):\n",
        "    # Replace <HUMAN> with <user>\n",
        "    text = text.replace('<HUMAN>', '<user>')\n",
        "    # Replace <ASSISTANT> with <agent>\n",
        "    text = text.replace('<ASSISTANT>', '<agent>')\n",
        "    # Replace : with space\n",
        "    text = text.replace(':', '')\n",
        "    return text\n",
        "\n",
        "# Apply the function to each cell in the 'Context' column\n",
        "df2['text'] = df2['text'].apply(replace_entities)\n",
        "\n",
        "df2.head()"
      ],
      "metadata": {
        "id": "Y0Be9OF9HT9L"
      },
      "execution_count": null,
      "outputs": []
    },
    {
      "cell_type": "code",
      "source": [
        "#@title Split to 2 columns\n",
        "\n",
        "# Split each row into two columns based on the occurrence of the word \"\\n\"\n",
        "df2[['Context', 'Response']] = df2['text'].str.split('\\n', 1, expand=True)\n",
        "\n",
        "# Remove any leading or trailing whitespace from the 'Response' column\n",
        "df2['Response'] = df2['Response'].str.strip()\n",
        "\n",
        "df2.head()"
      ],
      "metadata": {
        "id": "xUZwb8BLHyGW"
      },
      "execution_count": null,
      "outputs": []
    },
    {
      "cell_type": "code",
      "source": [
        "#@title Remove escape sequences\n",
        "\n",
        "df2['Context'] = df2['Context'].apply(lambda x: re.sub(r'\\s+', ' ', x).strip())\n",
        "df2['Response'] = df2['Response'].apply(lambda x: re.sub(r'\\s+', ' ', x).strip())\n",
        "\n",
        "df2.head()"
      ],
      "metadata": {
        "id": "ovKQa5Vana50"
      },
      "execution_count": null,
      "outputs": []
    },
    {
      "cell_type": "code",
      "source": [
        "#@title Drop text column\n",
        "df2.drop('text', axis=1, inplace=True)\n",
        "df2.head()"
      ],
      "metadata": {
        "id": "JAEkKHm4J3lf"
      },
      "execution_count": null,
      "outputs": []
    },
    {
      "cell_type": "code",
      "source": [
        "df2['Context'][0]"
      ],
      "metadata": {
        "id": "fz5Y_efsKscP"
      },
      "execution_count": null,
      "outputs": []
    },
    {
      "cell_type": "code",
      "source": [
        "df2['Response'][0]"
      ],
      "metadata": {
        "id": "Ffyqw8R1LEGC"
      },
      "execution_count": null,
      "outputs": []
    },
    {
      "cell_type": "markdown",
      "source": [
        "---------------"
      ],
      "metadata": {
        "id": "OBTs_vbRVE9H"
      }
    },
    {
      "cell_type": "markdown",
      "source": [
        "## Visualizations"
      ],
      "metadata": {
        "id": "MOzDExCLQcii"
      }
    },
    {
      "cell_type": "code",
      "source": [
        "#@title Cloud image\n",
        "\n",
        "# Join the array of strings into a single string\n",
        "Context = \" \".join(df2[\"Context\"])\n",
        "Response = \" \".join(df2[\"Response\"])\n",
        "\n",
        "# Generate and display a word cloud image (Context)\n",
        "wordcloud = WordCloud(background_color='white').generate(Context)\n",
        "plt.imshow(wordcloud, interpolation='bilinear')\n",
        "plt.axis(\"off\")\n",
        "plt.title(\"Context\")\n",
        "plt.show()\n",
        "\n",
        "# Generate and display a word cloud image (Response)\n",
        "wordcloud = WordCloud(background_color='white').generate(Response)\n",
        "plt.imshow(wordcloud, interpolation='bilinear')\n",
        "plt.axis(\"off\")\n",
        "plt.title(\"Response\")\n",
        "print(\" \")\n",
        "plt.show()"
      ],
      "metadata": {
        "id": "G9KqGAyCQcij"
      },
      "execution_count": null,
      "outputs": []
    },
    {
      "cell_type": "code",
      "source": [
        "#@title Most common words\n",
        "\n",
        "# Split the 'Context' documents into words and flatten the list\n",
        "context_words = [word for document in df2[\"Context\"] for word in str(document).split()]\n",
        "\n",
        "# Count the occurrences of each word in 'Context'\n",
        "context_word_counts = Counter(context_words)\n",
        "\n",
        "# Get the most common words and their counts in 'Context'\n",
        "most_common_context_words = context_word_counts.most_common(10)\n",
        "\n",
        "# Unzip the words and their counts in 'Context'\n",
        "context_words, context_counts = zip(*most_common_context_words)\n",
        "\n",
        "# Create and display a bar chart for 'Context'\n",
        "plt.bar(context_words, context_counts)\n",
        "plt.xlabel('Words')\n",
        "plt.ylabel('Frequency')\n",
        "plt.xticks(rotation=45)\n",
        "plt.title(\"Context\")\n",
        "plt.show()\n",
        "\n",
        "# Split the 'Response' documents into words and flatten the list\n",
        "response_words = [word for document in df2[\"Response\"] for word in str(document).split()]\n",
        "\n",
        "# Count the occurrences of each word in 'Response'\n",
        "response_word_counts = Counter(response_words)\n",
        "\n",
        "# Get the most common words and their counts in 'Response'\n",
        "most_common_response_words = response_word_counts.most_common(10)\n",
        "\n",
        "# Unzip the words and their counts in 'Response'\n",
        "response_words, response_counts = zip(*most_common_response_words)\n",
        "\n",
        "# Create and display a bar chart for 'Response'\n",
        "plt.bar(response_words, response_counts)\n",
        "plt.xlabel('Words')\n",
        "plt.ylabel('Frequency')\n",
        "plt.xticks(rotation=45)\n",
        "plt.title(\"Response\")\n",
        "print(\" \")\n",
        "plt.show()"
      ],
      "metadata": {
        "id": "h3qG_uY_Qcij"
      },
      "execution_count": null,
      "outputs": []
    },
    {
      "cell_type": "markdown",
      "source": [
        "# Data 3\n",
        "https://huggingface.co/datasets/mpingale/mental-health-chat-dataset?p=2"
      ],
      "metadata": {
        "id": "7IvcDZZfVGgg"
      }
    },
    {
      "cell_type": "markdown",
      "source": [
        "## Explore data"
      ],
      "metadata": {
        "id": "qF4QzT25VMPG"
      }
    },
    {
      "cell_type": "code",
      "source": [
        "!pip install datasets"
      ],
      "metadata": {
        "colab": {
          "base_uri": "https://localhost:8080/"
        },
        "id": "Rf36tosJV6oT",
        "outputId": "8788006c-2ce6-4306-97b0-5d831c3e20c6"
      },
      "execution_count": null,
      "outputs": [
        {
          "output_type": "stream",
          "name": "stdout",
          "text": [
            "Collecting datasets\n",
            "  Downloading datasets-2.18.0-py3-none-any.whl (510 kB)\n",
            "\u001b[2K     \u001b[90m━━━━━━━━━━━━━━━━━━━━━━━━━━━━━━━━━━━━━━━━\u001b[0m \u001b[32m510.5/510.5 kB\u001b[0m \u001b[31m5.9 MB/s\u001b[0m eta \u001b[36m0:00:00\u001b[0m\n",
            "\u001b[?25hRequirement already satisfied: filelock in /usr/local/lib/python3.10/dist-packages (from datasets) (3.13.1)\n",
            "Requirement already satisfied: numpy>=1.17 in /usr/local/lib/python3.10/dist-packages (from datasets) (1.25.2)\n",
            "Requirement already satisfied: pyarrow>=12.0.0 in /usr/local/lib/python3.10/dist-packages (from datasets) (14.0.2)\n",
            "Requirement already satisfied: pyarrow-hotfix in /usr/local/lib/python3.10/dist-packages (from datasets) (0.6)\n",
            "Collecting dill<0.3.9,>=0.3.0 (from datasets)\n",
            "  Downloading dill-0.3.8-py3-none-any.whl (116 kB)\n",
            "\u001b[2K     \u001b[90m━━━━━━━━━━━━━━━━━━━━━━━━━━━━━━━━━━━━━━━━\u001b[0m \u001b[32m116.3/116.3 kB\u001b[0m \u001b[31m11.2 MB/s\u001b[0m eta \u001b[36m0:00:00\u001b[0m\n",
            "\u001b[?25hRequirement already satisfied: pandas in /usr/local/lib/python3.10/dist-packages (from datasets) (1.5.3)\n",
            "Requirement already satisfied: requests>=2.19.0 in /usr/local/lib/python3.10/dist-packages (from datasets) (2.31.0)\n",
            "Requirement already satisfied: tqdm>=4.62.1 in /usr/local/lib/python3.10/dist-packages (from datasets) (4.66.2)\n",
            "Collecting xxhash (from datasets)\n",
            "  Downloading xxhash-3.4.1-cp310-cp310-manylinux_2_17_x86_64.manylinux2014_x86_64.whl (194 kB)\n",
            "\u001b[2K     \u001b[90m━━━━━━━━━━━━━━━━━━━━━━━━━━━━━━━━━━━━━━━━\u001b[0m \u001b[32m194.1/194.1 kB\u001b[0m \u001b[31m10.9 MB/s\u001b[0m eta \u001b[36m0:00:00\u001b[0m\n",
            "\u001b[?25hCollecting multiprocess (from datasets)\n",
            "  Downloading multiprocess-0.70.16-py310-none-any.whl (134 kB)\n",
            "\u001b[2K     \u001b[90m━━━━━━━━━━━━━━━━━━━━━━━━━━━━━━━━━━━━━━━━\u001b[0m \u001b[32m134.8/134.8 kB\u001b[0m \u001b[31m9.6 MB/s\u001b[0m eta \u001b[36m0:00:00\u001b[0m\n",
            "\u001b[?25hRequirement already satisfied: fsspec[http]<=2024.2.0,>=2023.1.0 in /usr/local/lib/python3.10/dist-packages (from datasets) (2023.6.0)\n",
            "Requirement already satisfied: aiohttp in /usr/local/lib/python3.10/dist-packages (from datasets) (3.9.3)\n",
            "Requirement already satisfied: huggingface-hub>=0.19.4 in /usr/local/lib/python3.10/dist-packages (from datasets) (0.20.3)\n",
            "Requirement already satisfied: packaging in /usr/local/lib/python3.10/dist-packages (from datasets) (24.0)\n",
            "Requirement already satisfied: pyyaml>=5.1 in /usr/local/lib/python3.10/dist-packages (from datasets) (6.0.1)\n",
            "Requirement already satisfied: aiosignal>=1.1.2 in /usr/local/lib/python3.10/dist-packages (from aiohttp->datasets) (1.3.1)\n",
            "Requirement already satisfied: attrs>=17.3.0 in /usr/local/lib/python3.10/dist-packages (from aiohttp->datasets) (23.2.0)\n",
            "Requirement already satisfied: frozenlist>=1.1.1 in /usr/local/lib/python3.10/dist-packages (from aiohttp->datasets) (1.4.1)\n",
            "Requirement already satisfied: multidict<7.0,>=4.5 in /usr/local/lib/python3.10/dist-packages (from aiohttp->datasets) (6.0.5)\n",
            "Requirement already satisfied: yarl<2.0,>=1.0 in /usr/local/lib/python3.10/dist-packages (from aiohttp->datasets) (1.9.4)\n",
            "Requirement already satisfied: async-timeout<5.0,>=4.0 in /usr/local/lib/python3.10/dist-packages (from aiohttp->datasets) (4.0.3)\n",
            "Requirement already satisfied: typing-extensions>=3.7.4.3 in /usr/local/lib/python3.10/dist-packages (from huggingface-hub>=0.19.4->datasets) (4.10.0)\n",
            "Requirement already satisfied: charset-normalizer<4,>=2 in /usr/local/lib/python3.10/dist-packages (from requests>=2.19.0->datasets) (3.3.2)\n",
            "Requirement already satisfied: idna<4,>=2.5 in /usr/local/lib/python3.10/dist-packages (from requests>=2.19.0->datasets) (3.6)\n",
            "Requirement already satisfied: urllib3<3,>=1.21.1 in /usr/local/lib/python3.10/dist-packages (from requests>=2.19.0->datasets) (2.0.7)\n",
            "Requirement already satisfied: certifi>=2017.4.17 in /usr/local/lib/python3.10/dist-packages (from requests>=2.19.0->datasets) (2024.2.2)\n",
            "Requirement already satisfied: python-dateutil>=2.8.1 in /usr/local/lib/python3.10/dist-packages (from pandas->datasets) (2.8.2)\n",
            "Requirement already satisfied: pytz>=2020.1 in /usr/local/lib/python3.10/dist-packages (from pandas->datasets) (2023.4)\n",
            "Requirement already satisfied: six>=1.5 in /usr/local/lib/python3.10/dist-packages (from python-dateutil>=2.8.1->pandas->datasets) (1.16.0)\n",
            "Installing collected packages: xxhash, dill, multiprocess, datasets\n",
            "Successfully installed datasets-2.18.0 dill-0.3.8 multiprocess-0.70.16 xxhash-3.4.1\n"
          ]
        }
      ]
    },
    {
      "cell_type": "code",
      "source": [
        "#@title Load data for Hugging face\n",
        "from datasets import load_dataset\n",
        "\n",
        "dataset = load_dataset(\"mpingale/mental-health-chat-dataset\")"
      ],
      "metadata": {
        "id": "pGzbYi6VVD3d",
        "colab": {
          "base_uri": "https://localhost:8080/",
          "height": 217,
          "referenced_widgets": [
            "9f9e8e3b9f474707a300dc410ef1b30f",
            "dd921524b1ca47ebb759fac7168b7153",
            "21619e4f73714d5fbe1d27465bb628f0",
            "33f0e2fa938e45e9b9af75afc0b9840e",
            "d9259f8761f447ccbb5242da5b021d8a",
            "fe8996f2eee44a1e9a14b8897657066c",
            "a5a0ad979fd14a2a961aba6aba3a1b73",
            "c7865659252d4b429b0ecb834606e13d",
            "b7e706853eab488c853527813428b922",
            "2531ff732c1547faae84dca917a70ff1",
            "348cc0aad0df482cb325db05f466ec87",
            "d5e24cabd2b44035b4a880918d1e83df",
            "ce60c15e5d1a4e6181f61713b97952c0",
            "b71e1680f4a84093ab312b362c282bdf",
            "6810e63fd1cf4be3ae9d41a4f757e813",
            "38bf78ef825e4b42a314ce9010864443",
            "b444e13072b14f90a8b2754422ce5172",
            "b252f5e2181044f597e2683fa19c6887",
            "9ac3fe648d8b482ba878a7c284c04249",
            "f16281b953ad446a827f761b61fb6da7",
            "4a050ccb1d9d469ab1ae1f5bedbe2505",
            "fe6686e6a481466987e343995dc91c45",
            "5626ce0013f9466b971492f853785094",
            "7eff3349029a470e97024b1a5b272ec7",
            "80891e26097f47a3830ce3a2b2298888",
            "d6ef2686d96d462585a751c8f1916d8b",
            "1040322b895c4d0f8c88c9d39d2a2d39",
            "46849b11a6e44592ba566302ffd04c34",
            "09a5a77cde884065bf1dbbe44c8c4b24",
            "1d3a412a8e014447b5d8afb490b9d36c",
            "f4b48d885391419196fbaec6b55917ff",
            "3a369ceb058c4abfa6c2333569aa8282",
            "6c23ee77e896488caa75d55a34cf390b"
          ]
        },
        "outputId": "ad8ed7e6-9652-4d43-84b7-b1abec18b188"
      },
      "execution_count": null,
      "outputs": [
        {
          "output_type": "stream",
          "name": "stderr",
          "text": [
            "/usr/local/lib/python3.10/dist-packages/huggingface_hub/utils/_token.py:88: UserWarning: \n",
            "The secret `HF_TOKEN` does not exist in your Colab secrets.\n",
            "To authenticate with the Hugging Face Hub, create a token in your settings tab (https://huggingface.co/settings/tokens), set it as secret in your Google Colab and restart your session.\n",
            "You will be able to reuse this secret in all of your notebooks.\n",
            "Please note that authentication is recommended but still optional to access public models or datasets.\n",
            "  warnings.warn(\n"
          ]
        },
        {
          "output_type": "display_data",
          "data": {
            "text/plain": [
              "Downloading readme:   0%|          | 0.00/840 [00:00<?, ?B/s]"
            ],
            "application/vnd.jupyter.widget-view+json": {
              "version_major": 2,
              "version_minor": 0,
              "model_id": "9f9e8e3b9f474707a300dc410ef1b30f"
            }
          },
          "metadata": {}
        },
        {
          "output_type": "display_data",
          "data": {
            "text/plain": [
              "Downloading data:   0%|          | 0.00/3.64M [00:00<?, ?B/s]"
            ],
            "application/vnd.jupyter.widget-view+json": {
              "version_major": 2,
              "version_minor": 0,
              "model_id": "d5e24cabd2b44035b4a880918d1e83df"
            }
          },
          "metadata": {}
        },
        {
          "output_type": "display_data",
          "data": {
            "text/plain": [
              "Generating train split:   0%|          | 0/2775 [00:00<?, ? examples/s]"
            ],
            "application/vnd.jupyter.widget-view+json": {
              "version_major": 2,
              "version_minor": 0,
              "model_id": "5626ce0013f9466b971492f853785094"
            }
          },
          "metadata": {}
        }
      ]
    },
    {
      "cell_type": "code",
      "source": [
        "#@title Convert to Pandas df\n",
        "\n",
        "train_dataset = dataset[\"train\"]\n",
        "df3 = train_dataset.to_pandas()\n",
        "\n",
        "df3.head()"
      ],
      "metadata": {
        "colab": {
          "base_uri": "https://localhost:8080/",
          "height": 206
        },
        "id": "9vFsNZPUVPxZ",
        "outputId": "64e6bc19-63af-4931-bfdd-588f3bd6cc00"
      },
      "execution_count": null,
      "outputs": [
        {
          "output_type": "execute_result",
          "data": {
            "text/plain": [
              "   questionID                              questionTitle  \\\n",
              "0           0  Do I have too many issues for counseling?   \n",
              "1           0  Do I have too many issues for counseling?   \n",
              "2           0  Do I have too many issues for counseling?   \n",
              "3           0  Do I have too many issues for counseling?   \n",
              "4           0  Do I have too many issues for counseling?   \n",
              "\n",
              "                                        questionText  \\\n",
              "0  I have so many issues to address. I have a his...   \n",
              "1  I have so many issues to address. I have a his...   \n",
              "2  I have so many issues to address. I have a his...   \n",
              "3  I have so many issues to address. I have a his...   \n",
              "4  I have so many issues to address. I have a his...   \n",
              "\n",
              "                                        questionLink       topic  \\\n",
              "0  https://counselchat.com/questions/do-i-have-to...  depression   \n",
              "1  https://counselchat.com/questions/do-i-have-to...  depression   \n",
              "2  https://counselchat.com/questions/do-i-have-to...  depression   \n",
              "3  https://counselchat.com/questions/do-i-have-to...  depression   \n",
              "4  https://counselchat.com/questions/do-i-have-to...  depression   \n",
              "\n",
              "                                       therapistInfo  \\\n",
              "0  Jennifer MolinariHypnotherapist & Licensed Cou...   \n",
              "1  Jason Lynch, MS, LMHC, LCAC, ADSIndividual & C...   \n",
              "2  Shakeeta TorresFaith Based Mental Health Couns...   \n",
              "3  Noorayne ChevalierMA, RP, CCC, CCAC, LLP (Mich...   \n",
              "4  Toni Teixeira, LCSWYour road to healing begins...   \n",
              "\n",
              "                                        therapistURL  \\\n",
              "0  https://counselchat.com/therapists/jennifer-mo...   \n",
              "1  https://counselchat.com/therapists/jason-lynch...   \n",
              "2  https://counselchat.com/therapists/shakeeta-to...   \n",
              "3  https://counselchat.com/therapists/noorayne-ch...   \n",
              "4  https://counselchat.com/therapists/toni-teixei...   \n",
              "\n",
              "                                          answerText  upvotes  views  \\\n",
              "0  It is very common for people to have multiple ...        3   1971   \n",
              "1  I've never heard of someone having \"too many i...        2    386   \n",
              "2  Absolutely not.  I strongly recommending worki...        2   3071   \n",
              "3  Let me start by saying there are never too man...        2   2643   \n",
              "4  I just want to acknowledge you for the courage...        1    256   \n",
              "\n",
              "                                                text  \n",
              "0  <s>[INST] I have so many issues to address. I ...  \n",
              "1  <s>[INST] I have so many issues to address. I ...  \n",
              "2  <s>[INST] I have so many issues to address. I ...  \n",
              "3  <s>[INST] I have so many issues to address. I ...  \n",
              "4  <s>[INST] I have so many issues to address. I ...  "
            ],
            "text/html": [
              "\n",
              "  <div id=\"df-b051d715-127c-41dd-9b24-b36aad14bdc4\" class=\"colab-df-container\">\n",
              "    <div>\n",
              "<style scoped>\n",
              "    .dataframe tbody tr th:only-of-type {\n",
              "        vertical-align: middle;\n",
              "    }\n",
              "\n",
              "    .dataframe tbody tr th {\n",
              "        vertical-align: top;\n",
              "    }\n",
              "\n",
              "    .dataframe thead th {\n",
              "        text-align: right;\n",
              "    }\n",
              "</style>\n",
              "<table border=\"1\" class=\"dataframe\">\n",
              "  <thead>\n",
              "    <tr style=\"text-align: right;\">\n",
              "      <th></th>\n",
              "      <th>questionID</th>\n",
              "      <th>questionTitle</th>\n",
              "      <th>questionText</th>\n",
              "      <th>questionLink</th>\n",
              "      <th>topic</th>\n",
              "      <th>therapistInfo</th>\n",
              "      <th>therapistURL</th>\n",
              "      <th>answerText</th>\n",
              "      <th>upvotes</th>\n",
              "      <th>views</th>\n",
              "      <th>text</th>\n",
              "    </tr>\n",
              "  </thead>\n",
              "  <tbody>\n",
              "    <tr>\n",
              "      <th>0</th>\n",
              "      <td>0</td>\n",
              "      <td>Do I have too many issues for counseling?</td>\n",
              "      <td>I have so many issues to address. I have a his...</td>\n",
              "      <td>https://counselchat.com/questions/do-i-have-to...</td>\n",
              "      <td>depression</td>\n",
              "      <td>Jennifer MolinariHypnotherapist &amp; Licensed Cou...</td>\n",
              "      <td>https://counselchat.com/therapists/jennifer-mo...</td>\n",
              "      <td>It is very common for people to have multiple ...</td>\n",
              "      <td>3</td>\n",
              "      <td>1971</td>\n",
              "      <td>&lt;s&gt;[INST] I have so many issues to address. I ...</td>\n",
              "    </tr>\n",
              "    <tr>\n",
              "      <th>1</th>\n",
              "      <td>0</td>\n",
              "      <td>Do I have too many issues for counseling?</td>\n",
              "      <td>I have so many issues to address. I have a his...</td>\n",
              "      <td>https://counselchat.com/questions/do-i-have-to...</td>\n",
              "      <td>depression</td>\n",
              "      <td>Jason Lynch, MS, LMHC, LCAC, ADSIndividual &amp; C...</td>\n",
              "      <td>https://counselchat.com/therapists/jason-lynch...</td>\n",
              "      <td>I've never heard of someone having \"too many i...</td>\n",
              "      <td>2</td>\n",
              "      <td>386</td>\n",
              "      <td>&lt;s&gt;[INST] I have so many issues to address. I ...</td>\n",
              "    </tr>\n",
              "    <tr>\n",
              "      <th>2</th>\n",
              "      <td>0</td>\n",
              "      <td>Do I have too many issues for counseling?</td>\n",
              "      <td>I have so many issues to address. I have a his...</td>\n",
              "      <td>https://counselchat.com/questions/do-i-have-to...</td>\n",
              "      <td>depression</td>\n",
              "      <td>Shakeeta TorresFaith Based Mental Health Couns...</td>\n",
              "      <td>https://counselchat.com/therapists/shakeeta-to...</td>\n",
              "      <td>Absolutely not.  I strongly recommending worki...</td>\n",
              "      <td>2</td>\n",
              "      <td>3071</td>\n",
              "      <td>&lt;s&gt;[INST] I have so many issues to address. I ...</td>\n",
              "    </tr>\n",
              "    <tr>\n",
              "      <th>3</th>\n",
              "      <td>0</td>\n",
              "      <td>Do I have too many issues for counseling?</td>\n",
              "      <td>I have so many issues to address. I have a his...</td>\n",
              "      <td>https://counselchat.com/questions/do-i-have-to...</td>\n",
              "      <td>depression</td>\n",
              "      <td>Noorayne ChevalierMA, RP, CCC, CCAC, LLP (Mich...</td>\n",
              "      <td>https://counselchat.com/therapists/noorayne-ch...</td>\n",
              "      <td>Let me start by saying there are never too man...</td>\n",
              "      <td>2</td>\n",
              "      <td>2643</td>\n",
              "      <td>&lt;s&gt;[INST] I have so many issues to address. I ...</td>\n",
              "    </tr>\n",
              "    <tr>\n",
              "      <th>4</th>\n",
              "      <td>0</td>\n",
              "      <td>Do I have too many issues for counseling?</td>\n",
              "      <td>I have so many issues to address. I have a his...</td>\n",
              "      <td>https://counselchat.com/questions/do-i-have-to...</td>\n",
              "      <td>depression</td>\n",
              "      <td>Toni Teixeira, LCSWYour road to healing begins...</td>\n",
              "      <td>https://counselchat.com/therapists/toni-teixei...</td>\n",
              "      <td>I just want to acknowledge you for the courage...</td>\n",
              "      <td>1</td>\n",
              "      <td>256</td>\n",
              "      <td>&lt;s&gt;[INST] I have so many issues to address. I ...</td>\n",
              "    </tr>\n",
              "  </tbody>\n",
              "</table>\n",
              "</div>\n",
              "    <div class=\"colab-df-buttons\">\n",
              "\n",
              "  <div class=\"colab-df-container\">\n",
              "    <button class=\"colab-df-convert\" onclick=\"convertToInteractive('df-b051d715-127c-41dd-9b24-b36aad14bdc4')\"\n",
              "            title=\"Convert this dataframe to an interactive table.\"\n",
              "            style=\"display:none;\">\n",
              "\n",
              "  <svg xmlns=\"http://www.w3.org/2000/svg\" height=\"24px\" viewBox=\"0 -960 960 960\">\n",
              "    <path d=\"M120-120v-720h720v720H120Zm60-500h600v-160H180v160Zm220 220h160v-160H400v160Zm0 220h160v-160H400v160ZM180-400h160v-160H180v160Zm440 0h160v-160H620v160ZM180-180h160v-160H180v160Zm440 0h160v-160H620v160Z\"/>\n",
              "  </svg>\n",
              "    </button>\n",
              "\n",
              "  <style>\n",
              "    .colab-df-container {\n",
              "      display:flex;\n",
              "      gap: 12px;\n",
              "    }\n",
              "\n",
              "    .colab-df-convert {\n",
              "      background-color: #E8F0FE;\n",
              "      border: none;\n",
              "      border-radius: 50%;\n",
              "      cursor: pointer;\n",
              "      display: none;\n",
              "      fill: #1967D2;\n",
              "      height: 32px;\n",
              "      padding: 0 0 0 0;\n",
              "      width: 32px;\n",
              "    }\n",
              "\n",
              "    .colab-df-convert:hover {\n",
              "      background-color: #E2EBFA;\n",
              "      box-shadow: 0px 1px 2px rgba(60, 64, 67, 0.3), 0px 1px 3px 1px rgba(60, 64, 67, 0.15);\n",
              "      fill: #174EA6;\n",
              "    }\n",
              "\n",
              "    .colab-df-buttons div {\n",
              "      margin-bottom: 4px;\n",
              "    }\n",
              "\n",
              "    [theme=dark] .colab-df-convert {\n",
              "      background-color: #3B4455;\n",
              "      fill: #D2E3FC;\n",
              "    }\n",
              "\n",
              "    [theme=dark] .colab-df-convert:hover {\n",
              "      background-color: #434B5C;\n",
              "      box-shadow: 0px 1px 3px 1px rgba(0, 0, 0, 0.15);\n",
              "      filter: drop-shadow(0px 1px 2px rgba(0, 0, 0, 0.3));\n",
              "      fill: #FFFFFF;\n",
              "    }\n",
              "  </style>\n",
              "\n",
              "    <script>\n",
              "      const buttonEl =\n",
              "        document.querySelector('#df-b051d715-127c-41dd-9b24-b36aad14bdc4 button.colab-df-convert');\n",
              "      buttonEl.style.display =\n",
              "        google.colab.kernel.accessAllowed ? 'block' : 'none';\n",
              "\n",
              "      async function convertToInteractive(key) {\n",
              "        const element = document.querySelector('#df-b051d715-127c-41dd-9b24-b36aad14bdc4');\n",
              "        const dataTable =\n",
              "          await google.colab.kernel.invokeFunction('convertToInteractive',\n",
              "                                                    [key], {});\n",
              "        if (!dataTable) return;\n",
              "\n",
              "        const docLinkHtml = 'Like what you see? Visit the ' +\n",
              "          '<a target=\"_blank\" href=https://colab.research.google.com/notebooks/data_table.ipynb>data table notebook</a>'\n",
              "          + ' to learn more about interactive tables.';\n",
              "        element.innerHTML = '';\n",
              "        dataTable['output_type'] = 'display_data';\n",
              "        await google.colab.output.renderOutput(dataTable, element);\n",
              "        const docLink = document.createElement('div');\n",
              "        docLink.innerHTML = docLinkHtml;\n",
              "        element.appendChild(docLink);\n",
              "      }\n",
              "    </script>\n",
              "  </div>\n",
              "\n",
              "\n",
              "<div id=\"df-5d1756ca-0576-4606-a3e1-718977d2b50d\">\n",
              "  <button class=\"colab-df-quickchart\" onclick=\"quickchart('df-5d1756ca-0576-4606-a3e1-718977d2b50d')\"\n",
              "            title=\"Suggest charts\"\n",
              "            style=\"display:none;\">\n",
              "\n",
              "<svg xmlns=\"http://www.w3.org/2000/svg\" height=\"24px\"viewBox=\"0 0 24 24\"\n",
              "     width=\"24px\">\n",
              "    <g>\n",
              "        <path d=\"M19 3H5c-1.1 0-2 .9-2 2v14c0 1.1.9 2 2 2h14c1.1 0 2-.9 2-2V5c0-1.1-.9-2-2-2zM9 17H7v-7h2v7zm4 0h-2V7h2v10zm4 0h-2v-4h2v4z\"/>\n",
              "    </g>\n",
              "</svg>\n",
              "  </button>\n",
              "\n",
              "<style>\n",
              "  .colab-df-quickchart {\n",
              "      --bg-color: #E8F0FE;\n",
              "      --fill-color: #1967D2;\n",
              "      --hover-bg-color: #E2EBFA;\n",
              "      --hover-fill-color: #174EA6;\n",
              "      --disabled-fill-color: #AAA;\n",
              "      --disabled-bg-color: #DDD;\n",
              "  }\n",
              "\n",
              "  [theme=dark] .colab-df-quickchart {\n",
              "      --bg-color: #3B4455;\n",
              "      --fill-color: #D2E3FC;\n",
              "      --hover-bg-color: #434B5C;\n",
              "      --hover-fill-color: #FFFFFF;\n",
              "      --disabled-bg-color: #3B4455;\n",
              "      --disabled-fill-color: #666;\n",
              "  }\n",
              "\n",
              "  .colab-df-quickchart {\n",
              "    background-color: var(--bg-color);\n",
              "    border: none;\n",
              "    border-radius: 50%;\n",
              "    cursor: pointer;\n",
              "    display: none;\n",
              "    fill: var(--fill-color);\n",
              "    height: 32px;\n",
              "    padding: 0;\n",
              "    width: 32px;\n",
              "  }\n",
              "\n",
              "  .colab-df-quickchart:hover {\n",
              "    background-color: var(--hover-bg-color);\n",
              "    box-shadow: 0 1px 2px rgba(60, 64, 67, 0.3), 0 1px 3px 1px rgba(60, 64, 67, 0.15);\n",
              "    fill: var(--button-hover-fill-color);\n",
              "  }\n",
              "\n",
              "  .colab-df-quickchart-complete:disabled,\n",
              "  .colab-df-quickchart-complete:disabled:hover {\n",
              "    background-color: var(--disabled-bg-color);\n",
              "    fill: var(--disabled-fill-color);\n",
              "    box-shadow: none;\n",
              "  }\n",
              "\n",
              "  .colab-df-spinner {\n",
              "    border: 2px solid var(--fill-color);\n",
              "    border-color: transparent;\n",
              "    border-bottom-color: var(--fill-color);\n",
              "    animation:\n",
              "      spin 1s steps(1) infinite;\n",
              "  }\n",
              "\n",
              "  @keyframes spin {\n",
              "    0% {\n",
              "      border-color: transparent;\n",
              "      border-bottom-color: var(--fill-color);\n",
              "      border-left-color: var(--fill-color);\n",
              "    }\n",
              "    20% {\n",
              "      border-color: transparent;\n",
              "      border-left-color: var(--fill-color);\n",
              "      border-top-color: var(--fill-color);\n",
              "    }\n",
              "    30% {\n",
              "      border-color: transparent;\n",
              "      border-left-color: var(--fill-color);\n",
              "      border-top-color: var(--fill-color);\n",
              "      border-right-color: var(--fill-color);\n",
              "    }\n",
              "    40% {\n",
              "      border-color: transparent;\n",
              "      border-right-color: var(--fill-color);\n",
              "      border-top-color: var(--fill-color);\n",
              "    }\n",
              "    60% {\n",
              "      border-color: transparent;\n",
              "      border-right-color: var(--fill-color);\n",
              "    }\n",
              "    80% {\n",
              "      border-color: transparent;\n",
              "      border-right-color: var(--fill-color);\n",
              "      border-bottom-color: var(--fill-color);\n",
              "    }\n",
              "    90% {\n",
              "      border-color: transparent;\n",
              "      border-bottom-color: var(--fill-color);\n",
              "    }\n",
              "  }\n",
              "</style>\n",
              "\n",
              "  <script>\n",
              "    async function quickchart(key) {\n",
              "      const quickchartButtonEl =\n",
              "        document.querySelector('#' + key + ' button');\n",
              "      quickchartButtonEl.disabled = true;  // To prevent multiple clicks.\n",
              "      quickchartButtonEl.classList.add('colab-df-spinner');\n",
              "      try {\n",
              "        const charts = await google.colab.kernel.invokeFunction(\n",
              "            'suggestCharts', [key], {});\n",
              "      } catch (error) {\n",
              "        console.error('Error during call to suggestCharts:', error);\n",
              "      }\n",
              "      quickchartButtonEl.classList.remove('colab-df-spinner');\n",
              "      quickchartButtonEl.classList.add('colab-df-quickchart-complete');\n",
              "    }\n",
              "    (() => {\n",
              "      let quickchartButtonEl =\n",
              "        document.querySelector('#df-5d1756ca-0576-4606-a3e1-718977d2b50d button');\n",
              "      quickchartButtonEl.style.display =\n",
              "        google.colab.kernel.accessAllowed ? 'block' : 'none';\n",
              "    })();\n",
              "  </script>\n",
              "</div>\n",
              "    </div>\n",
              "  </div>\n"
            ],
            "application/vnd.google.colaboratory.intrinsic+json": {
              "type": "dataframe",
              "variable_name": "df3",
              "summary": "{\n  \"name\": \"df3\",\n  \"rows\": 2775,\n  \"fields\": [\n    {\n      \"column\": \"questionID\",\n      \"properties\": {\n        \"dtype\": \"number\",\n        \"std\": 307,\n        \"min\": 0,\n        \"max\": 939,\n        \"num_unique_values\": 940,\n        \"samples\": [\n          605,\n          63,\n          136\n        ],\n        \"semantic_type\": \"\",\n        \"description\": \"\"\n      }\n    },\n    {\n      \"column\": \"questionTitle\",\n      \"properties\": {\n        \"dtype\": \"category\",\n        \"num_unique_values\": 933,\n        \"samples\": [\n          \"How can I know what my sexual orientation is?\",\n          \"My parents are getting a divorce and I feel depressed\",\n          \"My sister and my husband had an affair\"\n        ],\n        \"semantic_type\": \"\",\n        \"description\": \"\"\n      }\n    },\n    {\n      \"column\": \"questionText\",\n      \"properties\": {\n        \"dtype\": \"category\",\n        \"num_unique_values\": 865,\n        \"samples\": [\n          \"My partner lives in Canada while I live in the US. We visit each other, but we go months in between visits. I have anxiety, and I'm always anxious about him cheating or still having feelings for an ex that he dated for three years. He doesn't understand my anxiety. How do I stop myself from worrying so much?\",\n          \"I've been with him for a couple months. We will talk everyday and he will get mad over something I will say and not talk to me. We have our great moments, but I just need to focus on my personal situations, and I feel he is slowing me down with that. I still wanna be with him, but not now.\",\n          \"She treats me like I'm not in her presence. She\\u2019s always yelling at me for no reason. She gives more respect to my brothers than me, but only my brothers fight her while I respect her.\"\n        ],\n        \"semantic_type\": \"\",\n        \"description\": \"\"\n      }\n    },\n    {\n      \"column\": \"questionLink\",\n      \"properties\": {\n        \"dtype\": \"category\",\n        \"num_unique_values\": 940,\n        \"samples\": [\n          \"https://counselchat.com/questions/why-can-t-i-stop-crying\",\n          \"https://counselchat.com/questions/i-have-long-spurts-of-depression-anxiety-and-need-change-constantly-why\",\n          \"https://counselchat.com/questions/i-hate-talking-to-people-much-less-strangers\"\n        ],\n        \"semantic_type\": \"\",\n        \"description\": \"\"\n      }\n    },\n    {\n      \"column\": \"topic\",\n      \"properties\": {\n        \"dtype\": \"category\",\n        \"num_unique_values\": 31,\n        \"samples\": [\n          \"military-issues\",\n          \"marriage\",\n          \"stress\"\n        ],\n        \"semantic_type\": \"\",\n        \"description\": \"\"\n      }\n    },\n    {\n      \"column\": \"therapistInfo\",\n      \"properties\": {\n        \"dtype\": \"category\",\n        \"num_unique_values\": 437,\n        \"samples\": [\n          \"Lisa Provorny\",\n          \"Adriana DyurichCOUNSELING, WELLNESS, AND CONSULTING for for Moms, moms to be and their children\",\n          \"Amy Fortney ParksChild & Adolescent Psychologist, Parent Coach, Educational Consultant\"\n        ],\n        \"semantic_type\": \"\",\n        \"description\": \"\"\n      }\n    },\n    {\n      \"column\": \"therapistURL\",\n      \"properties\": {\n        \"dtype\": \"category\",\n        \"num_unique_values\": 433,\n        \"samples\": [\n          \"https://counselchat.com/therapists/ida-duplechin\",\n          \"https://counselchat.com/therapists/amelia-mora-mars\",\n          \"https://counselchat.com/therapists/rebecca-wong\"\n        ],\n        \"semantic_type\": \"\",\n        \"description\": \"\"\n      }\n    },\n    {\n      \"column\": \"answerText\",\n      \"properties\": {\n        \"dtype\": \"string\",\n        \"num_unique_values\": 2738,\n        \"samples\": [\n          \"It sounds like you have been thinking about how past hurts have influenced you, and when you try to talk about these hurts with people in your life, you are feeling invalidated. It also sounds like current conflicts are continuing to leave you feeling hurt and devalued. In working with a therapist, you may be able to get some clarity about your past, who you are, and what kinds of boundaries you want in your relationships, so that you can lead a life that is more satisfying to you.\",\n          \"I've heard people say that they cut themselves as a way to feel relief from different emotions. You're also right that when you try to focus on just not cutting, it becomes more difficult because it's what you are focused on. While that is still something to work on, it may also be helpful to find something else you can do instead. You said drawing doesn't work for you. Sometimes more physical activities, such as doing a few jumping jacks, can be helpful. If you don't exercise, it might be something to talk with your doctor about first.The more you can learn about what makes you want to cut, the easier it will be to find out what you could do to change that. Try talking to somebody about what you are feeling in addition to the urge to cut.\",\n          \"You already are doing that! You are reaching out (virtually still counts!). You are accepting your past, you are not denying what happened to you, you are talking about the past. You are already doing a great job of starting this journey. You get your life back by doing things differently.I would think about how you would like to process your past. Do you want to talk to someone? Do you want to write about it? Do you want to pray about it? Do you want to read and research books about trauma? Take some time and think about what you want to do. Think about what would work for you and dive in. I am a Licensed Professional Counselor, so I am biased - but I really believe that counseling works. Having an objective, professional voice that can guide you on this process is so valuable. But please choose what makes you feel comfortable - not what everyone else says. I think you are very brave for reaching out and wanting to work on this. That takes a tremendous amount of courage and strength.\"\n        ],\n        \"semantic_type\": \"\",\n        \"description\": \"\"\n      }\n    },\n    {\n      \"column\": \"upvotes\",\n      \"properties\": {\n        \"dtype\": \"number\",\n        \"std\": 1,\n        \"min\": 0,\n        \"max\": 12,\n        \"num_unique_values\": 11,\n        \"samples\": [\n          4,\n          3,\n          10\n        ],\n        \"semantic_type\": \"\",\n        \"description\": \"\"\n      }\n    },\n    {\n      \"column\": \"views\",\n      \"properties\": {\n        \"dtype\": \"number\",\n        \"std\": 796,\n        \"min\": 1,\n        \"max\": 16738,\n        \"num_unique_values\": 732,\n        \"samples\": [\n          387,\n          187,\n          30\n        ],\n        \"semantic_type\": \"\",\n        \"description\": \"\"\n      }\n    },\n    {\n      \"column\": \"text\",\n      \"properties\": {\n        \"dtype\": \"string\",\n        \"num_unique_values\": 2771,\n        \"samples\": [\n          \"<s>[INST] I'm going through a majorly bad divorce and my wife is making things so impossible for me. I need help. [/INST] Crying due to a dissolution of a marriage, is normal. \\u00a0Hating yourself may be a sign of extreme sadness, feelings of loss and uncertainty.Do you know why you hate yourself?\\u00a0Discovering your reason is the first step in knowing the obstacles and then the additional steps possible, to move from \\\"hate\\\" to \\\"self-love\\\".Divorce signals a loss of familiar life structure and daily routines. \\u00a0 As with any meaningful loss, crying is part of mourning what is soon to be gone.If you have confidence in your attorney's handling of the legal areas related to the divorce, and the \\\"impossible\\\" you reference is on facing and coming to terms with statements and behaviors from your wife that you never noticed before, then your best choice is to find a therapist whom you feel at ease in talking with, to sort through the emotional upheaval within yourself and your everyday life and world.Divorce is a wonderful time for learning about ones own emotional needs and expectations in relationships since these are the areas currently coming apart.The good news behind losing something that seems valuable, is that new space becomes open to attract what is more suitable for who you are. </s>\",\n          \"<s>[INST] I was raped a couple months ago, Since then, along with other unfortunately events that have occurred, I have been having trouble feeling emotions. It's almost as if I'm a sociopath lacking any feeling. What can I do to change this? [/INST] You have experienced trauma. Feeling detached or having difficulty connecting with your emotions is a common response after experiencing a traumatic event. It is the brain's way of trying to protect us from something that is incredibly overwhelming. I recommend finding an EMDR therapist.\\u00a0Eye Movement Desensitization and Reprocessing (EMDR) therapy is an integrative psychotherapy approach that has been extensively researched and proven effective for the treatment of trauma. As an EMDR therapist can attest to the massive changes that using EMDR has had for many of the people I have worked with. When we\\u00a0experience a trauma, the sooner we can address it with EMDR, the quicker you will feel relief and the less likely it is to become \\\"stuck\\\" in your long term\\u00a0memory. </s>\",\n          \"<s>[INST] I'm a teenager and I get these really intense mood swings.    My mood will be really high and I'll think of something that I want to do. When I start to make it happen I get irritated by other people if they intervene. Then if the thing I wanted to do doesn't work out, I have these tendencies to blame other people for it not working out.    Can you explain what's going on? [/INST] Mood swings and getting frustrated when things don't work out is totally normal. Sometimes, we get tied to one thing we really want to do and it can feel pretty intense when that gets interrupted or doesn't work out. This said, you're coming to CounselChat and so I'm guessing this is something that is pretty intense for you and something that you are concerned about. If this is getting in the way of your life, it may be worthwhile to reach out to a therapist or doctor to get some help with this and see if there might be something more going on. While for most people frustration/mood swings is related to typical life and stress, if very intense it can be a sign of a number of challenges ranging from anxiety to a traumatic experience to something like Bipolar Disorder where a person's mood and energy might fly so high (mania) that one feels like they can do anything but often become frustrated when interrupted (note: there is a lot more to Bipolar Disorder than this and this is certainly not a diagnosis). Wish you well! </s>\"\n        ],\n        \"semantic_type\": \"\",\n        \"description\": \"\"\n      }\n    }\n  ]\n}"
            }
          },
          "metadata": {},
          "execution_count": 7
        }
      ]
    },
    {
      "cell_type": "code",
      "source": [
        "#@title Drop columns\n",
        "\n",
        "# Select only the 'questionText' and 'answerText' columns\n",
        "df3 = df3[['questionText', 'answerText']]\n",
        "df3.head()"
      ],
      "metadata": {
        "colab": {
          "base_uri": "https://localhost:8080/",
          "height": 206
        },
        "id": "vyDiEhNhclJL",
        "outputId": "3b7ecd9f-a516-44a8-e83a-f1018ec443e0"
      },
      "execution_count": null,
      "outputs": [
        {
          "output_type": "execute_result",
          "data": {
            "text/plain": [
              "                                        questionText  \\\n",
              "0  I have so many issues to address. I have a his...   \n",
              "1  I have so many issues to address. I have a his...   \n",
              "2  I have so many issues to address. I have a his...   \n",
              "3  I have so many issues to address. I have a his...   \n",
              "4  I have so many issues to address. I have a his...   \n",
              "\n",
              "                                          answerText  \n",
              "0  It is very common for people to have multiple ...  \n",
              "1  I've never heard of someone having \"too many i...  \n",
              "2  Absolutely not.  I strongly recommending worki...  \n",
              "3  Let me start by saying there are never too man...  \n",
              "4  I just want to acknowledge you for the courage...  "
            ],
            "text/html": [
              "\n",
              "  <div id=\"df-6b23ed82-c2ac-46b6-aa0f-232b3eae464f\" class=\"colab-df-container\">\n",
              "    <div>\n",
              "<style scoped>\n",
              "    .dataframe tbody tr th:only-of-type {\n",
              "        vertical-align: middle;\n",
              "    }\n",
              "\n",
              "    .dataframe tbody tr th {\n",
              "        vertical-align: top;\n",
              "    }\n",
              "\n",
              "    .dataframe thead th {\n",
              "        text-align: right;\n",
              "    }\n",
              "</style>\n",
              "<table border=\"1\" class=\"dataframe\">\n",
              "  <thead>\n",
              "    <tr style=\"text-align: right;\">\n",
              "      <th></th>\n",
              "      <th>questionText</th>\n",
              "      <th>answerText</th>\n",
              "    </tr>\n",
              "  </thead>\n",
              "  <tbody>\n",
              "    <tr>\n",
              "      <th>0</th>\n",
              "      <td>I have so many issues to address. I have a his...</td>\n",
              "      <td>It is very common for people to have multiple ...</td>\n",
              "    </tr>\n",
              "    <tr>\n",
              "      <th>1</th>\n",
              "      <td>I have so many issues to address. I have a his...</td>\n",
              "      <td>I've never heard of someone having \"too many i...</td>\n",
              "    </tr>\n",
              "    <tr>\n",
              "      <th>2</th>\n",
              "      <td>I have so many issues to address. I have a his...</td>\n",
              "      <td>Absolutely not.  I strongly recommending worki...</td>\n",
              "    </tr>\n",
              "    <tr>\n",
              "      <th>3</th>\n",
              "      <td>I have so many issues to address. I have a his...</td>\n",
              "      <td>Let me start by saying there are never too man...</td>\n",
              "    </tr>\n",
              "    <tr>\n",
              "      <th>4</th>\n",
              "      <td>I have so many issues to address. I have a his...</td>\n",
              "      <td>I just want to acknowledge you for the courage...</td>\n",
              "    </tr>\n",
              "  </tbody>\n",
              "</table>\n",
              "</div>\n",
              "    <div class=\"colab-df-buttons\">\n",
              "\n",
              "  <div class=\"colab-df-container\">\n",
              "    <button class=\"colab-df-convert\" onclick=\"convertToInteractive('df-6b23ed82-c2ac-46b6-aa0f-232b3eae464f')\"\n",
              "            title=\"Convert this dataframe to an interactive table.\"\n",
              "            style=\"display:none;\">\n",
              "\n",
              "  <svg xmlns=\"http://www.w3.org/2000/svg\" height=\"24px\" viewBox=\"0 -960 960 960\">\n",
              "    <path d=\"M120-120v-720h720v720H120Zm60-500h600v-160H180v160Zm220 220h160v-160H400v160Zm0 220h160v-160H400v160ZM180-400h160v-160H180v160Zm440 0h160v-160H620v160ZM180-180h160v-160H180v160Zm440 0h160v-160H620v160Z\"/>\n",
              "  </svg>\n",
              "    </button>\n",
              "\n",
              "  <style>\n",
              "    .colab-df-container {\n",
              "      display:flex;\n",
              "      gap: 12px;\n",
              "    }\n",
              "\n",
              "    .colab-df-convert {\n",
              "      background-color: #E8F0FE;\n",
              "      border: none;\n",
              "      border-radius: 50%;\n",
              "      cursor: pointer;\n",
              "      display: none;\n",
              "      fill: #1967D2;\n",
              "      height: 32px;\n",
              "      padding: 0 0 0 0;\n",
              "      width: 32px;\n",
              "    }\n",
              "\n",
              "    .colab-df-convert:hover {\n",
              "      background-color: #E2EBFA;\n",
              "      box-shadow: 0px 1px 2px rgba(60, 64, 67, 0.3), 0px 1px 3px 1px rgba(60, 64, 67, 0.15);\n",
              "      fill: #174EA6;\n",
              "    }\n",
              "\n",
              "    .colab-df-buttons div {\n",
              "      margin-bottom: 4px;\n",
              "    }\n",
              "\n",
              "    [theme=dark] .colab-df-convert {\n",
              "      background-color: #3B4455;\n",
              "      fill: #D2E3FC;\n",
              "    }\n",
              "\n",
              "    [theme=dark] .colab-df-convert:hover {\n",
              "      background-color: #434B5C;\n",
              "      box-shadow: 0px 1px 3px 1px rgba(0, 0, 0, 0.15);\n",
              "      filter: drop-shadow(0px 1px 2px rgba(0, 0, 0, 0.3));\n",
              "      fill: #FFFFFF;\n",
              "    }\n",
              "  </style>\n",
              "\n",
              "    <script>\n",
              "      const buttonEl =\n",
              "        document.querySelector('#df-6b23ed82-c2ac-46b6-aa0f-232b3eae464f button.colab-df-convert');\n",
              "      buttonEl.style.display =\n",
              "        google.colab.kernel.accessAllowed ? 'block' : 'none';\n",
              "\n",
              "      async function convertToInteractive(key) {\n",
              "        const element = document.querySelector('#df-6b23ed82-c2ac-46b6-aa0f-232b3eae464f');\n",
              "        const dataTable =\n",
              "          await google.colab.kernel.invokeFunction('convertToInteractive',\n",
              "                                                    [key], {});\n",
              "        if (!dataTable) return;\n",
              "\n",
              "        const docLinkHtml = 'Like what you see? Visit the ' +\n",
              "          '<a target=\"_blank\" href=https://colab.research.google.com/notebooks/data_table.ipynb>data table notebook</a>'\n",
              "          + ' to learn more about interactive tables.';\n",
              "        element.innerHTML = '';\n",
              "        dataTable['output_type'] = 'display_data';\n",
              "        await google.colab.output.renderOutput(dataTable, element);\n",
              "        const docLink = document.createElement('div');\n",
              "        docLink.innerHTML = docLinkHtml;\n",
              "        element.appendChild(docLink);\n",
              "      }\n",
              "    </script>\n",
              "  </div>\n",
              "\n",
              "\n",
              "<div id=\"df-cb57e25d-6420-44c7-8639-5a8f3048ebe8\">\n",
              "  <button class=\"colab-df-quickchart\" onclick=\"quickchart('df-cb57e25d-6420-44c7-8639-5a8f3048ebe8')\"\n",
              "            title=\"Suggest charts\"\n",
              "            style=\"display:none;\">\n",
              "\n",
              "<svg xmlns=\"http://www.w3.org/2000/svg\" height=\"24px\"viewBox=\"0 0 24 24\"\n",
              "     width=\"24px\">\n",
              "    <g>\n",
              "        <path d=\"M19 3H5c-1.1 0-2 .9-2 2v14c0 1.1.9 2 2 2h14c1.1 0 2-.9 2-2V5c0-1.1-.9-2-2-2zM9 17H7v-7h2v7zm4 0h-2V7h2v10zm4 0h-2v-4h2v4z\"/>\n",
              "    </g>\n",
              "</svg>\n",
              "  </button>\n",
              "\n",
              "<style>\n",
              "  .colab-df-quickchart {\n",
              "      --bg-color: #E8F0FE;\n",
              "      --fill-color: #1967D2;\n",
              "      --hover-bg-color: #E2EBFA;\n",
              "      --hover-fill-color: #174EA6;\n",
              "      --disabled-fill-color: #AAA;\n",
              "      --disabled-bg-color: #DDD;\n",
              "  }\n",
              "\n",
              "  [theme=dark] .colab-df-quickchart {\n",
              "      --bg-color: #3B4455;\n",
              "      --fill-color: #D2E3FC;\n",
              "      --hover-bg-color: #434B5C;\n",
              "      --hover-fill-color: #FFFFFF;\n",
              "      --disabled-bg-color: #3B4455;\n",
              "      --disabled-fill-color: #666;\n",
              "  }\n",
              "\n",
              "  .colab-df-quickchart {\n",
              "    background-color: var(--bg-color);\n",
              "    border: none;\n",
              "    border-radius: 50%;\n",
              "    cursor: pointer;\n",
              "    display: none;\n",
              "    fill: var(--fill-color);\n",
              "    height: 32px;\n",
              "    padding: 0;\n",
              "    width: 32px;\n",
              "  }\n",
              "\n",
              "  .colab-df-quickchart:hover {\n",
              "    background-color: var(--hover-bg-color);\n",
              "    box-shadow: 0 1px 2px rgba(60, 64, 67, 0.3), 0 1px 3px 1px rgba(60, 64, 67, 0.15);\n",
              "    fill: var(--button-hover-fill-color);\n",
              "  }\n",
              "\n",
              "  .colab-df-quickchart-complete:disabled,\n",
              "  .colab-df-quickchart-complete:disabled:hover {\n",
              "    background-color: var(--disabled-bg-color);\n",
              "    fill: var(--disabled-fill-color);\n",
              "    box-shadow: none;\n",
              "  }\n",
              "\n",
              "  .colab-df-spinner {\n",
              "    border: 2px solid var(--fill-color);\n",
              "    border-color: transparent;\n",
              "    border-bottom-color: var(--fill-color);\n",
              "    animation:\n",
              "      spin 1s steps(1) infinite;\n",
              "  }\n",
              "\n",
              "  @keyframes spin {\n",
              "    0% {\n",
              "      border-color: transparent;\n",
              "      border-bottom-color: var(--fill-color);\n",
              "      border-left-color: var(--fill-color);\n",
              "    }\n",
              "    20% {\n",
              "      border-color: transparent;\n",
              "      border-left-color: var(--fill-color);\n",
              "      border-top-color: var(--fill-color);\n",
              "    }\n",
              "    30% {\n",
              "      border-color: transparent;\n",
              "      border-left-color: var(--fill-color);\n",
              "      border-top-color: var(--fill-color);\n",
              "      border-right-color: var(--fill-color);\n",
              "    }\n",
              "    40% {\n",
              "      border-color: transparent;\n",
              "      border-right-color: var(--fill-color);\n",
              "      border-top-color: var(--fill-color);\n",
              "    }\n",
              "    60% {\n",
              "      border-color: transparent;\n",
              "      border-right-color: var(--fill-color);\n",
              "    }\n",
              "    80% {\n",
              "      border-color: transparent;\n",
              "      border-right-color: var(--fill-color);\n",
              "      border-bottom-color: var(--fill-color);\n",
              "    }\n",
              "    90% {\n",
              "      border-color: transparent;\n",
              "      border-bottom-color: var(--fill-color);\n",
              "    }\n",
              "  }\n",
              "</style>\n",
              "\n",
              "  <script>\n",
              "    async function quickchart(key) {\n",
              "      const quickchartButtonEl =\n",
              "        document.querySelector('#' + key + ' button');\n",
              "      quickchartButtonEl.disabled = true;  // To prevent multiple clicks.\n",
              "      quickchartButtonEl.classList.add('colab-df-spinner');\n",
              "      try {\n",
              "        const charts = await google.colab.kernel.invokeFunction(\n",
              "            'suggestCharts', [key], {});\n",
              "      } catch (error) {\n",
              "        console.error('Error during call to suggestCharts:', error);\n",
              "      }\n",
              "      quickchartButtonEl.classList.remove('colab-df-spinner');\n",
              "      quickchartButtonEl.classList.add('colab-df-quickchart-complete');\n",
              "    }\n",
              "    (() => {\n",
              "      let quickchartButtonEl =\n",
              "        document.querySelector('#df-cb57e25d-6420-44c7-8639-5a8f3048ebe8 button');\n",
              "      quickchartButtonEl.style.display =\n",
              "        google.colab.kernel.accessAllowed ? 'block' : 'none';\n",
              "    })();\n",
              "  </script>\n",
              "</div>\n",
              "    </div>\n",
              "  </div>\n"
            ],
            "application/vnd.google.colaboratory.intrinsic+json": {
              "type": "dataframe",
              "variable_name": "df3",
              "summary": "{\n  \"name\": \"df3\",\n  \"rows\": 2775,\n  \"fields\": [\n    {\n      \"column\": \"questionText\",\n      \"properties\": {\n        \"dtype\": \"category\",\n        \"num_unique_values\": 865,\n        \"samples\": [\n          \"My partner lives in Canada while I live in the US. We visit each other, but we go months in between visits. I have anxiety, and I'm always anxious about him cheating or still having feelings for an ex that he dated for three years. He doesn't understand my anxiety. How do I stop myself from worrying so much?\",\n          \"I've been with him for a couple months. We will talk everyday and he will get mad over something I will say and not talk to me. We have our great moments, but I just need to focus on my personal situations, and I feel he is slowing me down with that. I still wanna be with him, but not now.\",\n          \"She treats me like I'm not in her presence. She\\u2019s always yelling at me for no reason. She gives more respect to my brothers than me, but only my brothers fight her while I respect her.\"\n        ],\n        \"semantic_type\": \"\",\n        \"description\": \"\"\n      }\n    },\n    {\n      \"column\": \"answerText\",\n      \"properties\": {\n        \"dtype\": \"string\",\n        \"num_unique_values\": 2738,\n        \"samples\": [\n          \"It sounds like you have been thinking about how past hurts have influenced you, and when you try to talk about these hurts with people in your life, you are feeling invalidated. It also sounds like current conflicts are continuing to leave you feeling hurt and devalued. In working with a therapist, you may be able to get some clarity about your past, who you are, and what kinds of boundaries you want in your relationships, so that you can lead a life that is more satisfying to you.\",\n          \"I've heard people say that they cut themselves as a way to feel relief from different emotions. You're also right that when you try to focus on just not cutting, it becomes more difficult because it's what you are focused on. While that is still something to work on, it may also be helpful to find something else you can do instead. You said drawing doesn't work for you. Sometimes more physical activities, such as doing a few jumping jacks, can be helpful. If you don't exercise, it might be something to talk with your doctor about first.The more you can learn about what makes you want to cut, the easier it will be to find out what you could do to change that. Try talking to somebody about what you are feeling in addition to the urge to cut.\",\n          \"You already are doing that! You are reaching out (virtually still counts!). You are accepting your past, you are not denying what happened to you, you are talking about the past. You are already doing a great job of starting this journey. You get your life back by doing things differently.I would think about how you would like to process your past. Do you want to talk to someone? Do you want to write about it? Do you want to pray about it? Do you want to read and research books about trauma? Take some time and think about what you want to do. Think about what would work for you and dive in. I am a Licensed Professional Counselor, so I am biased - but I really believe that counseling works. Having an objective, professional voice that can guide you on this process is so valuable. But please choose what makes you feel comfortable - not what everyone else says. I think you are very brave for reaching out and wanting to work on this. That takes a tremendous amount of courage and strength.\"\n        ],\n        \"semantic_type\": \"\",\n        \"description\": \"\"\n      }\n    }\n  ]\n}"
            }
          },
          "metadata": {},
          "execution_count": 8
        }
      ]
    },
    {
      "cell_type": "code",
      "source": [
        "df3.shape"
      ],
      "metadata": {
        "colab": {
          "base_uri": "https://localhost:8080/"
        },
        "id": "NG_RM-evgMwT",
        "outputId": "09bb570d-9ce8-46e0-d640-8c4e6c9fef66"
      },
      "execution_count": null,
      "outputs": [
        {
          "output_type": "execute_result",
          "data": {
            "text/plain": [
              "(2775, 2)"
            ]
          },
          "metadata": {},
          "execution_count": 9
        }
      ]
    },
    {
      "cell_type": "code",
      "source": [
        "df3.info()"
      ],
      "metadata": {
        "colab": {
          "base_uri": "https://localhost:8080/"
        },
        "id": "LDdCpP6HgMzT",
        "outputId": "62faa2ee-3aaf-405c-9598-9132f5a518fb"
      },
      "execution_count": null,
      "outputs": [
        {
          "output_type": "stream",
          "name": "stdout",
          "text": [
            "<class 'pandas.core.frame.DataFrame'>\n",
            "RangeIndex: 2775 entries, 0 to 2774\n",
            "Data columns (total 2 columns):\n",
            " #   Column        Non-Null Count  Dtype \n",
            "---  ------        --------------  ----- \n",
            " 0   questionText  2636 non-null   object\n",
            " 1   answerText    2749 non-null   object\n",
            "dtypes: object(2)\n",
            "memory usage: 43.5+ KB\n"
          ]
        }
      ]
    },
    {
      "cell_type": "code",
      "source": [
        "df3.isnull().sum()"
      ],
      "metadata": {
        "colab": {
          "base_uri": "https://localhost:8080/"
        },
        "id": "hFuOsC1fgM2k",
        "outputId": "4db9755c-4657-499a-85ac-e29de922863f"
      },
      "execution_count": null,
      "outputs": [
        {
          "output_type": "execute_result",
          "data": {
            "text/plain": [
              "questionText    139\n",
              "answerText       26\n",
              "dtype: int64"
            ]
          },
          "metadata": {},
          "execution_count": 11
        }
      ]
    },
    {
      "cell_type": "markdown",
      "source": [
        "## Clean data"
      ],
      "metadata": {
        "id": "McvYrAZsf4uU"
      }
    },
    {
      "cell_type": "code",
      "source": [
        "#@title Drop null rows\n",
        "null_rows = df3.isnull().any(axis=1) # Identify rows with null values\n",
        "df3 = df3[~null_rows] # Drop rows with null values\n",
        "\n",
        "df3.shape # Display new shape"
      ],
      "metadata": {
        "colab": {
          "base_uri": "https://localhost:8080/"
        },
        "id": "ddN3nm7igYsc",
        "outputId": "24ed3000-c35e-4c42-d091-67fc6a4eb8c8"
      },
      "execution_count": null,
      "outputs": [
        {
          "output_type": "execute_result",
          "data": {
            "text/plain": [
              "(2612, 2)"
            ]
          },
          "metadata": {},
          "execution_count": 12
        }
      ]
    },
    {
      "cell_type": "code",
      "source": [
        "#@title Remove the duplicate rows\n",
        "df3.drop_duplicates()\n",
        "df3.shape"
      ],
      "metadata": {
        "colab": {
          "base_uri": "https://localhost:8080/"
        },
        "id": "SxhiPeYNfuri",
        "outputId": "d528388a-43c1-4546-f7d6-dfa3282fb0f9"
      },
      "execution_count": null,
      "outputs": [
        {
          "output_type": "execute_result",
          "data": {
            "text/plain": [
              "(2612, 2)"
            ]
          },
          "metadata": {},
          "execution_count": 13
        }
      ]
    },
    {
      "cell_type": "code",
      "source": [
        "#@title Normalize Text\n",
        "# & Remove Unicode Characters\n",
        "\n",
        "def clean_text(text):\n",
        "  text = str(text).lower() # Convert text to lowercase\n",
        "  text = re.sub(\"[\\[].*?[\\]]\", \"\", text) # Remove text within square brackets\n",
        "  text = re.sub(r\"http\\S+\", \"\", text) # Remove URLs\n",
        "  text = re.sub(r\"[^\\w\\s]\", \"\", text) # Remove non-alphanumeric characters (excluding spaces)\n",
        "  text = re.sub(r\"\\d+\", \"\", text) # Remove digits\n",
        "  return text\n",
        "\n",
        "# Apply the clean_text function\n",
        "df3['questionText'].apply(clean_text)\n",
        "df3['answerText'].apply(clean_text)\n",
        "df3.head()"
      ],
      "metadata": {
        "colab": {
          "base_uri": "https://localhost:8080/",
          "height": 206
        },
        "id": "F2C_POxYgEzz",
        "outputId": "988ad563-aafd-43af-8c8d-62978a533cf9"
      },
      "execution_count": null,
      "outputs": [
        {
          "output_type": "execute_result",
          "data": {
            "text/plain": [
              "                                        questionText  \\\n",
              "0  I have so many issues to address. I have a his...   \n",
              "1  I have so many issues to address. I have a his...   \n",
              "2  I have so many issues to address. I have a his...   \n",
              "3  I have so many issues to address. I have a his...   \n",
              "4  I have so many issues to address. I have a his...   \n",
              "\n",
              "                                          answerText  \n",
              "0  It is very common for people to have multiple ...  \n",
              "1  I've never heard of someone having \"too many i...  \n",
              "2  Absolutely not.  I strongly recommending worki...  \n",
              "3  Let me start by saying there are never too man...  \n",
              "4  I just want to acknowledge you for the courage...  "
            ],
            "text/html": [
              "\n",
              "  <div id=\"df-cc5a9093-bf92-49eb-9da7-8b88f48e63da\" class=\"colab-df-container\">\n",
              "    <div>\n",
              "<style scoped>\n",
              "    .dataframe tbody tr th:only-of-type {\n",
              "        vertical-align: middle;\n",
              "    }\n",
              "\n",
              "    .dataframe tbody tr th {\n",
              "        vertical-align: top;\n",
              "    }\n",
              "\n",
              "    .dataframe thead th {\n",
              "        text-align: right;\n",
              "    }\n",
              "</style>\n",
              "<table border=\"1\" class=\"dataframe\">\n",
              "  <thead>\n",
              "    <tr style=\"text-align: right;\">\n",
              "      <th></th>\n",
              "      <th>questionText</th>\n",
              "      <th>answerText</th>\n",
              "    </tr>\n",
              "  </thead>\n",
              "  <tbody>\n",
              "    <tr>\n",
              "      <th>0</th>\n",
              "      <td>I have so many issues to address. I have a his...</td>\n",
              "      <td>It is very common for people to have multiple ...</td>\n",
              "    </tr>\n",
              "    <tr>\n",
              "      <th>1</th>\n",
              "      <td>I have so many issues to address. I have a his...</td>\n",
              "      <td>I've never heard of someone having \"too many i...</td>\n",
              "    </tr>\n",
              "    <tr>\n",
              "      <th>2</th>\n",
              "      <td>I have so many issues to address. I have a his...</td>\n",
              "      <td>Absolutely not.  I strongly recommending worki...</td>\n",
              "    </tr>\n",
              "    <tr>\n",
              "      <th>3</th>\n",
              "      <td>I have so many issues to address. I have a his...</td>\n",
              "      <td>Let me start by saying there are never too man...</td>\n",
              "    </tr>\n",
              "    <tr>\n",
              "      <th>4</th>\n",
              "      <td>I have so many issues to address. I have a his...</td>\n",
              "      <td>I just want to acknowledge you for the courage...</td>\n",
              "    </tr>\n",
              "  </tbody>\n",
              "</table>\n",
              "</div>\n",
              "    <div class=\"colab-df-buttons\">\n",
              "\n",
              "  <div class=\"colab-df-container\">\n",
              "    <button class=\"colab-df-convert\" onclick=\"convertToInteractive('df-cc5a9093-bf92-49eb-9da7-8b88f48e63da')\"\n",
              "            title=\"Convert this dataframe to an interactive table.\"\n",
              "            style=\"display:none;\">\n",
              "\n",
              "  <svg xmlns=\"http://www.w3.org/2000/svg\" height=\"24px\" viewBox=\"0 -960 960 960\">\n",
              "    <path d=\"M120-120v-720h720v720H120Zm60-500h600v-160H180v160Zm220 220h160v-160H400v160Zm0 220h160v-160H400v160ZM180-400h160v-160H180v160Zm440 0h160v-160H620v160ZM180-180h160v-160H180v160Zm440 0h160v-160H620v160Z\"/>\n",
              "  </svg>\n",
              "    </button>\n",
              "\n",
              "  <style>\n",
              "    .colab-df-container {\n",
              "      display:flex;\n",
              "      gap: 12px;\n",
              "    }\n",
              "\n",
              "    .colab-df-convert {\n",
              "      background-color: #E8F0FE;\n",
              "      border: none;\n",
              "      border-radius: 50%;\n",
              "      cursor: pointer;\n",
              "      display: none;\n",
              "      fill: #1967D2;\n",
              "      height: 32px;\n",
              "      padding: 0 0 0 0;\n",
              "      width: 32px;\n",
              "    }\n",
              "\n",
              "    .colab-df-convert:hover {\n",
              "      background-color: #E2EBFA;\n",
              "      box-shadow: 0px 1px 2px rgba(60, 64, 67, 0.3), 0px 1px 3px 1px rgba(60, 64, 67, 0.15);\n",
              "      fill: #174EA6;\n",
              "    }\n",
              "\n",
              "    .colab-df-buttons div {\n",
              "      margin-bottom: 4px;\n",
              "    }\n",
              "\n",
              "    [theme=dark] .colab-df-convert {\n",
              "      background-color: #3B4455;\n",
              "      fill: #D2E3FC;\n",
              "    }\n",
              "\n",
              "    [theme=dark] .colab-df-convert:hover {\n",
              "      background-color: #434B5C;\n",
              "      box-shadow: 0px 1px 3px 1px rgba(0, 0, 0, 0.15);\n",
              "      filter: drop-shadow(0px 1px 2px rgba(0, 0, 0, 0.3));\n",
              "      fill: #FFFFFF;\n",
              "    }\n",
              "  </style>\n",
              "\n",
              "    <script>\n",
              "      const buttonEl =\n",
              "        document.querySelector('#df-cc5a9093-bf92-49eb-9da7-8b88f48e63da button.colab-df-convert');\n",
              "      buttonEl.style.display =\n",
              "        google.colab.kernel.accessAllowed ? 'block' : 'none';\n",
              "\n",
              "      async function convertToInteractive(key) {\n",
              "        const element = document.querySelector('#df-cc5a9093-bf92-49eb-9da7-8b88f48e63da');\n",
              "        const dataTable =\n",
              "          await google.colab.kernel.invokeFunction('convertToInteractive',\n",
              "                                                    [key], {});\n",
              "        if (!dataTable) return;\n",
              "\n",
              "        const docLinkHtml = 'Like what you see? Visit the ' +\n",
              "          '<a target=\"_blank\" href=https://colab.research.google.com/notebooks/data_table.ipynb>data table notebook</a>'\n",
              "          + ' to learn more about interactive tables.';\n",
              "        element.innerHTML = '';\n",
              "        dataTable['output_type'] = 'display_data';\n",
              "        await google.colab.output.renderOutput(dataTable, element);\n",
              "        const docLink = document.createElement('div');\n",
              "        docLink.innerHTML = docLinkHtml;\n",
              "        element.appendChild(docLink);\n",
              "      }\n",
              "    </script>\n",
              "  </div>\n",
              "\n",
              "\n",
              "<div id=\"df-a6ab01f6-0073-47f4-829b-c121d1103dc5\">\n",
              "  <button class=\"colab-df-quickchart\" onclick=\"quickchart('df-a6ab01f6-0073-47f4-829b-c121d1103dc5')\"\n",
              "            title=\"Suggest charts\"\n",
              "            style=\"display:none;\">\n",
              "\n",
              "<svg xmlns=\"http://www.w3.org/2000/svg\" height=\"24px\"viewBox=\"0 0 24 24\"\n",
              "     width=\"24px\">\n",
              "    <g>\n",
              "        <path d=\"M19 3H5c-1.1 0-2 .9-2 2v14c0 1.1.9 2 2 2h14c1.1 0 2-.9 2-2V5c0-1.1-.9-2-2-2zM9 17H7v-7h2v7zm4 0h-2V7h2v10zm4 0h-2v-4h2v4z\"/>\n",
              "    </g>\n",
              "</svg>\n",
              "  </button>\n",
              "\n",
              "<style>\n",
              "  .colab-df-quickchart {\n",
              "      --bg-color: #E8F0FE;\n",
              "      --fill-color: #1967D2;\n",
              "      --hover-bg-color: #E2EBFA;\n",
              "      --hover-fill-color: #174EA6;\n",
              "      --disabled-fill-color: #AAA;\n",
              "      --disabled-bg-color: #DDD;\n",
              "  }\n",
              "\n",
              "  [theme=dark] .colab-df-quickchart {\n",
              "      --bg-color: #3B4455;\n",
              "      --fill-color: #D2E3FC;\n",
              "      --hover-bg-color: #434B5C;\n",
              "      --hover-fill-color: #FFFFFF;\n",
              "      --disabled-bg-color: #3B4455;\n",
              "      --disabled-fill-color: #666;\n",
              "  }\n",
              "\n",
              "  .colab-df-quickchart {\n",
              "    background-color: var(--bg-color);\n",
              "    border: none;\n",
              "    border-radius: 50%;\n",
              "    cursor: pointer;\n",
              "    display: none;\n",
              "    fill: var(--fill-color);\n",
              "    height: 32px;\n",
              "    padding: 0;\n",
              "    width: 32px;\n",
              "  }\n",
              "\n",
              "  .colab-df-quickchart:hover {\n",
              "    background-color: var(--hover-bg-color);\n",
              "    box-shadow: 0 1px 2px rgba(60, 64, 67, 0.3), 0 1px 3px 1px rgba(60, 64, 67, 0.15);\n",
              "    fill: var(--button-hover-fill-color);\n",
              "  }\n",
              "\n",
              "  .colab-df-quickchart-complete:disabled,\n",
              "  .colab-df-quickchart-complete:disabled:hover {\n",
              "    background-color: var(--disabled-bg-color);\n",
              "    fill: var(--disabled-fill-color);\n",
              "    box-shadow: none;\n",
              "  }\n",
              "\n",
              "  .colab-df-spinner {\n",
              "    border: 2px solid var(--fill-color);\n",
              "    border-color: transparent;\n",
              "    border-bottom-color: var(--fill-color);\n",
              "    animation:\n",
              "      spin 1s steps(1) infinite;\n",
              "  }\n",
              "\n",
              "  @keyframes spin {\n",
              "    0% {\n",
              "      border-color: transparent;\n",
              "      border-bottom-color: var(--fill-color);\n",
              "      border-left-color: var(--fill-color);\n",
              "    }\n",
              "    20% {\n",
              "      border-color: transparent;\n",
              "      border-left-color: var(--fill-color);\n",
              "      border-top-color: var(--fill-color);\n",
              "    }\n",
              "    30% {\n",
              "      border-color: transparent;\n",
              "      border-left-color: var(--fill-color);\n",
              "      border-top-color: var(--fill-color);\n",
              "      border-right-color: var(--fill-color);\n",
              "    }\n",
              "    40% {\n",
              "      border-color: transparent;\n",
              "      border-right-color: var(--fill-color);\n",
              "      border-top-color: var(--fill-color);\n",
              "    }\n",
              "    60% {\n",
              "      border-color: transparent;\n",
              "      border-right-color: var(--fill-color);\n",
              "    }\n",
              "    80% {\n",
              "      border-color: transparent;\n",
              "      border-right-color: var(--fill-color);\n",
              "      border-bottom-color: var(--fill-color);\n",
              "    }\n",
              "    90% {\n",
              "      border-color: transparent;\n",
              "      border-bottom-color: var(--fill-color);\n",
              "    }\n",
              "  }\n",
              "</style>\n",
              "\n",
              "  <script>\n",
              "    async function quickchart(key) {\n",
              "      const quickchartButtonEl =\n",
              "        document.querySelector('#' + key + ' button');\n",
              "      quickchartButtonEl.disabled = true;  // To prevent multiple clicks.\n",
              "      quickchartButtonEl.classList.add('colab-df-spinner');\n",
              "      try {\n",
              "        const charts = await google.colab.kernel.invokeFunction(\n",
              "            'suggestCharts', [key], {});\n",
              "      } catch (error) {\n",
              "        console.error('Error during call to suggestCharts:', error);\n",
              "      }\n",
              "      quickchartButtonEl.classList.remove('colab-df-spinner');\n",
              "      quickchartButtonEl.classList.add('colab-df-quickchart-complete');\n",
              "    }\n",
              "    (() => {\n",
              "      let quickchartButtonEl =\n",
              "        document.querySelector('#df-a6ab01f6-0073-47f4-829b-c121d1103dc5 button');\n",
              "      quickchartButtonEl.style.display =\n",
              "        google.colab.kernel.accessAllowed ? 'block' : 'none';\n",
              "    })();\n",
              "  </script>\n",
              "</div>\n",
              "    </div>\n",
              "  </div>\n"
            ],
            "application/vnd.google.colaboratory.intrinsic+json": {
              "type": "dataframe",
              "variable_name": "df3",
              "summary": "{\n  \"name\": \"df3\",\n  \"rows\": 2612,\n  \"fields\": [\n    {\n      \"column\": \"questionText\",\n      \"properties\": {\n        \"dtype\": \"category\",\n        \"num_unique_values\": 863,\n        \"samples\": [\n          \"I am currently suffering from erectile dysfunction and have tried Viagra, Cialis, etc. Nothing seemed to work. My girlfriend of 3 years is very sexually frustrated. I told her that it is okay for her to have sex with other men. Is that really okay?\",\n          \"For the past week or so me and my boyfriend have been fighting. He has been making a lot of bad choices and he is currently hospitalized. I'm barely eating or sleeping because I'm constantly worried about him. Everyone else in my life says that I should just forget about him and walk away. What should I do?\",\n          \"I am in high school and have been facing anxiety issues lately. Whenever I get close to being in a relationship, some kind of anxiety takes over and keeps me from the relationship. This anxiety causes me depression at times and even makes me want to vomit. While a semi-relationship should be joyous, for me, it\\u2019s an emotional nightmare I can\\u2019t get to the bottom of. I\\u2019ve had this before and had to leave the semi-relationship to avoid throwing up every time I made contact with my crush. What could be the reason behind this? Is it massive nerve problems? Is it a fear of a bad relationship?\\n   While I\\u2019m not quite ready to be in one anyway, I want to get to the bottom of this for a brighter future in which I can be in one. I don\\u2019t take medications and have no desire to, I have read forums, and I\\u2019ve talked about the issue with my sister who has faced similar problems.\"\n        ],\n        \"semantic_type\": \"\",\n        \"description\": \"\"\n      }\n    },\n    {\n      \"column\": \"answerText\",\n      \"properties\": {\n        \"dtype\": \"string\",\n        \"num_unique_values\": 2603,\n        \"samples\": [\n          \"One of the greatest ways that we can promote ourselves s by learning how to assert ourselves. \\u00a0Despite what most people think of when they hear the word assertive, assertive communication is one of the best ways to manage interpersonal conflict as well as maintain personal boundaries. \\u00a0Once we become comfortable with acknowledging our boundaries, there is usually a follow-up whereby we realize that we have the right to those boundaries. \\u00a0In effect, assertiveness communication becomes it's own self-motivating force in managing positive self-esteem. You may want to invest in a workbook that can help you to develop these skills on your own, or work directly with a therapist to develop them in a safe situation. \\u00a0 One of the Workbooks that I have found to be very helpful is, \\\"The Assertiveness Workbook: How to Express your Ideas and Stand Up for Yourself at Work and in Relationships\\\" by Randy J Paterson.\",\n          \"If the daughters are old & mature enough to understand substance abuse. \\u00a0They should be told for their own empowerment. KNOWLEDGE is their power of safety and protection.\",\n          \"Hello, and thank you for your question. Being bisexual can be particularly\\ndifficult because it is often misunderstood, even by people who are \\u201csupposed\\u201d\\nto be part of your own community, such as lesbians and gays. It happens so\\noften that there is actually a term for it \\u2013\\u00a0\\nbi-erasure. This is simply something that happens when people deny that\\nbisexuality is a real thing, or discriminate against bisexuals due to beliefs\\nlike your parents seem to have. \\nThe unfortunate truth is that you can never\\nbe sure of how you parents may take this kind of information. It sounds\\npromising that they are accepting of other sexual orientations, and it may\\nsimply be that your parents lack education about bisexuality. With accurate\\ninformation, they may come around, but there is no way to be sure. \\nSome of my colleagues have already given you good information. Here are some more\\u00a0things that you can consider\\nand questions you can ask yourself before making the decision to tell them:\\n\\u00a0\\n1.\\u00a0\\u00a0\\u00a0\\u00a0\\u00a0 If they don\\u2019t respond the way you want them to, have you developed a support\\nsystem to support you through it? This is very important. The truth is that all\\nthe friends in the world won\\u2019t prevent pain or sadness if your parents don\\u2019t\\nrespond as you hope, but they will at least be there to remind you that you ARE\\nokay as you are. And that is critical for you to remember. \\n\\u00a0\\n2.\\u00a0\\u00a0\\u00a0\\u00a0\\u00a0 There is great information on the internet about bisexuality that you can\\noffer your parents if you think it would be helpful. It may be important for\\nthem to know the kind of damage that is being done to bisexual adults and young\\npeople because of the myths surrounding bisexuality. Here is an article from\\nGLAAD about bi-erasure: http://www.glaad.org/bisexual/bierasure\\n\\u00a0\\n3.\\u00a0\\u00a0\\u00a0\\u00a0\\u00a0 Coming out to people is obviously deeply personal and should only take\\nplace when you are ready. Sometimes people get pressured from friends, media,\\nand even people they are romantically involved with to come out before they are\\nready. It really is up to you. If you are feeling pressure from others, don\\u2019t\\nfeel bad about setting your boundaries and telling them that you will come out\\non your own time. Intimate partners should respect you enough to understand\\nthis. \\n\\u00a0\\n4.\\u00a0\\u00a0\\u00a0\\u00a0\\u00a0 Something else to think about is your own comfort in being bisexual. Just\\nbecause someone is LGBTQ doesn\\u2019t mean that they necessarily want to be. Many\\npeople struggle with this. Having\\nyour own doubts or insecurities may also play a part in how comfortable you are\\nin telling your parents. So, perhaps do some self-exploration about your\\nfeelings toward yourself. \\n\\u00a0\\nSometimes people take friends with them\\nwhen they decide to come out to their parents. This is something you may want\\nto consider. The important thing to remember is that you are okay. Really. If\\nyour parents don\\u2019t respond well, that doesn\\u2019t mean that they never will. Some\\nstart off upset, but then work their way through it. \\nBest of luck to you. \\nRobin J. Landwehr, DBH, LPC, NCC\"\n        ],\n        \"semantic_type\": \"\",\n        \"description\": \"\"\n      }\n    }\n  ]\n}"
            }
          },
          "metadata": {},
          "execution_count": 14
        }
      ]
    },
    {
      "cell_type": "markdown",
      "source": [
        "## Add token"
      ],
      "metadata": {
        "id": "86nGhHCXg2Mf"
      }
    },
    {
      "cell_type": "code",
      "source": [
        "df3['questionText'] = df3['questionText'].apply(lambda x: \"<user> \" + str(x))\n",
        "df3['answerText'] = df3['answerText'].apply(lambda x: \"<agent> \" + str(x))\n",
        "\n",
        "df3.head()"
      ],
      "metadata": {
        "colab": {
          "base_uri": "https://localhost:8080/",
          "height": 206
        },
        "id": "jIaeC_i0gxfC",
        "outputId": "784fe824-e0c6-4336-89d4-b9619be3fdcc"
      },
      "execution_count": null,
      "outputs": [
        {
          "output_type": "execute_result",
          "data": {
            "text/plain": [
              "                                        questionText  \\\n",
              "0  <user> I have so many issues to address. I hav...   \n",
              "1  <user> I have so many issues to address. I hav...   \n",
              "2  <user> I have so many issues to address. I hav...   \n",
              "3  <user> I have so many issues to address. I hav...   \n",
              "4  <user> I have so many issues to address. I hav...   \n",
              "\n",
              "                                          answerText  \n",
              "0  <agent> It is very common for people to have m...  \n",
              "1  <agent> I've never heard of someone having \"to...  \n",
              "2  <agent> Absolutely not.  I strongly recommendi...  \n",
              "3  <agent> Let me start by saying there are never...  \n",
              "4  <agent> I just want to acknowledge you for the...  "
            ],
            "text/html": [
              "\n",
              "  <div id=\"df-ce27c9f7-28da-4e06-8472-7049257870f2\" class=\"colab-df-container\">\n",
              "    <div>\n",
              "<style scoped>\n",
              "    .dataframe tbody tr th:only-of-type {\n",
              "        vertical-align: middle;\n",
              "    }\n",
              "\n",
              "    .dataframe tbody tr th {\n",
              "        vertical-align: top;\n",
              "    }\n",
              "\n",
              "    .dataframe thead th {\n",
              "        text-align: right;\n",
              "    }\n",
              "</style>\n",
              "<table border=\"1\" class=\"dataframe\">\n",
              "  <thead>\n",
              "    <tr style=\"text-align: right;\">\n",
              "      <th></th>\n",
              "      <th>questionText</th>\n",
              "      <th>answerText</th>\n",
              "    </tr>\n",
              "  </thead>\n",
              "  <tbody>\n",
              "    <tr>\n",
              "      <th>0</th>\n",
              "      <td>&lt;user&gt; I have so many issues to address. I hav...</td>\n",
              "      <td>&lt;agent&gt; It is very common for people to have m...</td>\n",
              "    </tr>\n",
              "    <tr>\n",
              "      <th>1</th>\n",
              "      <td>&lt;user&gt; I have so many issues to address. I hav...</td>\n",
              "      <td>&lt;agent&gt; I've never heard of someone having \"to...</td>\n",
              "    </tr>\n",
              "    <tr>\n",
              "      <th>2</th>\n",
              "      <td>&lt;user&gt; I have so many issues to address. I hav...</td>\n",
              "      <td>&lt;agent&gt; Absolutely not.  I strongly recommendi...</td>\n",
              "    </tr>\n",
              "    <tr>\n",
              "      <th>3</th>\n",
              "      <td>&lt;user&gt; I have so many issues to address. I hav...</td>\n",
              "      <td>&lt;agent&gt; Let me start by saying there are never...</td>\n",
              "    </tr>\n",
              "    <tr>\n",
              "      <th>4</th>\n",
              "      <td>&lt;user&gt; I have so many issues to address. I hav...</td>\n",
              "      <td>&lt;agent&gt; I just want to acknowledge you for the...</td>\n",
              "    </tr>\n",
              "  </tbody>\n",
              "</table>\n",
              "</div>\n",
              "    <div class=\"colab-df-buttons\">\n",
              "\n",
              "  <div class=\"colab-df-container\">\n",
              "    <button class=\"colab-df-convert\" onclick=\"convertToInteractive('df-ce27c9f7-28da-4e06-8472-7049257870f2')\"\n",
              "            title=\"Convert this dataframe to an interactive table.\"\n",
              "            style=\"display:none;\">\n",
              "\n",
              "  <svg xmlns=\"http://www.w3.org/2000/svg\" height=\"24px\" viewBox=\"0 -960 960 960\">\n",
              "    <path d=\"M120-120v-720h720v720H120Zm60-500h600v-160H180v160Zm220 220h160v-160H400v160Zm0 220h160v-160H400v160ZM180-400h160v-160H180v160Zm440 0h160v-160H620v160ZM180-180h160v-160H180v160Zm440 0h160v-160H620v160Z\"/>\n",
              "  </svg>\n",
              "    </button>\n",
              "\n",
              "  <style>\n",
              "    .colab-df-container {\n",
              "      display:flex;\n",
              "      gap: 12px;\n",
              "    }\n",
              "\n",
              "    .colab-df-convert {\n",
              "      background-color: #E8F0FE;\n",
              "      border: none;\n",
              "      border-radius: 50%;\n",
              "      cursor: pointer;\n",
              "      display: none;\n",
              "      fill: #1967D2;\n",
              "      height: 32px;\n",
              "      padding: 0 0 0 0;\n",
              "      width: 32px;\n",
              "    }\n",
              "\n",
              "    .colab-df-convert:hover {\n",
              "      background-color: #E2EBFA;\n",
              "      box-shadow: 0px 1px 2px rgba(60, 64, 67, 0.3), 0px 1px 3px 1px rgba(60, 64, 67, 0.15);\n",
              "      fill: #174EA6;\n",
              "    }\n",
              "\n",
              "    .colab-df-buttons div {\n",
              "      margin-bottom: 4px;\n",
              "    }\n",
              "\n",
              "    [theme=dark] .colab-df-convert {\n",
              "      background-color: #3B4455;\n",
              "      fill: #D2E3FC;\n",
              "    }\n",
              "\n",
              "    [theme=dark] .colab-df-convert:hover {\n",
              "      background-color: #434B5C;\n",
              "      box-shadow: 0px 1px 3px 1px rgba(0, 0, 0, 0.15);\n",
              "      filter: drop-shadow(0px 1px 2px rgba(0, 0, 0, 0.3));\n",
              "      fill: #FFFFFF;\n",
              "    }\n",
              "  </style>\n",
              "\n",
              "    <script>\n",
              "      const buttonEl =\n",
              "        document.querySelector('#df-ce27c9f7-28da-4e06-8472-7049257870f2 button.colab-df-convert');\n",
              "      buttonEl.style.display =\n",
              "        google.colab.kernel.accessAllowed ? 'block' : 'none';\n",
              "\n",
              "      async function convertToInteractive(key) {\n",
              "        const element = document.querySelector('#df-ce27c9f7-28da-4e06-8472-7049257870f2');\n",
              "        const dataTable =\n",
              "          await google.colab.kernel.invokeFunction('convertToInteractive',\n",
              "                                                    [key], {});\n",
              "        if (!dataTable) return;\n",
              "\n",
              "        const docLinkHtml = 'Like what you see? Visit the ' +\n",
              "          '<a target=\"_blank\" href=https://colab.research.google.com/notebooks/data_table.ipynb>data table notebook</a>'\n",
              "          + ' to learn more about interactive tables.';\n",
              "        element.innerHTML = '';\n",
              "        dataTable['output_type'] = 'display_data';\n",
              "        await google.colab.output.renderOutput(dataTable, element);\n",
              "        const docLink = document.createElement('div');\n",
              "        docLink.innerHTML = docLinkHtml;\n",
              "        element.appendChild(docLink);\n",
              "      }\n",
              "    </script>\n",
              "  </div>\n",
              "\n",
              "\n",
              "<div id=\"df-a585547b-2efd-4aee-90e4-0181684fa48f\">\n",
              "  <button class=\"colab-df-quickchart\" onclick=\"quickchart('df-a585547b-2efd-4aee-90e4-0181684fa48f')\"\n",
              "            title=\"Suggest charts\"\n",
              "            style=\"display:none;\">\n",
              "\n",
              "<svg xmlns=\"http://www.w3.org/2000/svg\" height=\"24px\"viewBox=\"0 0 24 24\"\n",
              "     width=\"24px\">\n",
              "    <g>\n",
              "        <path d=\"M19 3H5c-1.1 0-2 .9-2 2v14c0 1.1.9 2 2 2h14c1.1 0 2-.9 2-2V5c0-1.1-.9-2-2-2zM9 17H7v-7h2v7zm4 0h-2V7h2v10zm4 0h-2v-4h2v4z\"/>\n",
              "    </g>\n",
              "</svg>\n",
              "  </button>\n",
              "\n",
              "<style>\n",
              "  .colab-df-quickchart {\n",
              "      --bg-color: #E8F0FE;\n",
              "      --fill-color: #1967D2;\n",
              "      --hover-bg-color: #E2EBFA;\n",
              "      --hover-fill-color: #174EA6;\n",
              "      --disabled-fill-color: #AAA;\n",
              "      --disabled-bg-color: #DDD;\n",
              "  }\n",
              "\n",
              "  [theme=dark] .colab-df-quickchart {\n",
              "      --bg-color: #3B4455;\n",
              "      --fill-color: #D2E3FC;\n",
              "      --hover-bg-color: #434B5C;\n",
              "      --hover-fill-color: #FFFFFF;\n",
              "      --disabled-bg-color: #3B4455;\n",
              "      --disabled-fill-color: #666;\n",
              "  }\n",
              "\n",
              "  .colab-df-quickchart {\n",
              "    background-color: var(--bg-color);\n",
              "    border: none;\n",
              "    border-radius: 50%;\n",
              "    cursor: pointer;\n",
              "    display: none;\n",
              "    fill: var(--fill-color);\n",
              "    height: 32px;\n",
              "    padding: 0;\n",
              "    width: 32px;\n",
              "  }\n",
              "\n",
              "  .colab-df-quickchart:hover {\n",
              "    background-color: var(--hover-bg-color);\n",
              "    box-shadow: 0 1px 2px rgba(60, 64, 67, 0.3), 0 1px 3px 1px rgba(60, 64, 67, 0.15);\n",
              "    fill: var(--button-hover-fill-color);\n",
              "  }\n",
              "\n",
              "  .colab-df-quickchart-complete:disabled,\n",
              "  .colab-df-quickchart-complete:disabled:hover {\n",
              "    background-color: var(--disabled-bg-color);\n",
              "    fill: var(--disabled-fill-color);\n",
              "    box-shadow: none;\n",
              "  }\n",
              "\n",
              "  .colab-df-spinner {\n",
              "    border: 2px solid var(--fill-color);\n",
              "    border-color: transparent;\n",
              "    border-bottom-color: var(--fill-color);\n",
              "    animation:\n",
              "      spin 1s steps(1) infinite;\n",
              "  }\n",
              "\n",
              "  @keyframes spin {\n",
              "    0% {\n",
              "      border-color: transparent;\n",
              "      border-bottom-color: var(--fill-color);\n",
              "      border-left-color: var(--fill-color);\n",
              "    }\n",
              "    20% {\n",
              "      border-color: transparent;\n",
              "      border-left-color: var(--fill-color);\n",
              "      border-top-color: var(--fill-color);\n",
              "    }\n",
              "    30% {\n",
              "      border-color: transparent;\n",
              "      border-left-color: var(--fill-color);\n",
              "      border-top-color: var(--fill-color);\n",
              "      border-right-color: var(--fill-color);\n",
              "    }\n",
              "    40% {\n",
              "      border-color: transparent;\n",
              "      border-right-color: var(--fill-color);\n",
              "      border-top-color: var(--fill-color);\n",
              "    }\n",
              "    60% {\n",
              "      border-color: transparent;\n",
              "      border-right-color: var(--fill-color);\n",
              "    }\n",
              "    80% {\n",
              "      border-color: transparent;\n",
              "      border-right-color: var(--fill-color);\n",
              "      border-bottom-color: var(--fill-color);\n",
              "    }\n",
              "    90% {\n",
              "      border-color: transparent;\n",
              "      border-bottom-color: var(--fill-color);\n",
              "    }\n",
              "  }\n",
              "</style>\n",
              "\n",
              "  <script>\n",
              "    async function quickchart(key) {\n",
              "      const quickchartButtonEl =\n",
              "        document.querySelector('#' + key + ' button');\n",
              "      quickchartButtonEl.disabled = true;  // To prevent multiple clicks.\n",
              "      quickchartButtonEl.classList.add('colab-df-spinner');\n",
              "      try {\n",
              "        const charts = await google.colab.kernel.invokeFunction(\n",
              "            'suggestCharts', [key], {});\n",
              "      } catch (error) {\n",
              "        console.error('Error during call to suggestCharts:', error);\n",
              "      }\n",
              "      quickchartButtonEl.classList.remove('colab-df-spinner');\n",
              "      quickchartButtonEl.classList.add('colab-df-quickchart-complete');\n",
              "    }\n",
              "    (() => {\n",
              "      let quickchartButtonEl =\n",
              "        document.querySelector('#df-a585547b-2efd-4aee-90e4-0181684fa48f button');\n",
              "      quickchartButtonEl.style.display =\n",
              "        google.colab.kernel.accessAllowed ? 'block' : 'none';\n",
              "    })();\n",
              "  </script>\n",
              "</div>\n",
              "    </div>\n",
              "  </div>\n"
            ],
            "application/vnd.google.colaboratory.intrinsic+json": {
              "type": "dataframe",
              "variable_name": "df3",
              "summary": "{\n  \"name\": \"df3\",\n  \"rows\": 2612,\n  \"fields\": [\n    {\n      \"column\": \"questionText\",\n      \"properties\": {\n        \"dtype\": \"category\",\n        \"num_unique_values\": 863,\n        \"samples\": [\n          \"<user> I am currently suffering from erectile dysfunction and have tried Viagra, Cialis, etc. Nothing seemed to work. My girlfriend of 3 years is very sexually frustrated. I told her that it is okay for her to have sex with other men. Is that really okay?\",\n          \"<user> For the past week or so me and my boyfriend have been fighting. He has been making a lot of bad choices and he is currently hospitalized. I'm barely eating or sleeping because I'm constantly worried about him. Everyone else in my life says that I should just forget about him and walk away. What should I do?\",\n          \"<user> I am in high school and have been facing anxiety issues lately. Whenever I get close to being in a relationship, some kind of anxiety takes over and keeps me from the relationship. This anxiety causes me depression at times and even makes me want to vomit. While a semi-relationship should be joyous, for me, it\\u2019s an emotional nightmare I can\\u2019t get to the bottom of. I\\u2019ve had this before and had to leave the semi-relationship to avoid throwing up every time I made contact with my crush. What could be the reason behind this? Is it massive nerve problems? Is it a fear of a bad relationship?\\n   While I\\u2019m not quite ready to be in one anyway, I want to get to the bottom of this for a brighter future in which I can be in one. I don\\u2019t take medications and have no desire to, I have read forums, and I\\u2019ve talked about the issue with my sister who has faced similar problems.\"\n        ],\n        \"semantic_type\": \"\",\n        \"description\": \"\"\n      }\n    },\n    {\n      \"column\": \"answerText\",\n      \"properties\": {\n        \"dtype\": \"string\",\n        \"num_unique_values\": 2603,\n        \"samples\": [\n          \"<agent> One of the greatest ways that we can promote ourselves s by learning how to assert ourselves. \\u00a0Despite what most people think of when they hear the word assertive, assertive communication is one of the best ways to manage interpersonal conflict as well as maintain personal boundaries. \\u00a0Once we become comfortable with acknowledging our boundaries, there is usually a follow-up whereby we realize that we have the right to those boundaries. \\u00a0In effect, assertiveness communication becomes it's own self-motivating force in managing positive self-esteem. You may want to invest in a workbook that can help you to develop these skills on your own, or work directly with a therapist to develop them in a safe situation. \\u00a0 One of the Workbooks that I have found to be very helpful is, \\\"The Assertiveness Workbook: How to Express your Ideas and Stand Up for Yourself at Work and in Relationships\\\" by Randy J Paterson.\",\n          \"<agent> If the daughters are old & mature enough to understand substance abuse. \\u00a0They should be told for their own empowerment. KNOWLEDGE is their power of safety and protection.\",\n          \"<agent> Hello, and thank you for your question. Being bisexual can be particularly\\ndifficult because it is often misunderstood, even by people who are \\u201csupposed\\u201d\\nto be part of your own community, such as lesbians and gays. It happens so\\noften that there is actually a term for it \\u2013\\u00a0\\nbi-erasure. This is simply something that happens when people deny that\\nbisexuality is a real thing, or discriminate against bisexuals due to beliefs\\nlike your parents seem to have. \\nThe unfortunate truth is that you can never\\nbe sure of how you parents may take this kind of information. It sounds\\npromising that they are accepting of other sexual orientations, and it may\\nsimply be that your parents lack education about bisexuality. With accurate\\ninformation, they may come around, but there is no way to be sure. \\nSome of my colleagues have already given you good information. Here are some more\\u00a0things that you can consider\\nand questions you can ask yourself before making the decision to tell them:\\n\\u00a0\\n1.\\u00a0\\u00a0\\u00a0\\u00a0\\u00a0 If they don\\u2019t respond the way you want them to, have you developed a support\\nsystem to support you through it? This is very important. The truth is that all\\nthe friends in the world won\\u2019t prevent pain or sadness if your parents don\\u2019t\\nrespond as you hope, but they will at least be there to remind you that you ARE\\nokay as you are. And that is critical for you to remember. \\n\\u00a0\\n2.\\u00a0\\u00a0\\u00a0\\u00a0\\u00a0 There is great information on the internet about bisexuality that you can\\noffer your parents if you think it would be helpful. It may be important for\\nthem to know the kind of damage that is being done to bisexual adults and young\\npeople because of the myths surrounding bisexuality. Here is an article from\\nGLAAD about bi-erasure: http://www.glaad.org/bisexual/bierasure\\n\\u00a0\\n3.\\u00a0\\u00a0\\u00a0\\u00a0\\u00a0 Coming out to people is obviously deeply personal and should only take\\nplace when you are ready. Sometimes people get pressured from friends, media,\\nand even people they are romantically involved with to come out before they are\\nready. It really is up to you. If you are feeling pressure from others, don\\u2019t\\nfeel bad about setting your boundaries and telling them that you will come out\\non your own time. Intimate partners should respect you enough to understand\\nthis. \\n\\u00a0\\n4.\\u00a0\\u00a0\\u00a0\\u00a0\\u00a0 Something else to think about is your own comfort in being bisexual. Just\\nbecause someone is LGBTQ doesn\\u2019t mean that they necessarily want to be. Many\\npeople struggle with this. Having\\nyour own doubts or insecurities may also play a part in how comfortable you are\\nin telling your parents. So, perhaps do some self-exploration about your\\nfeelings toward yourself. \\n\\u00a0\\nSometimes people take friends with them\\nwhen they decide to come out to their parents. This is something you may want\\nto consider. The important thing to remember is that you are okay. Really. If\\nyour parents don\\u2019t respond well, that doesn\\u2019t mean that they never will. Some\\nstart off upset, but then work their way through it. \\nBest of luck to you. \\nRobin J. Landwehr, DBH, LPC, NCC\"\n        ],\n        \"semantic_type\": \"\",\n        \"description\": \"\"\n      }\n    }\n  ]\n}"
            }
          },
          "metadata": {},
          "execution_count": 15
        }
      ]
    },
    {
      "cell_type": "code",
      "source": [
        "#@title Remove escape sequences\n",
        "\n",
        "df3['questionText'] = df3['questionText'].apply(lambda x: re.sub(r'\\s+', ' ', x).strip())\n",
        "df3['answerText'] = df3['answerText'].apply(lambda x: re.sub(r'\\s+', ' ', x).strip())\n",
        "\n",
        "df3.head()"
      ],
      "metadata": {
        "colab": {
          "base_uri": "https://localhost:8080/",
          "height": 206
        },
        "id": "kZt47d2unv5u",
        "outputId": "cd3431d9-51b9-4236-8dae-1bb563c3da1d"
      },
      "execution_count": null,
      "outputs": [
        {
          "output_type": "execute_result",
          "data": {
            "text/plain": [
              "                                        questionText  \\\n",
              "0  <user> I have so many issues to address. I hav...   \n",
              "1  <user> I have so many issues to address. I hav...   \n",
              "2  <user> I have so many issues to address. I hav...   \n",
              "3  <user> I have so many issues to address. I hav...   \n",
              "4  <user> I have so many issues to address. I hav...   \n",
              "\n",
              "                                          answerText  \n",
              "0  <agent> It is very common for people to have m...  \n",
              "1  <agent> I've never heard of someone having \"to...  \n",
              "2  <agent> Absolutely not. I strongly recommendin...  \n",
              "3  <agent> Let me start by saying there are never...  \n",
              "4  <agent> I just want to acknowledge you for the...  "
            ],
            "text/html": [
              "\n",
              "  <div id=\"df-4e7f2bcd-a53a-4f82-ba97-29593dcbab7e\" class=\"colab-df-container\">\n",
              "    <div>\n",
              "<style scoped>\n",
              "    .dataframe tbody tr th:only-of-type {\n",
              "        vertical-align: middle;\n",
              "    }\n",
              "\n",
              "    .dataframe tbody tr th {\n",
              "        vertical-align: top;\n",
              "    }\n",
              "\n",
              "    .dataframe thead th {\n",
              "        text-align: right;\n",
              "    }\n",
              "</style>\n",
              "<table border=\"1\" class=\"dataframe\">\n",
              "  <thead>\n",
              "    <tr style=\"text-align: right;\">\n",
              "      <th></th>\n",
              "      <th>questionText</th>\n",
              "      <th>answerText</th>\n",
              "    </tr>\n",
              "  </thead>\n",
              "  <tbody>\n",
              "    <tr>\n",
              "      <th>0</th>\n",
              "      <td>&lt;user&gt; I have so many issues to address. I hav...</td>\n",
              "      <td>&lt;agent&gt; It is very common for people to have m...</td>\n",
              "    </tr>\n",
              "    <tr>\n",
              "      <th>1</th>\n",
              "      <td>&lt;user&gt; I have so many issues to address. I hav...</td>\n",
              "      <td>&lt;agent&gt; I've never heard of someone having \"to...</td>\n",
              "    </tr>\n",
              "    <tr>\n",
              "      <th>2</th>\n",
              "      <td>&lt;user&gt; I have so many issues to address. I hav...</td>\n",
              "      <td>&lt;agent&gt; Absolutely not. I strongly recommendin...</td>\n",
              "    </tr>\n",
              "    <tr>\n",
              "      <th>3</th>\n",
              "      <td>&lt;user&gt; I have so many issues to address. I hav...</td>\n",
              "      <td>&lt;agent&gt; Let me start by saying there are never...</td>\n",
              "    </tr>\n",
              "    <tr>\n",
              "      <th>4</th>\n",
              "      <td>&lt;user&gt; I have so many issues to address. I hav...</td>\n",
              "      <td>&lt;agent&gt; I just want to acknowledge you for the...</td>\n",
              "    </tr>\n",
              "  </tbody>\n",
              "</table>\n",
              "</div>\n",
              "    <div class=\"colab-df-buttons\">\n",
              "\n",
              "  <div class=\"colab-df-container\">\n",
              "    <button class=\"colab-df-convert\" onclick=\"convertToInteractive('df-4e7f2bcd-a53a-4f82-ba97-29593dcbab7e')\"\n",
              "            title=\"Convert this dataframe to an interactive table.\"\n",
              "            style=\"display:none;\">\n",
              "\n",
              "  <svg xmlns=\"http://www.w3.org/2000/svg\" height=\"24px\" viewBox=\"0 -960 960 960\">\n",
              "    <path d=\"M120-120v-720h720v720H120Zm60-500h600v-160H180v160Zm220 220h160v-160H400v160Zm0 220h160v-160H400v160ZM180-400h160v-160H180v160Zm440 0h160v-160H620v160ZM180-180h160v-160H180v160Zm440 0h160v-160H620v160Z\"/>\n",
              "  </svg>\n",
              "    </button>\n",
              "\n",
              "  <style>\n",
              "    .colab-df-container {\n",
              "      display:flex;\n",
              "      gap: 12px;\n",
              "    }\n",
              "\n",
              "    .colab-df-convert {\n",
              "      background-color: #E8F0FE;\n",
              "      border: none;\n",
              "      border-radius: 50%;\n",
              "      cursor: pointer;\n",
              "      display: none;\n",
              "      fill: #1967D2;\n",
              "      height: 32px;\n",
              "      padding: 0 0 0 0;\n",
              "      width: 32px;\n",
              "    }\n",
              "\n",
              "    .colab-df-convert:hover {\n",
              "      background-color: #E2EBFA;\n",
              "      box-shadow: 0px 1px 2px rgba(60, 64, 67, 0.3), 0px 1px 3px 1px rgba(60, 64, 67, 0.15);\n",
              "      fill: #174EA6;\n",
              "    }\n",
              "\n",
              "    .colab-df-buttons div {\n",
              "      margin-bottom: 4px;\n",
              "    }\n",
              "\n",
              "    [theme=dark] .colab-df-convert {\n",
              "      background-color: #3B4455;\n",
              "      fill: #D2E3FC;\n",
              "    }\n",
              "\n",
              "    [theme=dark] .colab-df-convert:hover {\n",
              "      background-color: #434B5C;\n",
              "      box-shadow: 0px 1px 3px 1px rgba(0, 0, 0, 0.15);\n",
              "      filter: drop-shadow(0px 1px 2px rgba(0, 0, 0, 0.3));\n",
              "      fill: #FFFFFF;\n",
              "    }\n",
              "  </style>\n",
              "\n",
              "    <script>\n",
              "      const buttonEl =\n",
              "        document.querySelector('#df-4e7f2bcd-a53a-4f82-ba97-29593dcbab7e button.colab-df-convert');\n",
              "      buttonEl.style.display =\n",
              "        google.colab.kernel.accessAllowed ? 'block' : 'none';\n",
              "\n",
              "      async function convertToInteractive(key) {\n",
              "        const element = document.querySelector('#df-4e7f2bcd-a53a-4f82-ba97-29593dcbab7e');\n",
              "        const dataTable =\n",
              "          await google.colab.kernel.invokeFunction('convertToInteractive',\n",
              "                                                    [key], {});\n",
              "        if (!dataTable) return;\n",
              "\n",
              "        const docLinkHtml = 'Like what you see? Visit the ' +\n",
              "          '<a target=\"_blank\" href=https://colab.research.google.com/notebooks/data_table.ipynb>data table notebook</a>'\n",
              "          + ' to learn more about interactive tables.';\n",
              "        element.innerHTML = '';\n",
              "        dataTable['output_type'] = 'display_data';\n",
              "        await google.colab.output.renderOutput(dataTable, element);\n",
              "        const docLink = document.createElement('div');\n",
              "        docLink.innerHTML = docLinkHtml;\n",
              "        element.appendChild(docLink);\n",
              "      }\n",
              "    </script>\n",
              "  </div>\n",
              "\n",
              "\n",
              "<div id=\"df-ef9d2f7a-bee7-44c5-87b2-4ddcabd19039\">\n",
              "  <button class=\"colab-df-quickchart\" onclick=\"quickchart('df-ef9d2f7a-bee7-44c5-87b2-4ddcabd19039')\"\n",
              "            title=\"Suggest charts\"\n",
              "            style=\"display:none;\">\n",
              "\n",
              "<svg xmlns=\"http://www.w3.org/2000/svg\" height=\"24px\"viewBox=\"0 0 24 24\"\n",
              "     width=\"24px\">\n",
              "    <g>\n",
              "        <path d=\"M19 3H5c-1.1 0-2 .9-2 2v14c0 1.1.9 2 2 2h14c1.1 0 2-.9 2-2V5c0-1.1-.9-2-2-2zM9 17H7v-7h2v7zm4 0h-2V7h2v10zm4 0h-2v-4h2v4z\"/>\n",
              "    </g>\n",
              "</svg>\n",
              "  </button>\n",
              "\n",
              "<style>\n",
              "  .colab-df-quickchart {\n",
              "      --bg-color: #E8F0FE;\n",
              "      --fill-color: #1967D2;\n",
              "      --hover-bg-color: #E2EBFA;\n",
              "      --hover-fill-color: #174EA6;\n",
              "      --disabled-fill-color: #AAA;\n",
              "      --disabled-bg-color: #DDD;\n",
              "  }\n",
              "\n",
              "  [theme=dark] .colab-df-quickchart {\n",
              "      --bg-color: #3B4455;\n",
              "      --fill-color: #D2E3FC;\n",
              "      --hover-bg-color: #434B5C;\n",
              "      --hover-fill-color: #FFFFFF;\n",
              "      --disabled-bg-color: #3B4455;\n",
              "      --disabled-fill-color: #666;\n",
              "  }\n",
              "\n",
              "  .colab-df-quickchart {\n",
              "    background-color: var(--bg-color);\n",
              "    border: none;\n",
              "    border-radius: 50%;\n",
              "    cursor: pointer;\n",
              "    display: none;\n",
              "    fill: var(--fill-color);\n",
              "    height: 32px;\n",
              "    padding: 0;\n",
              "    width: 32px;\n",
              "  }\n",
              "\n",
              "  .colab-df-quickchart:hover {\n",
              "    background-color: var(--hover-bg-color);\n",
              "    box-shadow: 0 1px 2px rgba(60, 64, 67, 0.3), 0 1px 3px 1px rgba(60, 64, 67, 0.15);\n",
              "    fill: var(--button-hover-fill-color);\n",
              "  }\n",
              "\n",
              "  .colab-df-quickchart-complete:disabled,\n",
              "  .colab-df-quickchart-complete:disabled:hover {\n",
              "    background-color: var(--disabled-bg-color);\n",
              "    fill: var(--disabled-fill-color);\n",
              "    box-shadow: none;\n",
              "  }\n",
              "\n",
              "  .colab-df-spinner {\n",
              "    border: 2px solid var(--fill-color);\n",
              "    border-color: transparent;\n",
              "    border-bottom-color: var(--fill-color);\n",
              "    animation:\n",
              "      spin 1s steps(1) infinite;\n",
              "  }\n",
              "\n",
              "  @keyframes spin {\n",
              "    0% {\n",
              "      border-color: transparent;\n",
              "      border-bottom-color: var(--fill-color);\n",
              "      border-left-color: var(--fill-color);\n",
              "    }\n",
              "    20% {\n",
              "      border-color: transparent;\n",
              "      border-left-color: var(--fill-color);\n",
              "      border-top-color: var(--fill-color);\n",
              "    }\n",
              "    30% {\n",
              "      border-color: transparent;\n",
              "      border-left-color: var(--fill-color);\n",
              "      border-top-color: var(--fill-color);\n",
              "      border-right-color: var(--fill-color);\n",
              "    }\n",
              "    40% {\n",
              "      border-color: transparent;\n",
              "      border-right-color: var(--fill-color);\n",
              "      border-top-color: var(--fill-color);\n",
              "    }\n",
              "    60% {\n",
              "      border-color: transparent;\n",
              "      border-right-color: var(--fill-color);\n",
              "    }\n",
              "    80% {\n",
              "      border-color: transparent;\n",
              "      border-right-color: var(--fill-color);\n",
              "      border-bottom-color: var(--fill-color);\n",
              "    }\n",
              "    90% {\n",
              "      border-color: transparent;\n",
              "      border-bottom-color: var(--fill-color);\n",
              "    }\n",
              "  }\n",
              "</style>\n",
              "\n",
              "  <script>\n",
              "    async function quickchart(key) {\n",
              "      const quickchartButtonEl =\n",
              "        document.querySelector('#' + key + ' button');\n",
              "      quickchartButtonEl.disabled = true;  // To prevent multiple clicks.\n",
              "      quickchartButtonEl.classList.add('colab-df-spinner');\n",
              "      try {\n",
              "        const charts = await google.colab.kernel.invokeFunction(\n",
              "            'suggestCharts', [key], {});\n",
              "      } catch (error) {\n",
              "        console.error('Error during call to suggestCharts:', error);\n",
              "      }\n",
              "      quickchartButtonEl.classList.remove('colab-df-spinner');\n",
              "      quickchartButtonEl.classList.add('colab-df-quickchart-complete');\n",
              "    }\n",
              "    (() => {\n",
              "      let quickchartButtonEl =\n",
              "        document.querySelector('#df-ef9d2f7a-bee7-44c5-87b2-4ddcabd19039 button');\n",
              "      quickchartButtonEl.style.display =\n",
              "        google.colab.kernel.accessAllowed ? 'block' : 'none';\n",
              "    })();\n",
              "  </script>\n",
              "</div>\n",
              "    </div>\n",
              "  </div>\n"
            ],
            "application/vnd.google.colaboratory.intrinsic+json": {
              "type": "dataframe",
              "variable_name": "df3",
              "summary": "{\n  \"name\": \"df3\",\n  \"rows\": 2612,\n  \"fields\": [\n    {\n      \"column\": \"questionText\",\n      \"properties\": {\n        \"dtype\": \"category\",\n        \"num_unique_values\": 863,\n        \"samples\": [\n          \"<user> I am currently suffering from erectile dysfunction and have tried Viagra, Cialis, etc. Nothing seemed to work. My girlfriend of 3 years is very sexually frustrated. I told her that it is okay for her to have sex with other men. Is that really okay?\",\n          \"<user> For the past week or so me and my boyfriend have been fighting. He has been making a lot of bad choices and he is currently hospitalized. I'm barely eating or sleeping because I'm constantly worried about him. Everyone else in my life says that I should just forget about him and walk away. What should I do?\",\n          \"<user> I am in high school and have been facing anxiety issues lately. Whenever I get close to being in a relationship, some kind of anxiety takes over and keeps me from the relationship. This anxiety causes me depression at times and even makes me want to vomit. While a semi-relationship should be joyous, for me, it\\u2019s an emotional nightmare I can\\u2019t get to the bottom of. I\\u2019ve had this before and had to leave the semi-relationship to avoid throwing up every time I made contact with my crush. What could be the reason behind this? Is it massive nerve problems? Is it a fear of a bad relationship? While I\\u2019m not quite ready to be in one anyway, I want to get to the bottom of this for a brighter future in which I can be in one. I don\\u2019t take medications and have no desire to, I have read forums, and I\\u2019ve talked about the issue with my sister who has faced similar problems.\"\n        ],\n        \"semantic_type\": \"\",\n        \"description\": \"\"\n      }\n    },\n    {\n      \"column\": \"answerText\",\n      \"properties\": {\n        \"dtype\": \"string\",\n        \"num_unique_values\": 2602,\n        \"samples\": [\n          \"<agent> To begin with, what's normal for one couple isn't going to be normal for the next, every couple has their own normal and that's important to keep in mind. Your sexual lives will ebb and flow. What I'd be more curious about is the quality rather than the quantity of the sex you are having. I'd also want you both to refocus on building up your little daily moments of connection, I wrote a post about exactly that a while back and you can find it here.\",\n          \"<agent> Have you ruled out anything medical? Having a balanced life takes some time and commitment. Sounds like you're ready, but you need someone to help guide you. I would find someone you connect with here. Besides that, check out this app, Brainwaves if you have an iPhone, if not, there's a brainwaves app on the android that helps with your internal brain frequencies to help you to feel better. There are 35 Binaural programs to choose from (iPhone app). The other thing is to create a new routine, incorporating meditation. A good program to follow is NEW START (Nutrition (What are you eating, is it benefiting you?), Exercise (Even a 30 minute Brisk walk is helpful), Water (Are you drinking half your body weight in ounces?), Sunlight (If it's still scarce, look for some Vitamin D to supplement), Temperance (Do you need Mental Health support, like working with a Therapist or Counselor?), Air (Are you getting fresh air in your lungs?), Rest (Are you getting restful sleep?), and Trust (which means Trusting in something bigger that you)). This is a daily thing to do. Hopefully, this helps!\",\n          \"<agent> If there is no one in your life with whom you feel comfortable, I would recommend identifying someone on this site, psychology today or goodtherapy.org who is in your area, then give that therapist a call to see if you would be a good match.\"\n        ],\n        \"semantic_type\": \"\",\n        \"description\": \"\"\n      }\n    }\n  ]\n}"
            }
          },
          "metadata": {},
          "execution_count": 16
        }
      ]
    },
    {
      "cell_type": "code",
      "source": [
        "#@title Rename Column\n",
        "\n",
        "df3.rename(columns={'questionText': 'Context', 'answerText': 'Response'}, inplace=True)\n",
        "df3.head()"
      ],
      "metadata": {
        "colab": {
          "base_uri": "https://localhost:8080/",
          "height": 206
        },
        "id": "2yGAQhkmhI8c",
        "outputId": "f14070b6-105b-4044-af37-fd8575c9283d"
      },
      "execution_count": null,
      "outputs": [
        {
          "output_type": "execute_result",
          "data": {
            "text/plain": [
              "                                             Context  \\\n",
              "0  <user> I have so many issues to address. I hav...   \n",
              "1  <user> I have so many issues to address. I hav...   \n",
              "2  <user> I have so many issues to address. I hav...   \n",
              "3  <user> I have so many issues to address. I hav...   \n",
              "4  <user> I have so many issues to address. I hav...   \n",
              "\n",
              "                                            Response  \n",
              "0  <agent> It is very common for people to have m...  \n",
              "1  <agent> I've never heard of someone having \"to...  \n",
              "2  <agent> Absolutely not. I strongly recommendin...  \n",
              "3  <agent> Let me start by saying there are never...  \n",
              "4  <agent> I just want to acknowledge you for the...  "
            ],
            "text/html": [
              "\n",
              "  <div id=\"df-8b7268f7-df32-454c-af15-685ac3658e60\" class=\"colab-df-container\">\n",
              "    <div>\n",
              "<style scoped>\n",
              "    .dataframe tbody tr th:only-of-type {\n",
              "        vertical-align: middle;\n",
              "    }\n",
              "\n",
              "    .dataframe tbody tr th {\n",
              "        vertical-align: top;\n",
              "    }\n",
              "\n",
              "    .dataframe thead th {\n",
              "        text-align: right;\n",
              "    }\n",
              "</style>\n",
              "<table border=\"1\" class=\"dataframe\">\n",
              "  <thead>\n",
              "    <tr style=\"text-align: right;\">\n",
              "      <th></th>\n",
              "      <th>Context</th>\n",
              "      <th>Response</th>\n",
              "    </tr>\n",
              "  </thead>\n",
              "  <tbody>\n",
              "    <tr>\n",
              "      <th>0</th>\n",
              "      <td>&lt;user&gt; I have so many issues to address. I hav...</td>\n",
              "      <td>&lt;agent&gt; It is very common for people to have m...</td>\n",
              "    </tr>\n",
              "    <tr>\n",
              "      <th>1</th>\n",
              "      <td>&lt;user&gt; I have so many issues to address. I hav...</td>\n",
              "      <td>&lt;agent&gt; I've never heard of someone having \"to...</td>\n",
              "    </tr>\n",
              "    <tr>\n",
              "      <th>2</th>\n",
              "      <td>&lt;user&gt; I have so many issues to address. I hav...</td>\n",
              "      <td>&lt;agent&gt; Absolutely not. I strongly recommendin...</td>\n",
              "    </tr>\n",
              "    <tr>\n",
              "      <th>3</th>\n",
              "      <td>&lt;user&gt; I have so many issues to address. I hav...</td>\n",
              "      <td>&lt;agent&gt; Let me start by saying there are never...</td>\n",
              "    </tr>\n",
              "    <tr>\n",
              "      <th>4</th>\n",
              "      <td>&lt;user&gt; I have so many issues to address. I hav...</td>\n",
              "      <td>&lt;agent&gt; I just want to acknowledge you for the...</td>\n",
              "    </tr>\n",
              "  </tbody>\n",
              "</table>\n",
              "</div>\n",
              "    <div class=\"colab-df-buttons\">\n",
              "\n",
              "  <div class=\"colab-df-container\">\n",
              "    <button class=\"colab-df-convert\" onclick=\"convertToInteractive('df-8b7268f7-df32-454c-af15-685ac3658e60')\"\n",
              "            title=\"Convert this dataframe to an interactive table.\"\n",
              "            style=\"display:none;\">\n",
              "\n",
              "  <svg xmlns=\"http://www.w3.org/2000/svg\" height=\"24px\" viewBox=\"0 -960 960 960\">\n",
              "    <path d=\"M120-120v-720h720v720H120Zm60-500h600v-160H180v160Zm220 220h160v-160H400v160Zm0 220h160v-160H400v160ZM180-400h160v-160H180v160Zm440 0h160v-160H620v160ZM180-180h160v-160H180v160Zm440 0h160v-160H620v160Z\"/>\n",
              "  </svg>\n",
              "    </button>\n",
              "\n",
              "  <style>\n",
              "    .colab-df-container {\n",
              "      display:flex;\n",
              "      gap: 12px;\n",
              "    }\n",
              "\n",
              "    .colab-df-convert {\n",
              "      background-color: #E8F0FE;\n",
              "      border: none;\n",
              "      border-radius: 50%;\n",
              "      cursor: pointer;\n",
              "      display: none;\n",
              "      fill: #1967D2;\n",
              "      height: 32px;\n",
              "      padding: 0 0 0 0;\n",
              "      width: 32px;\n",
              "    }\n",
              "\n",
              "    .colab-df-convert:hover {\n",
              "      background-color: #E2EBFA;\n",
              "      box-shadow: 0px 1px 2px rgba(60, 64, 67, 0.3), 0px 1px 3px 1px rgba(60, 64, 67, 0.15);\n",
              "      fill: #174EA6;\n",
              "    }\n",
              "\n",
              "    .colab-df-buttons div {\n",
              "      margin-bottom: 4px;\n",
              "    }\n",
              "\n",
              "    [theme=dark] .colab-df-convert {\n",
              "      background-color: #3B4455;\n",
              "      fill: #D2E3FC;\n",
              "    }\n",
              "\n",
              "    [theme=dark] .colab-df-convert:hover {\n",
              "      background-color: #434B5C;\n",
              "      box-shadow: 0px 1px 3px 1px rgba(0, 0, 0, 0.15);\n",
              "      filter: drop-shadow(0px 1px 2px rgba(0, 0, 0, 0.3));\n",
              "      fill: #FFFFFF;\n",
              "    }\n",
              "  </style>\n",
              "\n",
              "    <script>\n",
              "      const buttonEl =\n",
              "        document.querySelector('#df-8b7268f7-df32-454c-af15-685ac3658e60 button.colab-df-convert');\n",
              "      buttonEl.style.display =\n",
              "        google.colab.kernel.accessAllowed ? 'block' : 'none';\n",
              "\n",
              "      async function convertToInteractive(key) {\n",
              "        const element = document.querySelector('#df-8b7268f7-df32-454c-af15-685ac3658e60');\n",
              "        const dataTable =\n",
              "          await google.colab.kernel.invokeFunction('convertToInteractive',\n",
              "                                                    [key], {});\n",
              "        if (!dataTable) return;\n",
              "\n",
              "        const docLinkHtml = 'Like what you see? Visit the ' +\n",
              "          '<a target=\"_blank\" href=https://colab.research.google.com/notebooks/data_table.ipynb>data table notebook</a>'\n",
              "          + ' to learn more about interactive tables.';\n",
              "        element.innerHTML = '';\n",
              "        dataTable['output_type'] = 'display_data';\n",
              "        await google.colab.output.renderOutput(dataTable, element);\n",
              "        const docLink = document.createElement('div');\n",
              "        docLink.innerHTML = docLinkHtml;\n",
              "        element.appendChild(docLink);\n",
              "      }\n",
              "    </script>\n",
              "  </div>\n",
              "\n",
              "\n",
              "<div id=\"df-303b46d8-c5f5-452f-8e14-f4148dd289cb\">\n",
              "  <button class=\"colab-df-quickchart\" onclick=\"quickchart('df-303b46d8-c5f5-452f-8e14-f4148dd289cb')\"\n",
              "            title=\"Suggest charts\"\n",
              "            style=\"display:none;\">\n",
              "\n",
              "<svg xmlns=\"http://www.w3.org/2000/svg\" height=\"24px\"viewBox=\"0 0 24 24\"\n",
              "     width=\"24px\">\n",
              "    <g>\n",
              "        <path d=\"M19 3H5c-1.1 0-2 .9-2 2v14c0 1.1.9 2 2 2h14c1.1 0 2-.9 2-2V5c0-1.1-.9-2-2-2zM9 17H7v-7h2v7zm4 0h-2V7h2v10zm4 0h-2v-4h2v4z\"/>\n",
              "    </g>\n",
              "</svg>\n",
              "  </button>\n",
              "\n",
              "<style>\n",
              "  .colab-df-quickchart {\n",
              "      --bg-color: #E8F0FE;\n",
              "      --fill-color: #1967D2;\n",
              "      --hover-bg-color: #E2EBFA;\n",
              "      --hover-fill-color: #174EA6;\n",
              "      --disabled-fill-color: #AAA;\n",
              "      --disabled-bg-color: #DDD;\n",
              "  }\n",
              "\n",
              "  [theme=dark] .colab-df-quickchart {\n",
              "      --bg-color: #3B4455;\n",
              "      --fill-color: #D2E3FC;\n",
              "      --hover-bg-color: #434B5C;\n",
              "      --hover-fill-color: #FFFFFF;\n",
              "      --disabled-bg-color: #3B4455;\n",
              "      --disabled-fill-color: #666;\n",
              "  }\n",
              "\n",
              "  .colab-df-quickchart {\n",
              "    background-color: var(--bg-color);\n",
              "    border: none;\n",
              "    border-radius: 50%;\n",
              "    cursor: pointer;\n",
              "    display: none;\n",
              "    fill: var(--fill-color);\n",
              "    height: 32px;\n",
              "    padding: 0;\n",
              "    width: 32px;\n",
              "  }\n",
              "\n",
              "  .colab-df-quickchart:hover {\n",
              "    background-color: var(--hover-bg-color);\n",
              "    box-shadow: 0 1px 2px rgba(60, 64, 67, 0.3), 0 1px 3px 1px rgba(60, 64, 67, 0.15);\n",
              "    fill: var(--button-hover-fill-color);\n",
              "  }\n",
              "\n",
              "  .colab-df-quickchart-complete:disabled,\n",
              "  .colab-df-quickchart-complete:disabled:hover {\n",
              "    background-color: var(--disabled-bg-color);\n",
              "    fill: var(--disabled-fill-color);\n",
              "    box-shadow: none;\n",
              "  }\n",
              "\n",
              "  .colab-df-spinner {\n",
              "    border: 2px solid var(--fill-color);\n",
              "    border-color: transparent;\n",
              "    border-bottom-color: var(--fill-color);\n",
              "    animation:\n",
              "      spin 1s steps(1) infinite;\n",
              "  }\n",
              "\n",
              "  @keyframes spin {\n",
              "    0% {\n",
              "      border-color: transparent;\n",
              "      border-bottom-color: var(--fill-color);\n",
              "      border-left-color: var(--fill-color);\n",
              "    }\n",
              "    20% {\n",
              "      border-color: transparent;\n",
              "      border-left-color: var(--fill-color);\n",
              "      border-top-color: var(--fill-color);\n",
              "    }\n",
              "    30% {\n",
              "      border-color: transparent;\n",
              "      border-left-color: var(--fill-color);\n",
              "      border-top-color: var(--fill-color);\n",
              "      border-right-color: var(--fill-color);\n",
              "    }\n",
              "    40% {\n",
              "      border-color: transparent;\n",
              "      border-right-color: var(--fill-color);\n",
              "      border-top-color: var(--fill-color);\n",
              "    }\n",
              "    60% {\n",
              "      border-color: transparent;\n",
              "      border-right-color: var(--fill-color);\n",
              "    }\n",
              "    80% {\n",
              "      border-color: transparent;\n",
              "      border-right-color: var(--fill-color);\n",
              "      border-bottom-color: var(--fill-color);\n",
              "    }\n",
              "    90% {\n",
              "      border-color: transparent;\n",
              "      border-bottom-color: var(--fill-color);\n",
              "    }\n",
              "  }\n",
              "</style>\n",
              "\n",
              "  <script>\n",
              "    async function quickchart(key) {\n",
              "      const quickchartButtonEl =\n",
              "        document.querySelector('#' + key + ' button');\n",
              "      quickchartButtonEl.disabled = true;  // To prevent multiple clicks.\n",
              "      quickchartButtonEl.classList.add('colab-df-spinner');\n",
              "      try {\n",
              "        const charts = await google.colab.kernel.invokeFunction(\n",
              "            'suggestCharts', [key], {});\n",
              "      } catch (error) {\n",
              "        console.error('Error during call to suggestCharts:', error);\n",
              "      }\n",
              "      quickchartButtonEl.classList.remove('colab-df-spinner');\n",
              "      quickchartButtonEl.classList.add('colab-df-quickchart-complete');\n",
              "    }\n",
              "    (() => {\n",
              "      let quickchartButtonEl =\n",
              "        document.querySelector('#df-303b46d8-c5f5-452f-8e14-f4148dd289cb button');\n",
              "      quickchartButtonEl.style.display =\n",
              "        google.colab.kernel.accessAllowed ? 'block' : 'none';\n",
              "    })();\n",
              "  </script>\n",
              "</div>\n",
              "    </div>\n",
              "  </div>\n"
            ],
            "application/vnd.google.colaboratory.intrinsic+json": {
              "type": "dataframe",
              "variable_name": "df3",
              "summary": "{\n  \"name\": \"df3\",\n  \"rows\": 2612,\n  \"fields\": [\n    {\n      \"column\": \"Context\",\n      \"properties\": {\n        \"dtype\": \"category\",\n        \"num_unique_values\": 863,\n        \"samples\": [\n          \"<user> I am currently suffering from erectile dysfunction and have tried Viagra, Cialis, etc. Nothing seemed to work. My girlfriend of 3 years is very sexually frustrated. I told her that it is okay for her to have sex with other men. Is that really okay?\",\n          \"<user> For the past week or so me and my boyfriend have been fighting. He has been making a lot of bad choices and he is currently hospitalized. I'm barely eating or sleeping because I'm constantly worried about him. Everyone else in my life says that I should just forget about him and walk away. What should I do?\",\n          \"<user> I am in high school and have been facing anxiety issues lately. Whenever I get close to being in a relationship, some kind of anxiety takes over and keeps me from the relationship. This anxiety causes me depression at times and even makes me want to vomit. While a semi-relationship should be joyous, for me, it\\u2019s an emotional nightmare I can\\u2019t get to the bottom of. I\\u2019ve had this before and had to leave the semi-relationship to avoid throwing up every time I made contact with my crush. What could be the reason behind this? Is it massive nerve problems? Is it a fear of a bad relationship? While I\\u2019m not quite ready to be in one anyway, I want to get to the bottom of this for a brighter future in which I can be in one. I don\\u2019t take medications and have no desire to, I have read forums, and I\\u2019ve talked about the issue with my sister who has faced similar problems.\"\n        ],\n        \"semantic_type\": \"\",\n        \"description\": \"\"\n      }\n    },\n    {\n      \"column\": \"Response\",\n      \"properties\": {\n        \"dtype\": \"string\",\n        \"num_unique_values\": 2602,\n        \"samples\": [\n          \"<agent> To begin with, what's normal for one couple isn't going to be normal for the next, every couple has their own normal and that's important to keep in mind. Your sexual lives will ebb and flow. What I'd be more curious about is the quality rather than the quantity of the sex you are having. I'd also want you both to refocus on building up your little daily moments of connection, I wrote a post about exactly that a while back and you can find it here.\",\n          \"<agent> Have you ruled out anything medical? Having a balanced life takes some time and commitment. Sounds like you're ready, but you need someone to help guide you. I would find someone you connect with here. Besides that, check out this app, Brainwaves if you have an iPhone, if not, there's a brainwaves app on the android that helps with your internal brain frequencies to help you to feel better. There are 35 Binaural programs to choose from (iPhone app). The other thing is to create a new routine, incorporating meditation. A good program to follow is NEW START (Nutrition (What are you eating, is it benefiting you?), Exercise (Even a 30 minute Brisk walk is helpful), Water (Are you drinking half your body weight in ounces?), Sunlight (If it's still scarce, look for some Vitamin D to supplement), Temperance (Do you need Mental Health support, like working with a Therapist or Counselor?), Air (Are you getting fresh air in your lungs?), Rest (Are you getting restful sleep?), and Trust (which means Trusting in something bigger that you)). This is a daily thing to do. Hopefully, this helps!\",\n          \"<agent> If there is no one in your life with whom you feel comfortable, I would recommend identifying someone on this site, psychology today or goodtherapy.org who is in your area, then give that therapist a call to see if you would be a good match.\"\n        ],\n        \"semantic_type\": \"\",\n        \"description\": \"\"\n      }\n    }\n  ]\n}"
            }
          },
          "metadata": {},
          "execution_count": 17
        }
      ]
    },
    {
      "cell_type": "code",
      "source": [
        "df3['Context'][0]"
      ],
      "metadata": {
        "colab": {
          "base_uri": "https://localhost:8080/",
          "height": 53
        },
        "id": "6WTQs5Pohmp3",
        "outputId": "be5b0d6e-5d7e-476c-cf51-546f46ee699e"
      },
      "execution_count": null,
      "outputs": [
        {
          "output_type": "execute_result",
          "data": {
            "text/plain": [
              "'<user> I have so many issues to address. I have a history of sexual abuse, I’m a breast cancer survivor and I am a lifetime insomniac. I have a long history of depression and I’m beginning to have anxiety. I have low self esteem but I’ve been happily married for almost 35 years. I’ve never had counseling about any of this. Do I have too many issues to address in counseling?'"
            ],
            "application/vnd.google.colaboratory.intrinsic+json": {
              "type": "string"
            }
          },
          "metadata": {},
          "execution_count": 18
        }
      ]
    },
    {
      "cell_type": "code",
      "source": [
        "df3['Response'][0]"
      ],
      "metadata": {
        "colab": {
          "base_uri": "https://localhost:8080/",
          "height": 71
        },
        "id": "2V25BL95huQX",
        "outputId": "c681730d-07df-42a0-9726-35deffe4a09c"
      },
      "execution_count": null,
      "outputs": [
        {
          "output_type": "execute_result",
          "data": {
            "text/plain": [
              "'<agent> It is very common for people to have multiple issues that they want to (and need to) address in counseling. I have had clients ask that same question and through more exploration, there is often an underlying fear that they \"can\\'t be helped\" or that they will \"be too much for their therapist.\" I don\\'t know if any of this rings true for you. But, most people have more than one problem in their lives and more often than not, people have numerous significant stressors in their lives. Let\\'s face it, life can be complicated! Therapists are completely ready and equipped to handle all of the issues small or large that a client presents in session. Most therapists over the first couple of sessions will help you prioritize the issues you are facing so that you start addressing the issues that are causing you the most distress. You can never have too many issues to address in counseling. All of the issues you mention above can be successfully worked through in counseling.'"
            ],
            "application/vnd.google.colaboratory.intrinsic+json": {
              "type": "string"
            }
          },
          "metadata": {},
          "execution_count": 19
        }
      ]
    },
    {
      "cell_type": "markdown",
      "source": [
        "## Visualizations"
      ],
      "metadata": {
        "id": "IaZvDMgVQ6OJ"
      }
    },
    {
      "cell_type": "code",
      "source": [
        "#@title Cloud image\n",
        "\n",
        "# Join the array of strings into a single string\n",
        "Context = \" \".join(df3[\"Context\"])\n",
        "Response = \" \".join(df3[\"Response\"])\n",
        "\n",
        "# Generate and display a word cloud image (Context)\n",
        "wordcloud = WordCloud(background_color='white').generate(Context)\n",
        "plt.imshow(wordcloud, interpolation='bilinear')\n",
        "plt.axis(\"off\")\n",
        "plt.title(\"Context\")\n",
        "plt.show()\n",
        "\n",
        "# Generate and display a word cloud image (Response)\n",
        "wordcloud = WordCloud(background_color='white').generate(Response)\n",
        "plt.imshow(wordcloud, interpolation='bilinear')\n",
        "plt.axis(\"off\")\n",
        "plt.title(\"Response\")\n",
        "print(\" \")\n",
        "plt.show()"
      ],
      "metadata": {
        "colab": {
          "base_uri": "https://localhost:8080/",
          "height": 614
        },
        "outputId": "49432f39-ed2d-409c-aafb-427d2e1f84b1",
        "id": "9ufOhNpoQ6OK"
      },
      "execution_count": null,
      "outputs": [
        {
          "output_type": "display_data",
          "data": {
            "text/plain": [
              "<Figure size 640x480 with 1 Axes>"
            ],
            "image/png": "[encoded data removed]"
          },
          "metadata": {}
        },
        {
          "output_type": "stream",
          "name": "stdout",
          "text": [
            " \n"
          ]
        },
        {
          "output_type": "display_data",
          "data": {
            "text/plain": [
              "<Figure size 640x480 with 1 Axes>"
            ],
            "image/png": "[encoded data removed]"
          },
          "metadata": {}
        }
      ]
    },
    {
      "cell_type": "markdown",
      "source": [
        "----------------------"
      ],
      "metadata": {
        "id": "aK00H8rXR1uA"
      }
    },
    {
      "cell_type": "code",
      "source": [
        "#@title Most common words\n",
        "\n",
        "# Split the 'Context' documents into words and flatten the list\n",
        "context_words = [word for document in df3[\"Context\"] for word in str(document).split()]\n",
        "\n",
        "# Count the occurrences of each word in 'Context'\n",
        "context_word_counts = Counter(context_words)\n",
        "\n",
        "# Get the most common words and their counts in 'Context'\n",
        "most_common_context_words = context_word_counts.most_common(10)\n",
        "\n",
        "# Unzip the words and their counts in 'Context'\n",
        "context_words, context_counts = zip(*most_common_context_words)\n",
        "\n",
        "# Create and display a bar chart for 'Context'\n",
        "plt.bar(context_words, context_counts)\n",
        "plt.xlabel('Words')\n",
        "plt.ylabel('Frequency')\n",
        "plt.xticks(rotation=45)\n",
        "plt.title(\"Context\")\n",
        "plt.show()\n",
        "\n",
        "# Split the 'Response' documents into words and flatten the list\n",
        "response_words = [word for document in df3[\"Response\"] for word in str(document).split()]\n",
        "\n",
        "# Count the occurrences of each word in 'Response'\n",
        "response_word_counts = Counter(response_words)\n",
        "\n",
        "# Get the most common words and their counts in 'Response'\n",
        "most_common_response_words = response_word_counts.most_common(10)\n",
        "\n",
        "# Unzip the words and their counts in 'Response'\n",
        "response_words, response_counts = zip(*most_common_response_words)\n",
        "\n",
        "# Create and display a bar chart for 'Response'\n",
        "plt.bar(response_words, response_counts)\n",
        "plt.xlabel('Words')\n",
        "plt.ylabel('Frequency')\n",
        "plt.xticks(rotation=45)\n",
        "plt.title(\"Response\")\n",
        "print(\" \")\n",
        "plt.show()"
      ],
      "metadata": {
        "colab": {
          "base_uri": "https://localhost:8080/",
          "height": 995
        },
        "outputId": "e94fba3b-0436-4b43-cf60-e246207ad65d",
        "id": "3a9_v9iGQ6OK"
      },
      "execution_count": null,
      "outputs": [
        {
          "output_type": "display_data",
          "data": {
            "text/plain": [
              "<Figure size 640x480 with 1 Axes>"
            ],
            "image/png": "[encoded data removed]"
          },
          "metadata": {}
        },
        {
          "output_type": "stream",
          "name": "stdout",
          "text": [
            " \n"
          ]
        },
        {
          "output_type": "display_data",
          "data": {
            "text/plain": [
              "<Figure size 640x480 with 1 Axes>"
            ],
            "image/png": "[encoded data removed]"
          },
          "metadata": {}
        }
      ]
    },
    {
      "cell_type": "markdown",
      "source": [
        "-------------------"
      ],
      "metadata": {
        "id": "MqkqUayLiYdQ"
      }
    },
    {
      "cell_type": "markdown",
      "source": [
        "# Data 4\n",
        "https://huggingface.co/datasets/alexandreteles/mental-health-conversational-data"
      ],
      "metadata": {
        "id": "nWdP9IWOianF"
      }
    },
    {
      "cell_type": "markdown",
      "source": [
        "## Explore data"
      ],
      "metadata": {
        "id": "oqLlU1GbiarL"
      }
    },
    {
      "cell_type": "code",
      "source": [
        "dataset = load_dataset(\"alexandreteles/mental-health-conversational-data\")"
      ],
      "metadata": {
        "id": "lusTVxbkhxkl"
      },
      "execution_count": null,
      "outputs": []
    },
    {
      "cell_type": "code",
      "source": [
        "#@title Convert to Pandas df\n",
        "\n",
        "train_dataset = dataset[\"train\"]\n",
        "df4 = train_dataset.to_pandas()\n",
        "\n",
        "df4.head()"
      ],
      "metadata": {
        "id": "0Pvb0llUim4_"
      },
      "execution_count": null,
      "outputs": []
    },
    {
      "cell_type": "code",
      "source": [
        "df4.shape"
      ],
      "metadata": {
        "id": "XlPSxJqRiuo4"
      },
      "execution_count": null,
      "outputs": []
    },
    {
      "cell_type": "code",
      "source": [
        "df4.info()"
      ],
      "metadata": {
        "id": "p3UhYuzIkJYr"
      },
      "execution_count": null,
      "outputs": []
    },
    {
      "cell_type": "code",
      "source": [
        "df3.isnull().sum()"
      ],
      "metadata": {
        "id": "RLFg-sCPkJbp"
      },
      "execution_count": null,
      "outputs": []
    },
    {
      "cell_type": "code",
      "source": [
        "#@title Drop columns\n",
        "\n",
        "# Select only the 'questionText' and 'answerText' columns\n",
        "df4 = df4[['Context', 'Response']]\n",
        "df4.head()"
      ],
      "metadata": {
        "id": "C9WJgkhIkQny"
      },
      "execution_count": null,
      "outputs": []
    },
    {
      "cell_type": "markdown",
      "source": [
        "## Clean data"
      ],
      "metadata": {
        "id": "LuQSPSe4kgO2"
      }
    },
    {
      "cell_type": "code",
      "source": [
        "#@title Remove the duplicate rows\n",
        "df4.drop_duplicates()\n",
        "df4.shape"
      ],
      "metadata": {
        "id": "qvDASmtMkbqa"
      },
      "execution_count": null,
      "outputs": []
    },
    {
      "cell_type": "code",
      "source": [
        "#@title Normalize Text\n",
        "# & Remove Unicode Characters\n",
        "\n",
        "def clean_text(text):\n",
        "  text = str(text).lower() # Convert text to lowercase\n",
        "  text = re.sub(\"[\\[].*?[\\]]\", \"\", text) # Remove text within square brackets\n",
        "  text = re.sub(r\"http\\S+\", \"\", text) # Remove URLs\n",
        "  text = re.sub(r\"[^\\w\\s]\", \"\", text) # Remove non-alphanumeric characters (excluding spaces)\n",
        "  text = re.sub(r\"\\d+\", \"\", text) # Remove digits\n",
        "  return text\n",
        "\n",
        "# Apply the clean_text function\n",
        "df4['Context'].apply(clean_text)\n",
        "df4['Response'].apply(clean_text)\n",
        "df4.head()"
      ],
      "metadata": {
        "id": "6xsJITX6kkCH"
      },
      "execution_count": null,
      "outputs": []
    },
    {
      "cell_type": "code",
      "source": [
        "#@title Remove escape sequences\n",
        "\n",
        "df4['Context'] = df4['Context'].apply(lambda x: re.sub(r'\\s+', ' ', x).strip())\n",
        "df4['Response'] = df4['Response'].apply(lambda x: re.sub(r'\\s+', ' ', x).strip())\n",
        "\n",
        "df4.head()"
      ],
      "metadata": {
        "id": "9D6YarUGow3U"
      },
      "execution_count": null,
      "outputs": []
    },
    {
      "cell_type": "markdown",
      "source": [
        "## Add token"
      ],
      "metadata": {
        "id": "G53Q71uhkyC-"
      }
    },
    {
      "cell_type": "code",
      "source": [
        "df4['Context'] = df4['Context'].apply(lambda x: \"<user> \" + str(x))\n",
        "df4['Response'] = df4['Response'].apply(lambda x: \"<agent> \" + str(x))\n",
        "\n",
        "df4.head()"
      ],
      "metadata": {
        "id": "x0XLgG0zks1u"
      },
      "execution_count": null,
      "outputs": []
    },
    {
      "cell_type": "code",
      "source": [
        "df4['Context'][0]"
      ],
      "metadata": {
        "id": "_VMHn6kBlET-"
      },
      "execution_count": null,
      "outputs": []
    },
    {
      "cell_type": "code",
      "source": [
        "df4['Response'][0]"
      ],
      "metadata": {
        "id": "XYBlclCtlEWJ"
      },
      "execution_count": null,
      "outputs": []
    },
    {
      "cell_type": "markdown",
      "source": [
        "## Visualizations"
      ],
      "metadata": {
        "id": "9WFOgVVyRmfp"
      }
    },
    {
      "cell_type": "code",
      "source": [
        "#@title Cloud image\n",
        "\n",
        "# Join the array of strings into a single string\n",
        "Context = \" \".join(df4[\"Context\"])\n",
        "Response = \" \".join(df4[\"Response\"])\n",
        "\n",
        "# Generate and display a word cloud image (Context)\n",
        "wordcloud = WordCloud(background_color='white').generate(Context)\n",
        "plt.imshow(wordcloud, interpolation='bilinear')\n",
        "plt.axis(\"off\")\n",
        "plt.title(\"Context\")\n",
        "plt.show()\n",
        "\n",
        "# Generate and display a word cloud image (Response)\n",
        "wordcloud = WordCloud(background_color='white').generate(Response)\n",
        "plt.imshow(wordcloud, interpolation='bilinear')\n",
        "plt.axis(\"off\")\n",
        "plt.title(\"Response\")\n",
        "print(\" \")\n",
        "plt.show()"
      ],
      "metadata": {
        "id": "7yXRTnK7Rmfq"
      },
      "execution_count": null,
      "outputs": []
    },
    {
      "cell_type": "code",
      "source": [
        "#@title Most common words\n",
        "\n",
        "# Split the 'Context' documents into words and flatten the list\n",
        "context_words = [word for document in df4[\"Context\"] for word in str(document).split()]\n",
        "\n",
        "# Count the occurrences of each word in 'Context'\n",
        "context_word_counts = Counter(context_words)\n",
        "\n",
        "# Get the most common words and their counts in 'Context'\n",
        "most_common_context_words = context_word_counts.most_common(10)\n",
        "\n",
        "# Unzip the words and their counts in 'Context'\n",
        "context_words, context_counts = zip(*most_common_context_words)\n",
        "\n",
        "# Create and display a bar chart for 'Context'\n",
        "plt.bar(context_words, context_counts)\n",
        "plt.xlabel('Words')\n",
        "plt.ylabel('Frequency')\n",
        "plt.xticks(rotation=45)\n",
        "plt.title(\"Context\")\n",
        "plt.show()\n",
        "\n",
        "# Split the 'Response' documents into words and flatten the list\n",
        "response_words = [word for document in df4[\"Response\"] for word in str(document).split()]\n",
        "\n",
        "# Count the occurrences of each word in 'Response'\n",
        "response_word_counts = Counter(response_words)\n",
        "\n",
        "# Get the most common words and their counts in 'Response'\n",
        "most_common_response_words = response_word_counts.most_common(10)\n",
        "\n",
        "# Unzip the words and their counts in 'Response'\n",
        "response_words, response_counts = zip(*most_common_response_words)\n",
        "\n",
        "# Create and display a bar chart for 'Response'\n",
        "plt.bar(response_words, response_counts)\n",
        "plt.xlabel('Words')\n",
        "plt.ylabel('Frequency')\n",
        "plt.xticks(rotation=45)\n",
        "plt.title(\"Response\")\n",
        "print(\" \")\n",
        "plt.show()"
      ],
      "metadata": {
        "id": "ZldkQ_a7Rmfq"
      },
      "execution_count": null,
      "outputs": []
    },
    {
      "cell_type": "markdown",
      "source": [
        "-------------------"
      ],
      "metadata": {
        "id": "S8nZQZEDRmfq"
      }
    },
    {
      "cell_type": "markdown",
      "source": [
        "# Download data"
      ],
      "metadata": {
        "id": "vvXJfeowpBbi"
      }
    },
    {
      "cell_type": "code",
      "source": [
        "from google.colab import files"
      ],
      "metadata": {
        "id": "GYv9tJH9pTUt"
      },
      "execution_count": null,
      "outputs": []
    },
    {
      "cell_type": "code",
      "source": [
        "#@title Data1\n",
        "\n",
        "df.to_csv('health_data_1.csv', index=False) # Save the DataFrame to a CSV file\n",
        "files.download('health_data_1.csv')"
      ],
      "metadata": {
        "id": "zRDsYjvqpAU1"
      },
      "execution_count": null,
      "outputs": []
    },
    {
      "cell_type": "code",
      "source": [
        "#@title Data2\n",
        "\n",
        "df2.to_csv('health_data_2.csv', index=False) # Save the DataFrame to a CSV file\n",
        "files.download('health_data_2.csv')"
      ],
      "metadata": {
        "id": "NafKh8QRpiVz"
      },
      "execution_count": null,
      "outputs": []
    },
    {
      "cell_type": "code",
      "source": [
        "#@title Data3\n",
        "\n",
        "df3.to_csv('health_data_3.csv', index=False) # Save the DataFrame to a CSV file\n",
        "files.download('health_data_3.csv')"
      ],
      "metadata": {
        "id": "PbHR6QecpiZA"
      },
      "execution_count": null,
      "outputs": []
    },
    {
      "cell_type": "code",
      "source": [
        "#@title Data4\n",
        "\n",
        "df4.to_csv('health_data_4.csv', index=False) # Save the DataFrame to a CSV file\n",
        "files.download('health_data_4.csv')"
      ],
      "metadata": {
        "id": "DYbDFPpspidr"
      },
      "execution_count": null,
      "outputs": []
    }
  ]
}
